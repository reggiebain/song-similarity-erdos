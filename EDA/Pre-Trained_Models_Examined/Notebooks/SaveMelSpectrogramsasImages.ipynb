{
  "nbformat": 4,
  "nbformat_minor": 0,
  "metadata": {
    "colab": {
      "provenance": []
    },
    "kernelspec": {
      "name": "python3",
      "display_name": "Python 3"
    },
    "language_info": {
      "name": "python"
    }
  },
  "cells": [
    {
      "cell_type": "code",
      "source": [
        "# Import the necessary packages, modules, functions, and methods\n",
        "import os\n",
        "import librosa\n",
        "import librosa.display\n",
        "import soundfile\n",
        "import numpy as np\n",
        "import matplotlib.pyplot as plt\n",
        "from matplotlib.colors import Normalize"
      ],
      "metadata": {
        "id": "U0R-n5e-mD6m"
      },
      "execution_count": null,
      "outputs": []
    },
    {
      "cell_type": "code",
      "source": [
        "# mount my google drive so I can import files from there\n",
        "from google.colab import drive\n",
        "drive.mount('/content/drive')"
      ],
      "metadata": {
        "colab": {
          "base_uri": "https://localhost:8080/"
        },
        "id": "_Re6IPqOuoQD",
        "outputId": "6665c0c3-adb2-4680-ede8-9b9d48fcbb3e"
      },
      "execution_count": null,
      "outputs": [
        {
          "output_type": "stream",
          "name": "stdout",
          "text": [
            "Mounted at /content/drive\n"
          ]
        }
      ]
    },
    {
      "cell_type": "code",
      "source": [
        "#function for converting melspectrograms to jpgs is adpated from https://www.kaggle.com/code/muhammadfauzannafiz/save-mel-spectrogram-v2"
      ],
      "metadata": {
        "id": "ROpH3tAcB9KA"
      },
      "execution_count": null,
      "outputs": []
    },
    {
      "cell_type": "code",
      "execution_count": null,
      "metadata": {
        "id": "f73onvrYlnwf"
      },
      "outputs": [],
      "source": [
        "def audio_segment_to_mel_spectrogram_rgb_227(audio_path, output_dir):\n",
        "    # Load the audio file\n",
        "    y, sr = librosa.load(audio_path)\n",
        "\n",
        "    # Generate mel-spectrogram\n",
        "    mel_spectrogram = librosa.feature.melspectrogram(y=y, sr=sr)\n",
        "\n",
        "    # Convert to decibels\n",
        "    mel_spec_db = librosa.power_to_db(mel_spectrogram,ref=np.max)\n",
        "\n",
        "    # Plot mel-spectrogram without axes, title, or colorbar\n",
        "    plt.figure(figsize=(10, 10), dpi=100)\n",
        "    librosa.display.specshow(mel_spec_db, sr=sr)\n",
        "\n",
        "    # Get the original audio file name without extension\n",
        "    audio_filename = os.path.splitext(os.path.basename(audio_path))[0]\n",
        "\n",
        "    # Save the image with the same name as the audio file\n",
        "    output_image_path = os.path.join(output_dir, f'{audio_filename}.jpg')\n",
        "    plt.savefig(output_image_path, bbox_inches='tight', pad_inches=0)\n",
        "    plt.close()"
      ]
    },
    {
      "cell_type": "code",
      "source": [
        "#Convert the 10 pairs of dissimilar songs to melspectrograms and then covert those to images"
      ],
      "metadata": {
        "id": "HKP-aUsFj9Qp"
      },
      "execution_count": null,
      "outputs": []
    },
    {
      "cell_type": "code",
      "source": [
        "fourminpath = \"/content/drive/MyDrive/Non-Pairs/Back In Black - 4'33'' /4'33'' - John Cage.wav\"\n",
        "backpath = \"/content/drive/MyDrive/Non-Pairs/Back In Black - 4'33'' /AC⧸DC - Back In Black.wav\"\n",
        "output_for_audio = '/content/drive/MyDrive/may-summer-2024-team-good-composers-borrow-great-ones-steal/Curl_Ideas_and_Mentioned_Resources/Mel_Spec_jpgs_of_song_pairs'\n",
        "audio_segment_to_mel_spectrogram_rgb_227(fourminpath, output_for_audio)\n",
        "audio_segment_to_mel_spectrogram_rgb_227(backpath, output_for_audio)"
      ],
      "metadata": {
        "id": "qya9hZA8kDDA"
      },
      "execution_count": null,
      "outputs": []
    },
    {
      "cell_type": "code",
      "source": [
        "schoolpath = \"/content/drive/MyDrive/Non-Pairs/Billie Jean - Schools out/Alice Cooper - Schools Out.wav\"\n",
        "billiepath = \"/content/drive/MyDrive/Non-Pairs/Billie Jean - Schools out/Michael Jackson - Billie Jean.wav\"\n",
        "output_for_audio = '/content/drive/MyDrive/may-summer-2024-team-good-composers-borrow-great-ones-steal/Curl_Ideas_and_Mentioned_Resources/Mel_Spec_jpgs_of_song_pairs'\n",
        "audio_segment_to_mel_spectrogram_rgb_227(schoolpath, output_for_audio)\n",
        "audio_segment_to_mel_spectrogram_rgb_227(billiepath, output_for_audio)"
      ],
      "metadata": {
        "id": "ltGPbD59kDGH"
      },
      "execution_count": null,
      "outputs": []
    },
    {
      "cell_type": "code",
      "source": [
        "Heroespath = \"/content/drive/MyDrive/Non-Pairs/Heroes - Hey Ya /David Bowie - Heroes.wav\"\n",
        "heypath = \"/content/drive/MyDrive/Non-Pairs/Heroes - Hey Ya /OutKast - Hey Ya.wav\"\n",
        "output_for_audio = '/content/drive/MyDrive/may-summer-2024-team-good-composers-borrow-great-ones-steal/Curl_Ideas_and_Mentioned_Resources/Mel_Spec_jpgs_of_song_pairs'\n",
        "audio_segment_to_mel_spectrogram_rgb_227(Heroespath, output_for_audio)\n",
        "audio_segment_to_mel_spectrogram_rgb_227(heypath, output_for_audio)"
      ],
      "metadata": {
        "id": "Pii543WykDJK"
      },
      "execution_count": null,
      "outputs": []
    },
    {
      "cell_type": "code",
      "source": [
        "Morningpath = \"/content/drive/MyDrive/Non-Pairs/Peer Gynt Suite No. 1, Op. 46 I. Morning Mood - Pour Some Sugar On Me/Grieg - Peer Gynt Suite No. 1, Op. 46 I. Morning Mood.wav\"\n",
        "Pourpath = \"/content/drive/MyDrive/Non-Pairs/Peer Gynt Suite No. 1, Op. 46 I. Morning Mood - Pour Some Sugar On Me/Pour Some Sugar On Me - Def Leppard.wav\"\n",
        "output_for_audio = '/content/drive/MyDrive/may-summer-2024-team-good-composers-borrow-great-ones-steal/Curl_Ideas_and_Mentioned_Resources/Mel_Spec_jpgs_of_song_pairs'\n",
        "audio_segment_to_mel_spectrogram_rgb_227(Morningpath, output_for_audio)\n",
        "audio_segment_to_mel_spectrogram_rgb_227(Pourpath, output_for_audio)"
      ],
      "metadata": {
        "id": "nzvohq2BkDMe"
      },
      "execution_count": null,
      "outputs": []
    },
    {
      "cell_type": "code",
      "source": [
        "respectpath = \"/content/drive/MyDrive/Non-Pairs/Respect - Love Theme From Romeo & Juliet /Aretha Franklin - Respect.wav\"\n",
        "lovepath = \"/content/drive/MyDrive/Non-Pairs/Respect - Love Theme From Romeo & Juliet /Love Theme From Romeo & Juliet - Pyotr Ilyich Tchaikovsky.wav\"\n",
        "output_for_audio = '/content/drive/MyDrive/may-summer-2024-team-good-composers-borrow-great-ones-steal/Curl_Ideas_and_Mentioned_Resources/Mel_Spec_jpgs_of_song_pairs'\n",
        "audio_segment_to_mel_spectrogram_rgb_227(respectpath, output_for_audio)\n",
        "audio_segment_to_mel_spectrogram_rgb_227(lovepath, output_for_audio)"
      ],
      "metadata": {
        "id": "DQs4lqR6kDPu"
      },
      "execution_count": null,
      "outputs": []
    },
    {
      "cell_type": "code",
      "source": [
        "Avepath = \"/content/drive/MyDrive/Non-Pairs/Smells Like Teen Spirit - Ave Maria/Ave Maria - J.S. Bach and Charles Gounod.wav\"\n",
        "Smellpath = \"/content/drive/MyDrive/Non-Pairs/Smells Like Teen Spirit - Ave Maria/Nirvana - Smells Like Teen Spirit.wav\"\n",
        "output_for_audio = '/content/drive/MyDrive/may-summer-2024-team-good-composers-borrow-great-ones-steal/Curl_Ideas_and_Mentioned_Resources/Mel_Spec_jpgs_of_song_pairs'\n",
        "audio_segment_to_mel_spectrogram_rgb_227(Avepath, output_for_audio)\n",
        "audio_segment_to_mel_spectrogram_rgb_227(Smellpath, output_for_audio)"
      ],
      "metadata": {
        "id": "W928FLt4kDSg"
      },
      "execution_count": null,
      "outputs": []
    },
    {
      "cell_type": "code",
      "source": [
        "fightpath = \"/content/drive/MyDrive/Non-Pairs/Take Five - Fight the Power/Public Enemy - Fight the Power.wav\"\n",
        "takepath = \"/content/drive/MyDrive/Non-Pairs/Take Five - Fight the Power/The Dave Brubeck Quartet - Take Five.wav\"\n",
        "output_for_audio = '/content/drive/MyDrive/may-summer-2024-team-good-composers-borrow-great-ones-steal/Curl_Ideas_and_Mentioned_Resources/Mel_Spec_jpgs_of_song_pairs'\n",
        "audio_segment_to_mel_spectrogram_rgb_227(fightpath, output_for_audio)\n",
        "audio_segment_to_mel_spectrogram_rgb_227(takepath, output_for_audio)"
      ],
      "metadata": {
        "id": "iGA-nm7vl-Tg"
      },
      "execution_count": null,
      "outputs": []
    },
    {
      "cell_type": "code",
      "source": [
        "nocturnepath = \"/content/drive/MyDrive/Non-Pairs/Tequila - Nocturne in E Flat Major (Op. 9 No. 2)/Chopin - Nocturne in E Flat Major (Op. 9 No. 2).wav\"\n",
        "tequilapath = \"/content/drive/MyDrive/Non-Pairs/Tequila - Nocturne in E Flat Major (Op. 9 No. 2)/Tequila - The Champs.wav\"\n",
        "output_for_audio = '/content/drive/MyDrive/may-summer-2024-team-good-composers-borrow-great-ones-steal/Curl_Ideas_and_Mentioned_Resources/Mel_Spec_jpgs_of_song_pairs'\n",
        "audio_segment_to_mel_spectrogram_rgb_227(nocturnepath, output_for_audio)\n",
        "audio_segment_to_mel_spectrogram_rgb_227(tequilapath, output_for_audio)"
      ],
      "metadata": {
        "id": "TYLMm7Zel-Zs"
      },
      "execution_count": null,
      "outputs": []
    },
    {
      "cell_type": "code",
      "source": [
        "toccatapath = \"/content/drive/MyDrive/Non-Pairs/Toccata and Fugue in D minor BWV 565 - Master Of Puppets /J.S. Bach - Toccata and Fugue in D minor BWV 565.wav\"\n",
        "masterpath = \"/content/drive/MyDrive/Non-Pairs/Toccata and Fugue in D minor BWV 565 - Master Of Puppets /Master Of Puppets - Metallica.wav\"\n",
        "output_for_audio = '/content/drive/MyDrive/may-summer-2024-team-good-composers-borrow-great-ones-steal/Curl_Ideas_and_Mentioned_Resources/Mel_Spec_jpgs_of_song_pairs'\n",
        "audio_segment_to_mel_spectrogram_rgb_227(toccatapath, output_for_audio)\n",
        "audio_segment_to_mel_spectrogram_rgb_227(masterpath, output_for_audio)"
      ],
      "metadata": {
        "id": "ZcF3d1oWl-ge"
      },
      "execution_count": null,
      "outputs": []
    },
    {
      "cell_type": "code",
      "source": [
        "athousandpath = \"/content/drive/MyDrive/Non-Pairs/Yakety Sax - A Thousand miles /Vanessa Carlton - A Thousand Miles.wav\"\n",
        "yaketypath = \"/content/drive/MyDrive/Non-Pairs/Yakety Sax - A Thousand miles /Yakety Sax - Boots Randolph.wav\"\n",
        "output_for_audio = '/content/drive/MyDrive/may-summer-2024-team-good-composers-borrow-great-ones-steal/Curl_Ideas_and_Mentioned_Resources/Mel_Spec_jpgs_of_song_pairs'\n",
        "audio_segment_to_mel_spectrogram_rgb_227(athousandpath, output_for_audio)\n",
        "audio_segment_to_mel_spectrogram_rgb_227(yaketypath, output_for_audio)"
      ],
      "metadata": {
        "id": "VgoUnyFZl-l7"
      },
      "execution_count": null,
      "outputs": []
    },
    {
      "cell_type": "code",
      "source": [
        "#Convert the 20 pairs of similar songs to melspectrograms and then covert those to images"
      ],
      "metadata": {
        "id": "zXE5rtV81568"
      },
      "execution_count": null,
      "outputs": []
    },
    {
      "cell_type": "code",
      "source": [
        "babypath = '/content/drive/MyDrive/Pairs/UnderPressure-IceIceBaby/IceIceBaby_full.wav'\n",
        "pressurepath = '/content/drive/MyDrive/Pairs/UnderPressure-IceIceBaby/UnderPressure_full.wav'\n",
        "output_for_audio = '/content/drive/MyDrive/Mel_Spec_jpgs_of_song_pairs'\n",
        "audio_segment_to_mel_spectrogram_rgb_227(babypath, output_for_audio)\n",
        "audio_segment_to_mel_spectrogram_rgb_227(pressurepath, output_for_audio)"
      ],
      "metadata": {
        "id": "8eQ0YeW1P8-n"
      },
      "execution_count": null,
      "outputs": []
    },
    {
      "cell_type": "code",
      "source": [
        "bittersweetpath = '/content/drive/MyDrive/Pairs/BittersweetSymphony-TheLastTime/BittersweetSymphony_full.wav'\n",
        "lasttimepath = '/content/drive/MyDrive/Pairs/BittersweetSymphony-TheLastTime/TheLastTime_full.wav'\n",
        "output_for_audio = '/content/drive/MyDrive/Mel_Spec_jpgs_of_song_pairs'\n",
        "audio_segment_to_mel_spectrogram_rgb_227(bittersweetpath, output_for_audio)\n",
        "audio_segment_to_mel_spectrogram_rgb_227(lasttimepath, output_for_audio)"
      ],
      "metadata": {
        "id": "Z30VAYdmP9DN"
      },
      "execution_count": null,
      "outputs": []
    },
    {
      "cell_type": "code",
      "source": [
        "gottagivepath = '/content/drive/MyDrive/Pairs/BlurredLines-GottaGiveItUp/GottaGiveItUp_full.wav'\n",
        "blurredpath = '/content/drive/MyDrive/Pairs/BlurredLines-GottaGiveItUp/blurredlines_full.wav'\n",
        "output_for_audio = '/content/drive/MyDrive/Mel_Spec_jpgs_of_song_pairs'\n",
        "audio_segment_to_mel_spectrogram_rgb_227(gottagivepath, output_for_audio)\n",
        "audio_segment_to_mel_spectrogram_rgb_227(blurredpath, output_for_audio)"
      ],
      "metadata": {
        "id": "2zJ7OzX8P9GY"
      },
      "execution_count": null,
      "outputs": []
    },
    {
      "cell_type": "code",
      "source": [
        "comeaspath = '/content/drive/MyDrive/Pairs/ComeAsYouAre-TheKillingJoke/ComeAsYouAre_full.wav'\n",
        "jokepath = '/content/drive/MyDrive/Pairs/ComeAsYouAre-TheKillingJoke/TheKillingJoke_full.wav'\n",
        "output_for_audio = '/content/drive/MyDrive/Mel_Spec_jpgs_of_song_pairs'\n",
        "audio_segment_to_mel_spectrogram_rgb_227(comeaspath, output_for_audio)\n",
        "audio_segment_to_mel_spectrogram_rgb_227(jokepath, output_for_audio)"
      ],
      "metadata": {
        "id": "5usgNNENx_Vr"
      },
      "execution_count": null,
      "outputs": []
    },
    {
      "cell_type": "code",
      "source": [
        "cometopath = '/content/drive/MyDrive/Pairs/ComeTogether-YouCantCatchMe/ComeTogether_full.wav'\n",
        "catchmepath = '/content/drive/MyDrive/Pairs/ComeTogether-YouCantCatchMe/YouCantCatchMe_full.wav'\n",
        "output_for_audio = '/content/drive/MyDrive/Mel_Spec_jpgs_of_song_pairs'\n",
        "audio_segment_to_mel_spectrogram_rgb_227(cometopath, output_for_audio)\n",
        "audio_segment_to_mel_spectrogram_rgb_227(catchmepath, output_for_audio)"
      ],
      "metadata": {
        "id": "5QTXddSTyVKS"
      },
      "execution_count": null,
      "outputs": []
    },
    {
      "cell_type": "code",
      "source": [
        "creeppath = '/content/drive/MyDrive/Pairs/Creep-GetFree/Creep_full.wav'\n",
        "getfreepath = '/content/drive/MyDrive/Pairs/Creep-GetFree/GetFree_full.wav'\n",
        "output_for_audio = '/content/drive/MyDrive/Mel_Spec_jpgs_of_song_pairs'\n",
        "audio_segment_to_mel_spectrogram_rgb_227(creeppath, output_for_audio)\n",
        "audio_segment_to_mel_spectrogram_rgb_227(getfreepath, output_for_audio)"
      ],
      "metadata": {
        "id": "n6nUqja4yisO"
      },
      "execution_count": null,
      "outputs": []
    },
    {
      "cell_type": "code",
      "source": [
        "creep2path = '/content/drive/MyDrive/Pairs/Creep-TheAirThatIBreath/Creep_full.wav'\n",
        "airpath = '/content/drive/MyDrive/Pairs/Creep-TheAirThatIBreath/TheAirThatIBreathe_full.wav'\n",
        "output_for_audio = '/content/drive/MyDrive/Mel_Spec_jpgs_of_song_pairs'\n",
        "audio_segment_to_mel_spectrogram_rgb_227(creep2path, output_for_audio)\n",
        "audio_segment_to_mel_spectrogram_rgb_227(airpath, output_for_audio)"
      ],
      "metadata": {
        "id": "V80CquLyyr7D"
      },
      "execution_count": null,
      "outputs": []
    },
    {
      "cell_type": "code",
      "source": [
        "darkhorsepath = '/content/drive/MyDrive/Pairs/DarkHorse-JoyfulNoise/DarkHorse_full.wav'\n",
        "joyfulpath = '/content/drive/MyDrive/Pairs/DarkHorse-JoyfulNoise/JoyfulNoise_full.wav'\n",
        "output_for_audio = '/content/drive/MyDrive/Mel_Spec_jpgs_of_song_pairs'\n",
        "audio_segment_to_mel_spectrogram_rgb_227(darkhorsepath, output_for_audio)\n",
        "audio_segment_to_mel_spectrogram_rgb_227(joyfulpath, output_for_audio)"
      ],
      "metadata": {
        "id": "tsOVEdP-y9JZ"
      },
      "execution_count": null,
      "outputs": []
    },
    {
      "cell_type": "code",
      "source": [
        "doyapath = '/content/drive/MyDrive/Pairs/DoYaThinkImSexy-TajMahal/DoYaThinkImSexy_full.wav'\n",
        "tajpath = '/content/drive/MyDrive/Pairs/DoYaThinkImSexy-TajMahal/TajMahal_full.wav'\n",
        "output_for_audio = '/content/drive/MyDrive/Mel_Spec_jpgs_of_song_pairs'\n",
        "audio_segment_to_mel_spectrogram_rgb_227(doyapath, output_for_audio)\n",
        "audio_segment_to_mel_spectrogram_rgb_227(tajpath, output_for_audio)"
      ],
      "metadata": {
        "id": "nh5tmSTnzK-N"
      },
      "execution_count": null,
      "outputs": []
    },
    {
      "cell_type": "code",
      "source": [
        "ghostpath = '/content/drive/MyDrive/Pairs/Ghostbusters-IWantaNewDrug/Ghostbusters_full.wav'\n",
        "newdrugpath = '/content/drive/MyDrive/Pairs/Ghostbusters-IWantaNewDrug/IWantaNewDrug_full.wav'\n",
        "output_for_audio = '/content/drive/MyDrive/Mel_Spec_jpgs_of_song_pairs'\n",
        "audio_segment_to_mel_spectrogram_rgb_227(ghostpath, output_for_audio)\n",
        "audio_segment_to_mel_spectrogram_rgb_227(newdrugpath, output_for_audio)"
      ],
      "metadata": {
        "id": "WwOUrGdFzYmI"
      },
      "execution_count": null,
      "outputs": []
    },
    {
      "cell_type": "code",
      "source": [
        "good4path = '/content/drive/MyDrive/Pairs/Good4u-MiseryBusiness/Good4u_full.wav'\n",
        "miserypath = '/content/drive/MyDrive/Pairs/Good4u-MiseryBusiness/MiseryBusiness_full.wav'\n",
        "output_for_audio = '/content/drive/MyDrive/Mel_Spec_jpgs_of_song_pairs'\n",
        "audio_segment_to_mel_spectrogram_rgb_227(good4path, output_for_audio)\n",
        "audio_segment_to_mel_spectrogram_rgb_227(miserypath, output_for_audio)"
      ],
      "metadata": {
        "id": "nADM9iNLzlcG"
      },
      "execution_count": null,
      "outputs": []
    },
    {
      "cell_type": "code",
      "source": [
        "worldsingpath = \"/content/drive/MyDrive/Pairs/I'dliketoteachtheworldtosing-Shakermaker/I'dLiketoTeaktheworldtosing_full.wav\"\n",
        "shakermakerpath = \"/content/drive/MyDrive/Pairs/I'dliketoteachtheworldtosing-Shakermaker/Shakermaker_full.wav\"\n",
        "output_for_audio = '/content/drive/MyDrive/Mel_Spec_jpgs_of_song_pairs'\n",
        "audio_segment_to_mel_spectrogram_rgb_227(worldsingpath, output_for_audio)\n",
        "audio_segment_to_mel_spectrogram_rgb_227(shakermakerpath, output_for_audio)"
      ],
      "metadata": {
        "id": "Yu2sMLKpz3Lm"
      },
      "execution_count": null,
      "outputs": []
    },
    {
      "cell_type": "code",
      "source": [
        "letsgetpath = \"/content/drive/MyDrive/Pairs/LetsGetItOn-ThinkingOutLoud/LetsGetItOn_full.wav\"\n",
        "thinkingpath = \"/content/drive/MyDrive/Pairs/LetsGetItOn-ThinkingOutLoud/ThinkingOutLoud_full.wav\"\n",
        "output_for_audio = '/content/drive/MyDrive/Mel_Spec_jpgs_of_song_pairs'\n",
        "audio_segment_to_mel_spectrogram_rgb_227(letsgetpath, output_for_audio)\n",
        "audio_segment_to_mel_spectrogram_rgb_227(thinkingpath, output_for_audio)"
      ],
      "metadata": {
        "id": "J6v2ZjkK0LoS"
      },
      "execution_count": null,
      "outputs": []
    },
    {
      "cell_type": "code",
      "source": [
        "hessopath = \"/content/drive/MyDrive/Pairs/MySweetLord-HesSoFine/Hessofine_full.wav\"\n",
        "sweetlordpath = \"/content/drive/MyDrive/Pairs/MySweetLord-HesSoFine/MySweetLord_full.wav\"\n",
        "output_for_audio = '/content/drive/MyDrive/Mel_Spec_jpgs_of_song_pairs'\n",
        "audio_segment_to_mel_spectrogram_rgb_227(hessopath, output_for_audio)\n",
        "audio_segment_to_mel_spectrogram_rgb_227(sweetlordpath, output_for_audio)"
      ],
      "metadata": {
        "id": "Kl9YQTkv0e6D"
      },
      "execution_count": null,
      "outputs": []
    },
    {
      "cell_type": "code",
      "source": [
        "heavenpath = \"/content/drive/MyDrive/Pairs/StairwaytoHeaven-Taurus/StairwaytoHeaven_full.wav\"\n",
        "tauruspath = \"/content/drive/MyDrive/Pairs/StairwaytoHeaven-Taurus/Taurus_full.wav\"\n",
        "output_for_audio = '/content/drive/MyDrive/Mel_Spec_jpgs_of_song_pairs'\n",
        "audio_segment_to_mel_spectrogram_rgb_227(heavenpath, output_for_audio)\n",
        "audio_segment_to_mel_spectrogram_rgb_227(tauruspath, output_for_audio)"
      ],
      "metadata": {
        "id": "Q-KrBrMq0qRv"
      },
      "execution_count": null,
      "outputs": []
    },
    {
      "cell_type": "code",
      "source": [
        "wontbackpath = \"/content/drive/MyDrive/Pairs/StayWithMe-IWontBackDown/IWontBackDown_full.wav\"\n",
        "staypath = \"/content/drive/MyDrive/Pairs/StayWithMe-IWontBackDown/StayWithMe_full.wav\"\n",
        "output_for_audio = '/content/drive/MyDrive/Mel_Spec_jpgs_of_song_pairs'\n",
        "audio_segment_to_mel_spectrogram_rgb_227(wontbackpath, output_for_audio)\n",
        "audio_segment_to_mel_spectrogram_rgb_227(staypath, output_for_audio)"
      ],
      "metadata": {
        "id": "XohJpbEw01JU"
      },
      "execution_count": null,
      "outputs": []
    },
    {
      "cell_type": "code",
      "source": [
        "surfinpath = \"/content/drive/MyDrive/Pairs/SurfinUSA-SweetLittleSixteen/SurfinUSA_full.wav\"\n",
        "sweetlittlepath = \"/content/drive/MyDrive/Pairs/SurfinUSA-SweetLittleSixteen/SweetLittleSixteen_full.wav\"\n",
        "output_for_audio = '/content/drive/MyDrive/Mel_Spec_jpgs_of_song_pairs'\n",
        "audio_segment_to_mel_spectrogram_rgb_227(surfinpath, output_for_audio)\n",
        "audio_segment_to_mel_spectrogram_rgb_227(sweetlittlepath, output_for_audio)"
      ],
      "metadata": {
        "id": "LBujecCN1DLT"
      },
      "execution_count": null,
      "outputs": []
    },
    {
      "cell_type": "code",
      "source": [
        "transmitmarspath = \"/content/drive/MyDrive/Pairs/TransmittingLivefromMars-YouShowedMe/TransmittingLivefromMars_full.wav\"\n",
        "youshowedpath = \"/content/drive/MyDrive/Pairs/TransmittingLivefromMars-YouShowedMe/YouShowedMe_full.wav\"\n",
        "output_for_audio = '/content/drive/MyDrive/Mel_Spec_jpgs_of_song_pairs'\n",
        "audio_segment_to_mel_spectrogram_rgb_227(transmitmarspath, output_for_audio)\n",
        "audio_segment_to_mel_spectrogram_rgb_227(youshowedpath, output_for_audio)"
      ],
      "metadata": {
        "id": "NU8StR6M1Oxd"
      },
      "execution_count": null,
      "outputs": []
    },
    {
      "cell_type": "code",
      "source": [
        "ificouldflypath = \"/content/drive/MyDrive/Pairs/VivaLaVida-IfICouldFly/IfICouldFly_full.wav\"\n",
        "vivalapath = \"/content/drive/MyDrive/Pairs/VivaLaVida-IfICouldFly/VivaLaVida_full.wav\"\n",
        "output_for_audio = '/content/drive/MyDrive/Mel_Spec_jpgs_of_song_pairs'\n",
        "audio_segment_to_mel_spectrogram_rgb_227(ificouldflypath, output_for_audio)\n",
        "audio_segment_to_mel_spectrogram_rgb_227(vivalapath, output_for_audio)"
      ],
      "metadata": {
        "id": "Dw7ynXDU1QlU"
      },
      "execution_count": null,
      "outputs": []
    },
    {
      "cell_type": "code",
      "source": [
        "wholelottapath = \"/content/drive/MyDrive/Pairs/YouNeedLove_WholeLottaLove/WholeLottaLove_full.wav\"\n",
        "youneedlovepath = \"/content/drive/MyDrive/Pairs/YouNeedLove_WholeLottaLove/YouNeedLove_full.wav\"\n",
        "output_for_audio = '/content/drive/MyDrive/Mel_Spec_jpgs_of_song_pairs'\n",
        "audio_segment_to_mel_spectrogram_rgb_227(wholelottapath, output_for_audio)\n",
        "audio_segment_to_mel_spectrogram_rgb_227(youneedlovepath, output_for_audio)"
      ],
      "metadata": {
        "id": "j9Kg1dMP1Qr6"
      },
      "execution_count": null,
      "outputs": []
    }
  ]
}