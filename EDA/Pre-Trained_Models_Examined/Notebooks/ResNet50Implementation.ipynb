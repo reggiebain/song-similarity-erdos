{
  "nbformat": 4,
  "nbformat_minor": 0,
  "metadata": {
    "colab": {
      "provenance": [],
      "machine_shape": "hm"
    },
    "kernelspec": {
      "name": "python3",
      "display_name": "Python 3"
    },
    "language_info": {
      "name": "python"
    }
  },
  "cells": [
    {
      "cell_type": "code",
      "execution_count": 1,
      "metadata": {
        "colab": {
          "base_uri": "https://localhost:8080/"
        },
        "id": "LLz6NHr-Gw--",
        "outputId": "15d4e367-6732-41f2-c61b-87e330f369d4"
      },
      "outputs": [
        {
          "output_type": "stream",
          "name": "stdout",
          "text": [
            "Requirement already satisfied: spatial in /usr/local/lib/python3.10/dist-packages (0.2.0)\n"
          ]
        }
      ],
      "source": [
        "!pip install spatial"
      ]
    },
    {
      "cell_type": "code",
      "source": [
        "!pip install scipy"
      ],
      "metadata": {
        "colab": {
          "base_uri": "https://localhost:8080/"
        },
        "id": "IehGRHQUG_X0",
        "outputId": "4c43e958-c934-49a5-f8e7-2b11d8eeb68f"
      },
      "execution_count": 2,
      "outputs": [
        {
          "output_type": "stream",
          "name": "stdout",
          "text": [
            "Requirement already satisfied: scipy in /usr/local/lib/python3.10/dist-packages (1.13.1)\n",
            "Requirement already satisfied: numpy<2.3,>=1.22.4 in /usr/local/lib/python3.10/dist-packages (from scipy) (1.26.4)\n"
          ]
        }
      ]
    },
    {
      "cell_type": "code",
      "source": [
        "!pip install sktime"
      ],
      "metadata": {
        "colab": {
          "base_uri": "https://localhost:8080/"
        },
        "id": "oWP4WnrQpjSB",
        "outputId": "6bf2e18e-7527-4071-dbd5-7b6a2dcef0f4"
      },
      "execution_count": 3,
      "outputs": [
        {
          "output_type": "stream",
          "name": "stdout",
          "text": [
            "Requirement already satisfied: sktime in /usr/local/lib/python3.10/dist-packages (0.32.1)\n",
            "Requirement already satisfied: joblib<1.5,>=1.2.0 in /usr/local/lib/python3.10/dist-packages (from sktime) (1.4.2)\n",
            "Requirement already satisfied: numpy<2.1,>=1.21 in /usr/local/lib/python3.10/dist-packages (from sktime) (1.26.4)\n",
            "Requirement already satisfied: packaging in /usr/local/lib/python3.10/dist-packages (from sktime) (24.1)\n",
            "Requirement already satisfied: pandas<2.3.0,>=1.1 in /usr/local/lib/python3.10/dist-packages (from sktime) (2.1.4)\n",
            "Requirement already satisfied: scikit-base<0.9.0,>=0.6.1 in /usr/local/lib/python3.10/dist-packages (from sktime) (0.8.3)\n",
            "Requirement already satisfied: scikit-learn<1.6.0,>=0.24 in /usr/local/lib/python3.10/dist-packages (from sktime) (1.3.2)\n",
            "Requirement already satisfied: scipy<2.0.0,>=1.2 in /usr/local/lib/python3.10/dist-packages (from sktime) (1.13.1)\n",
            "Requirement already satisfied: python-dateutil>=2.8.2 in /usr/local/lib/python3.10/dist-packages (from pandas<2.3.0,>=1.1->sktime) (2.8.2)\n",
            "Requirement already satisfied: pytz>=2020.1 in /usr/local/lib/python3.10/dist-packages (from pandas<2.3.0,>=1.1->sktime) (2024.1)\n",
            "Requirement already satisfied: tzdata>=2022.1 in /usr/local/lib/python3.10/dist-packages (from pandas<2.3.0,>=1.1->sktime) (2024.1)\n",
            "Requirement already satisfied: threadpoolctl>=2.0.0 in /usr/local/lib/python3.10/dist-packages (from scikit-learn<1.6.0,>=0.24->sktime) (3.5.0)\n",
            "Requirement already satisfied: six>=1.5 in /usr/local/lib/python3.10/dist-packages (from python-dateutil>=2.8.2->pandas<2.3.0,>=1.1->sktime) (1.16.0)\n"
          ]
        }
      ]
    },
    {
      "cell_type": "code",
      "source": [
        "!pip install dtaidistance"
      ],
      "metadata": {
        "colab": {
          "base_uri": "https://localhost:8080/"
        },
        "id": "M_T5F703pj4U",
        "outputId": "23c7dcb4-a37d-4c98-f032-1e88737fadf6"
      },
      "execution_count": 4,
      "outputs": [
        {
          "output_type": "stream",
          "name": "stdout",
          "text": [
            "Requirement already satisfied: dtaidistance in /usr/local/lib/python3.10/dist-packages (2.3.12)\n",
            "Requirement already satisfied: numpy in /usr/local/lib/python3.10/dist-packages (from dtaidistance) (1.26.4)\n"
          ]
        }
      ]
    },
    {
      "cell_type": "code",
      "source": [
        "# The idea of this notebook is to use the pretrained model ResNet50 and to measure similarity"
      ],
      "metadata": {
        "id": "gQEju0BtHCWy"
      },
      "execution_count": null,
      "outputs": []
    },
    {
      "cell_type": "code",
      "source": [
        "# Import the necessary packages, modules, functions, and methods\n",
        "import torch\n",
        "import torchvision\n",
        "from torchvision import models\n",
        "import spatial\n",
        "import scipy.spatial.distance\n",
        "from torchsummary import summary\n",
        "from keras.models import Model\n",
        "import sktime\n",
        "from sktime.distances import euclidean_distance\n",
        "from dtaidistance import dtw\n",
        "import dtaidistance\n",
        "from sklearn import preprocessing"
      ],
      "metadata": {
        "id": "JbyLjyQmHFTf"
      },
      "execution_count": 5,
      "outputs": []
    },
    {
      "cell_type": "code",
      "source": [
        "# mount my google drive so I can import files from there\n",
        "from google.colab import drive\n",
        "drive.mount('/content/drive')"
      ],
      "metadata": {
        "colab": {
          "base_uri": "https://localhost:8080/"
        },
        "id": "36gKigDQHFYJ",
        "outputId": "73babbaa-3c29-4318-89e1-44f606e060c2"
      },
      "execution_count": 6,
      "outputs": [
        {
          "output_type": "stream",
          "name": "stdout",
          "text": [
            "Drive already mounted at /content/drive; to attempt to forcibly remount, call drive.mount(\"/content/drive\", force_remount=True).\n"
          ]
        }
      ]
    },
    {
      "cell_type": "code",
      "source": [
        "# Load the pre-trained ResNet50 model\n",
        "resnet = models.resnet50(pretrained=True)"
      ],
      "metadata": {
        "colab": {
          "base_uri": "https://localhost:8080/"
        },
        "id": "kx5SVUQOHFbN",
        "outputId": "e2e39d6e-ba56-4676-99dc-9a2196920dc8"
      },
      "execution_count": 7,
      "outputs": [
        {
          "output_type": "stream",
          "name": "stderr",
          "text": [
            "/usr/local/lib/python3.10/dist-packages/torchvision/models/_utils.py:208: UserWarning: The parameter 'pretrained' is deprecated since 0.13 and may be removed in the future, please use 'weights' instead.\n",
            "  warnings.warn(\n",
            "/usr/local/lib/python3.10/dist-packages/torchvision/models/_utils.py:223: UserWarning: Arguments other than a weight enum or `None` for 'weights' are deprecated since 0.13 and may be removed in the future. The current behavior is equivalent to passing `weights=ResNet50_Weights.IMAGENET1K_V1`. You can also use `weights=ResNet50_Weights.DEFAULT` to get the most up-to-date weights.\n",
            "  warnings.warn(msg)\n"
          ]
        }
      ]
    },
    {
      "cell_type": "code",
      "source": [
        "#show the layers of ResNet50\n",
        "summary(resnet, (3, 224, 224))"
      ],
      "metadata": {
        "colab": {
          "base_uri": "https://localhost:8080/"
        },
        "id": "GyBoZHCrHFdy",
        "outputId": "cdaface0-eb58-443e-9d87-4251a2391652"
      },
      "execution_count": 8,
      "outputs": [
        {
          "output_type": "stream",
          "name": "stdout",
          "text": [
            "----------------------------------------------------------------\n",
            "        Layer (type)               Output Shape         Param #\n",
            "================================================================\n",
            "            Conv2d-1         [-1, 64, 112, 112]           9,408\n",
            "       BatchNorm2d-2         [-1, 64, 112, 112]             128\n",
            "              ReLU-3         [-1, 64, 112, 112]               0\n",
            "         MaxPool2d-4           [-1, 64, 56, 56]               0\n",
            "            Conv2d-5           [-1, 64, 56, 56]           4,096\n",
            "       BatchNorm2d-6           [-1, 64, 56, 56]             128\n",
            "              ReLU-7           [-1, 64, 56, 56]               0\n",
            "            Conv2d-8           [-1, 64, 56, 56]          36,864\n",
            "       BatchNorm2d-9           [-1, 64, 56, 56]             128\n",
            "             ReLU-10           [-1, 64, 56, 56]               0\n",
            "           Conv2d-11          [-1, 256, 56, 56]          16,384\n",
            "      BatchNorm2d-12          [-1, 256, 56, 56]             512\n",
            "           Conv2d-13          [-1, 256, 56, 56]          16,384\n",
            "      BatchNorm2d-14          [-1, 256, 56, 56]             512\n",
            "             ReLU-15          [-1, 256, 56, 56]               0\n",
            "       Bottleneck-16          [-1, 256, 56, 56]               0\n",
            "           Conv2d-17           [-1, 64, 56, 56]          16,384\n",
            "      BatchNorm2d-18           [-1, 64, 56, 56]             128\n",
            "             ReLU-19           [-1, 64, 56, 56]               0\n",
            "           Conv2d-20           [-1, 64, 56, 56]          36,864\n",
            "      BatchNorm2d-21           [-1, 64, 56, 56]             128\n",
            "             ReLU-22           [-1, 64, 56, 56]               0\n",
            "           Conv2d-23          [-1, 256, 56, 56]          16,384\n",
            "      BatchNorm2d-24          [-1, 256, 56, 56]             512\n",
            "             ReLU-25          [-1, 256, 56, 56]               0\n",
            "       Bottleneck-26          [-1, 256, 56, 56]               0\n",
            "           Conv2d-27           [-1, 64, 56, 56]          16,384\n",
            "      BatchNorm2d-28           [-1, 64, 56, 56]             128\n",
            "             ReLU-29           [-1, 64, 56, 56]               0\n",
            "           Conv2d-30           [-1, 64, 56, 56]          36,864\n",
            "      BatchNorm2d-31           [-1, 64, 56, 56]             128\n",
            "             ReLU-32           [-1, 64, 56, 56]               0\n",
            "           Conv2d-33          [-1, 256, 56, 56]          16,384\n",
            "      BatchNorm2d-34          [-1, 256, 56, 56]             512\n",
            "             ReLU-35          [-1, 256, 56, 56]               0\n",
            "       Bottleneck-36          [-1, 256, 56, 56]               0\n",
            "           Conv2d-37          [-1, 128, 56, 56]          32,768\n",
            "      BatchNorm2d-38          [-1, 128, 56, 56]             256\n",
            "             ReLU-39          [-1, 128, 56, 56]               0\n",
            "           Conv2d-40          [-1, 128, 28, 28]         147,456\n",
            "      BatchNorm2d-41          [-1, 128, 28, 28]             256\n",
            "             ReLU-42          [-1, 128, 28, 28]               0\n",
            "           Conv2d-43          [-1, 512, 28, 28]          65,536\n",
            "      BatchNorm2d-44          [-1, 512, 28, 28]           1,024\n",
            "           Conv2d-45          [-1, 512, 28, 28]         131,072\n",
            "      BatchNorm2d-46          [-1, 512, 28, 28]           1,024\n",
            "             ReLU-47          [-1, 512, 28, 28]               0\n",
            "       Bottleneck-48          [-1, 512, 28, 28]               0\n",
            "           Conv2d-49          [-1, 128, 28, 28]          65,536\n",
            "      BatchNorm2d-50          [-1, 128, 28, 28]             256\n",
            "             ReLU-51          [-1, 128, 28, 28]               0\n",
            "           Conv2d-52          [-1, 128, 28, 28]         147,456\n",
            "      BatchNorm2d-53          [-1, 128, 28, 28]             256\n",
            "             ReLU-54          [-1, 128, 28, 28]               0\n",
            "           Conv2d-55          [-1, 512, 28, 28]          65,536\n",
            "      BatchNorm2d-56          [-1, 512, 28, 28]           1,024\n",
            "             ReLU-57          [-1, 512, 28, 28]               0\n",
            "       Bottleneck-58          [-1, 512, 28, 28]               0\n",
            "           Conv2d-59          [-1, 128, 28, 28]          65,536\n",
            "      BatchNorm2d-60          [-1, 128, 28, 28]             256\n",
            "             ReLU-61          [-1, 128, 28, 28]               0\n",
            "           Conv2d-62          [-1, 128, 28, 28]         147,456\n",
            "      BatchNorm2d-63          [-1, 128, 28, 28]             256\n",
            "             ReLU-64          [-1, 128, 28, 28]               0\n",
            "           Conv2d-65          [-1, 512, 28, 28]          65,536\n",
            "      BatchNorm2d-66          [-1, 512, 28, 28]           1,024\n",
            "             ReLU-67          [-1, 512, 28, 28]               0\n",
            "       Bottleneck-68          [-1, 512, 28, 28]               0\n",
            "           Conv2d-69          [-1, 128, 28, 28]          65,536\n",
            "      BatchNorm2d-70          [-1, 128, 28, 28]             256\n",
            "             ReLU-71          [-1, 128, 28, 28]               0\n",
            "           Conv2d-72          [-1, 128, 28, 28]         147,456\n",
            "      BatchNorm2d-73          [-1, 128, 28, 28]             256\n",
            "             ReLU-74          [-1, 128, 28, 28]               0\n",
            "           Conv2d-75          [-1, 512, 28, 28]          65,536\n",
            "      BatchNorm2d-76          [-1, 512, 28, 28]           1,024\n",
            "             ReLU-77          [-1, 512, 28, 28]               0\n",
            "       Bottleneck-78          [-1, 512, 28, 28]               0\n",
            "           Conv2d-79          [-1, 256, 28, 28]         131,072\n",
            "      BatchNorm2d-80          [-1, 256, 28, 28]             512\n",
            "             ReLU-81          [-1, 256, 28, 28]               0\n",
            "           Conv2d-82          [-1, 256, 14, 14]         589,824\n",
            "      BatchNorm2d-83          [-1, 256, 14, 14]             512\n",
            "             ReLU-84          [-1, 256, 14, 14]               0\n",
            "           Conv2d-85         [-1, 1024, 14, 14]         262,144\n",
            "      BatchNorm2d-86         [-1, 1024, 14, 14]           2,048\n",
            "           Conv2d-87         [-1, 1024, 14, 14]         524,288\n",
            "      BatchNorm2d-88         [-1, 1024, 14, 14]           2,048\n",
            "             ReLU-89         [-1, 1024, 14, 14]               0\n",
            "       Bottleneck-90         [-1, 1024, 14, 14]               0\n",
            "           Conv2d-91          [-1, 256, 14, 14]         262,144\n",
            "      BatchNorm2d-92          [-1, 256, 14, 14]             512\n",
            "             ReLU-93          [-1, 256, 14, 14]               0\n",
            "           Conv2d-94          [-1, 256, 14, 14]         589,824\n",
            "      BatchNorm2d-95          [-1, 256, 14, 14]             512\n",
            "             ReLU-96          [-1, 256, 14, 14]               0\n",
            "           Conv2d-97         [-1, 1024, 14, 14]         262,144\n",
            "      BatchNorm2d-98         [-1, 1024, 14, 14]           2,048\n",
            "             ReLU-99         [-1, 1024, 14, 14]               0\n",
            "      Bottleneck-100         [-1, 1024, 14, 14]               0\n",
            "          Conv2d-101          [-1, 256, 14, 14]         262,144\n",
            "     BatchNorm2d-102          [-1, 256, 14, 14]             512\n",
            "            ReLU-103          [-1, 256, 14, 14]               0\n",
            "          Conv2d-104          [-1, 256, 14, 14]         589,824\n",
            "     BatchNorm2d-105          [-1, 256, 14, 14]             512\n",
            "            ReLU-106          [-1, 256, 14, 14]               0\n",
            "          Conv2d-107         [-1, 1024, 14, 14]         262,144\n",
            "     BatchNorm2d-108         [-1, 1024, 14, 14]           2,048\n",
            "            ReLU-109         [-1, 1024, 14, 14]               0\n",
            "      Bottleneck-110         [-1, 1024, 14, 14]               0\n",
            "          Conv2d-111          [-1, 256, 14, 14]         262,144\n",
            "     BatchNorm2d-112          [-1, 256, 14, 14]             512\n",
            "            ReLU-113          [-1, 256, 14, 14]               0\n",
            "          Conv2d-114          [-1, 256, 14, 14]         589,824\n",
            "     BatchNorm2d-115          [-1, 256, 14, 14]             512\n",
            "            ReLU-116          [-1, 256, 14, 14]               0\n",
            "          Conv2d-117         [-1, 1024, 14, 14]         262,144\n",
            "     BatchNorm2d-118         [-1, 1024, 14, 14]           2,048\n",
            "            ReLU-119         [-1, 1024, 14, 14]               0\n",
            "      Bottleneck-120         [-1, 1024, 14, 14]               0\n",
            "          Conv2d-121          [-1, 256, 14, 14]         262,144\n",
            "     BatchNorm2d-122          [-1, 256, 14, 14]             512\n",
            "            ReLU-123          [-1, 256, 14, 14]               0\n",
            "          Conv2d-124          [-1, 256, 14, 14]         589,824\n",
            "     BatchNorm2d-125          [-1, 256, 14, 14]             512\n",
            "            ReLU-126          [-1, 256, 14, 14]               0\n",
            "          Conv2d-127         [-1, 1024, 14, 14]         262,144\n",
            "     BatchNorm2d-128         [-1, 1024, 14, 14]           2,048\n",
            "            ReLU-129         [-1, 1024, 14, 14]               0\n",
            "      Bottleneck-130         [-1, 1024, 14, 14]               0\n",
            "          Conv2d-131          [-1, 256, 14, 14]         262,144\n",
            "     BatchNorm2d-132          [-1, 256, 14, 14]             512\n",
            "            ReLU-133          [-1, 256, 14, 14]               0\n",
            "          Conv2d-134          [-1, 256, 14, 14]         589,824\n",
            "     BatchNorm2d-135          [-1, 256, 14, 14]             512\n",
            "            ReLU-136          [-1, 256, 14, 14]               0\n",
            "          Conv2d-137         [-1, 1024, 14, 14]         262,144\n",
            "     BatchNorm2d-138         [-1, 1024, 14, 14]           2,048\n",
            "            ReLU-139         [-1, 1024, 14, 14]               0\n",
            "      Bottleneck-140         [-1, 1024, 14, 14]               0\n",
            "          Conv2d-141          [-1, 512, 14, 14]         524,288\n",
            "     BatchNorm2d-142          [-1, 512, 14, 14]           1,024\n",
            "            ReLU-143          [-1, 512, 14, 14]               0\n",
            "          Conv2d-144            [-1, 512, 7, 7]       2,359,296\n",
            "     BatchNorm2d-145            [-1, 512, 7, 7]           1,024\n",
            "            ReLU-146            [-1, 512, 7, 7]               0\n",
            "          Conv2d-147           [-1, 2048, 7, 7]       1,048,576\n",
            "     BatchNorm2d-148           [-1, 2048, 7, 7]           4,096\n",
            "          Conv2d-149           [-1, 2048, 7, 7]       2,097,152\n",
            "     BatchNorm2d-150           [-1, 2048, 7, 7]           4,096\n",
            "            ReLU-151           [-1, 2048, 7, 7]               0\n",
            "      Bottleneck-152           [-1, 2048, 7, 7]               0\n",
            "          Conv2d-153            [-1, 512, 7, 7]       1,048,576\n",
            "     BatchNorm2d-154            [-1, 512, 7, 7]           1,024\n",
            "            ReLU-155            [-1, 512, 7, 7]               0\n",
            "          Conv2d-156            [-1, 512, 7, 7]       2,359,296\n",
            "     BatchNorm2d-157            [-1, 512, 7, 7]           1,024\n",
            "            ReLU-158            [-1, 512, 7, 7]               0\n",
            "          Conv2d-159           [-1, 2048, 7, 7]       1,048,576\n",
            "     BatchNorm2d-160           [-1, 2048, 7, 7]           4,096\n",
            "            ReLU-161           [-1, 2048, 7, 7]               0\n",
            "      Bottleneck-162           [-1, 2048, 7, 7]               0\n",
            "          Conv2d-163            [-1, 512, 7, 7]       1,048,576\n",
            "     BatchNorm2d-164            [-1, 512, 7, 7]           1,024\n",
            "            ReLU-165            [-1, 512, 7, 7]               0\n",
            "          Conv2d-166            [-1, 512, 7, 7]       2,359,296\n",
            "     BatchNorm2d-167            [-1, 512, 7, 7]           1,024\n",
            "            ReLU-168            [-1, 512, 7, 7]               0\n",
            "          Conv2d-169           [-1, 2048, 7, 7]       1,048,576\n",
            "     BatchNorm2d-170           [-1, 2048, 7, 7]           4,096\n",
            "            ReLU-171           [-1, 2048, 7, 7]               0\n",
            "      Bottleneck-172           [-1, 2048, 7, 7]               0\n",
            "AdaptiveAvgPool2d-173           [-1, 2048, 1, 1]               0\n",
            "          Linear-174                 [-1, 1000]       2,049,000\n",
            "================================================================\n",
            "Total params: 25,557,032\n",
            "Trainable params: 25,557,032\n",
            "Non-trainable params: 0\n",
            "----------------------------------------------------------------\n",
            "Input size (MB): 0.57\n",
            "Forward/backward pass size (MB): 286.56\n",
            "Params size (MB): 97.49\n",
            "Estimated Total Size (MB): 384.62\n",
            "----------------------------------------------------------------\n"
          ]
        }
      ]
    },
    {
      "cell_type": "code",
      "source": [
        "# Access the desired layer (\"avgpool\") in PyTorch\n",
        "avg_pool_layer = resnet.avgpool  # Access the \"avgpool\" layer directly"
      ],
      "metadata": {
        "id": "82GPCGBbVWRI"
      },
      "execution_count": 9,
      "outputs": []
    },
    {
      "cell_type": "code",
      "source": [
        "# Define a new model that outputs the features from the desired layer\n",
        "class FeatureExtractor(torch.nn.Module):  # Create a new class for the feature extractor\n",
        "    def __init__(self, base_model, layer):  # Initialize the class with the base model and layer\n",
        "        super(FeatureExtractor, self).__init__()  # Call the parent class constructor\n",
        "        self.base_model = base_model  # Store the base model\n",
        "        self.layer = layer  # Store the desired layer\n",
        "\n",
        "    def forward(self, x):  # Forward pass\n",
        "        for name, module in self.base_model._modules.items():  # Iterate through the layers of the base model\n",
        "            x = module(x)  # Apply the layer\n",
        "            if name == self.layer:  # Check if the desired layer is reached\n",
        "                break  # Exit the loop\n",
        "        return x  # Return the output of the desired layer"
      ],
      "metadata": {
        "id": "AqOI1rIJThuA"
      },
      "execution_count": 10,
      "outputs": []
    },
    {
      "cell_type": "code",
      "source": [
        "# not all layers of the model are used. We extract the vector from layer \"AdaptiveAvgPool2d” as an extracted feature of an image\n",
        "model = FeatureExtractor(resnet, 'avgpool')  # Create the feature extractor"
      ],
      "metadata": {
        "id": "b985wiijU8_a"
      },
      "execution_count": 11,
      "outputs": []
    },
    {
      "cell_type": "code",
      "source": [
        "#below we define three functions that we use to calcualte similarity"
      ],
      "metadata": {
        "id": "D4xgLfzbqRr7"
      },
      "execution_count": null,
      "outputs": []
    },
    {
      "cell_type": "code",
      "source": [
        "# function for calculating cosine similarity\n",
        "def cosine_similarity(vector1, vector2):\n",
        "  vector1 = vector1.flatten() # Flatten the tensor to 1D\n",
        "  vector2 = vector2.flatten() # Flatten the tensor to 1D\n",
        "  return 1 - scipy.spatial.distance.cosine(vector1.detach().numpy(), vector2.detach().numpy()) # Detach the tensors from the computation graph and convert them to NumPy arrays"
      ],
      "metadata": {
        "id": "NTR7EG70WkBP"
      },
      "execution_count": 13,
      "outputs": []
    },
    {
      "cell_type": "code",
      "source": [
        "# function for calculating euclidean similarity\n",
        "def euclidean_similarity(x, y):\n",
        "    x = x.flatten() # Flatten the tensor to 1D\n",
        "    y = y.flatten() # Flatten the tensor to 1D\n",
        "    return 1 / (1 + euclidean_distance(x.detach().numpy(), y.detach().numpy())) # Convert tensors to NumPy arrays before calculating the distance"
      ],
      "metadata": {
        "id": "yKEtcO6bqVmL"
      },
      "execution_count": 12,
      "outputs": []
    },
    {
      "cell_type": "code",
      "source": [
        "# function for calculating dynamic time warping similarity of vectors\n",
        "def dtw_similarity(time_series_a,time_series_b):\n",
        "  # dtw.warping_paths returns the DTW distance and the DTW cost matrix\n",
        "  distance, paths = dtw.warping_paths(time_series_a.flatten(), time_series_b.flatten(), use_c=False)\n",
        "  # Compute the optimal path from the DTW cost matrix\n",
        "  best_path = dtw.best_path(paths)\n",
        "  return 1 - (distance / len(best_path)) # Use dtaidistance to caluate the dynamic time warping similarity of the vectors\n",
        "\n",
        "# function for scaling data in an array\n",
        "def normalize_series(data):\n",
        "  # collapse the array into one dimension\n",
        "  data_array = data.flatten()\n",
        "  # Detach the tensor from the computation graph and convert it to a NumPy array\n",
        "  data_array = data_array.detach().numpy()\n",
        "  # Normalize the data using MinMaxScaler\n",
        "  scaler = preprocessing.MinMaxScaler(feature_range=(0, 1))\n",
        "  # Fit the scaler on the data and transform it\n",
        "  normalized_array = scaler.fit_transform(data_array.reshape(-1, 1))\n",
        "  return normalized_array # return the normalized array"
      ],
      "metadata": {
        "id": "Ex-XJipFqZf7"
      },
      "execution_count": 14,
      "outputs": []
    },
    {
      "cell_type": "code",
      "source": [
        "#We check the similarity between similar songs involved in famous court cases using cosine similarity, euclidean similarity, and dynamic time warping similarity\n",
        "#In each case the closer the score is to 0 the more dissimilar the songs are while the closer the score is to 1 the more similiar the songs are"
      ],
      "metadata": {
        "id": "Fb0dgGa0bNUA"
      },
      "execution_count": null,
      "outputs": []
    },
    {
      "cell_type": "code",
      "source": [
        "# Vanilla Ice's Ice Ice Baby vs. Under Pressure by\n",
        "copy1 = torchvision.io.read_image(\"/content/drive/MyDrive/may-summer-2024-team-good-composers-borrow-great-ones-steal/Curl_Ideas_and_Mentioned_Resources/Mel_Spec_jpgs_of_song_pairs/IceIceBaby_full.jpg\").float() # Convert image to float\n",
        "org1 = torchvision.io.read_image(\"/content/drive/MyDrive/may-summer-2024-team-good-composers-borrow-great-ones-steal/Curl_Ideas_and_Mentioned_Resources/Mel_Spec_jpgs_of_song_pairs/UnderPressure_full.jpg\").float() # Convert image to float\n",
        "# Add a batch dimension to the images\n",
        "org1 = org1.unsqueeze(0) # Add a batch dimension (dim=0)\n",
        "copy1 = copy1.unsqueeze(0) # Add a batch dimension (dim=0)\n",
        "feat1 = model(org1)\n",
        "feat2 = model(copy1)\n",
        "cosine_similarity(feat1, feat2), euclidean_similarity(feat1, feat2), dtw_similarity(normalize_series(feat1),normalize_series(feat2))"
      ],
      "metadata": {
        "colab": {
          "base_uri": "https://localhost:8080/"
        },
        "id": "CWXA-ly-WSor",
        "outputId": "149b121e-4acc-4d74-ca12-a3f81ff14efa"
      },
      "execution_count": 16,
      "outputs": [
        {
          "output_type": "execute_result",
          "data": {
            "text/plain": [
              "(0.9991704875500235, 0.5337787779734837, 0.9995178697532554)"
            ]
          },
          "metadata": {},
          "execution_count": 16
        }
      ]
    },
    {
      "cell_type": "code",
      "source": [
        "# the Verve's Bitter Sweet Symphony vs. the Rolling Stone's The Last Time\n",
        "org2 = torchvision.io.read_image(\"/content/drive/MyDrive/may-summer-2024-team-good-composers-borrow-great-ones-steal/Curl_Ideas_and_Mentioned_Resources/Mel_Spec_jpgs_of_song_pairs/BittersweetSymphony_full.jpg\").float()\n",
        "copy2 = torchvision.io.read_image(\"/content/drive/MyDrive/may-summer-2024-team-good-composers-borrow-great-ones-steal/Curl_Ideas_and_Mentioned_Resources/Mel_Spec_jpgs_of_song_pairs/TheLastTime_full.jpg\").float()\n",
        "# Add a batch dimension to the images\n",
        "org2 = org2.unsqueeze(0) # Add a batch dimension (dim=0)\n",
        "copy2 = copy2.unsqueeze(0) # Add a batch dimension (dim=0)\n",
        "aeat1 = model(org2)\n",
        "aeat2 = model(copy2)\n",
        "cosine_similarity(aeat1, aeat2), euclidean_similarity(aeat1, aeat2), dtw_similarity(normalize_series(aeat1),normalize_series(aeat2))"
      ],
      "metadata": {
        "colab": {
          "base_uri": "https://localhost:8080/"
        },
        "id": "OUzL9P7wZhVx",
        "outputId": "10c823b3-be8c-4339-e241-5ce1033ed8e4"
      },
      "execution_count": 17,
      "outputs": [
        {
          "output_type": "execute_result",
          "data": {
            "text/plain": [
              "(0.9990427946801531, 0.5161181482040386, 0.9995127611663281)"
            ]
          },
          "metadata": {},
          "execution_count": 17
        }
      ]
    },
    {
      "cell_type": "code",
      "source": [
        "# Robin Thicke featuring rapper T.I. and singer Pharrell Williams's Blurred Lines vs. Marvin Gaye's Gotta Give It Up\n",
        "org3 = torchvision.io.read_image(\"/content/drive/MyDrive/may-summer-2024-team-good-composers-borrow-great-ones-steal/Curl_Ideas_and_Mentioned_Resources/Mel_Spec_jpgs_of_song_pairs/GottaGiveItUp_full.jpg\").float()\n",
        "copy3 = torchvision.io.read_image(\"/content/drive/MyDrive/may-summer-2024-team-good-composers-borrow-great-ones-steal/Curl_Ideas_and_Mentioned_Resources/Mel_Spec_jpgs_of_song_pairs/blurredlines_full.jpg\").float()\n",
        "org3 = org3.unsqueeze(0) # Add a batch dimension (dim=0)\n",
        "copy3 = copy3.unsqueeze(0) # Add a batch dimension (dim=0)\n",
        "beat1 = model(org3)\n",
        "beat2 = model(copy3)\n",
        "cosine_similarity(beat1, beat2), euclidean_similarity(beat1, beat2), dtw_similarity(normalize_series(beat1),normalize_series(beat2))"
      ],
      "metadata": {
        "colab": {
          "base_uri": "https://localhost:8080/"
        },
        "id": "ItmJrRIrc6SS",
        "outputId": "bc3ca39f-aa8a-4384-e278-df749ee798ec"
      },
      "execution_count": 18,
      "outputs": [
        {
          "output_type": "execute_result",
          "data": {
            "text/plain": [
              "(0.9993690987919814, 0.5683768877857696, 0.999621457510991)"
            ]
          },
          "metadata": {},
          "execution_count": 18
        }
      ]
    },
    {
      "cell_type": "code",
      "source": [
        "# Killing Joke‘s Eighties vs. Nirvana's Come as You are\n",
        "copy4 = torchvision.io.read_image(\"/content/drive/MyDrive/may-summer-2024-team-good-composers-borrow-great-ones-steal/Curl_Ideas_and_Mentioned_Resources/Mel_Spec_jpgs_of_song_pairs/ComeAsYouAre_full.jpg\").float()\n",
        "org4 = torchvision.io.read_image(\"/content/drive/MyDrive/may-summer-2024-team-good-composers-borrow-great-ones-steal/Curl_Ideas_and_Mentioned_Resources/Mel_Spec_jpgs_of_song_pairs/TheKillingJoke_full.jpg\").float()\n",
        "org4 = org4.unsqueeze(0) # Add a batch dimension (dim=0)\n",
        "copy4 = copy4.unsqueeze(0) # Add a batch dimension (dim=0)\n",
        "ceat1 = model(org4)\n",
        "ceat2 = model(copy4)\n",
        "cosine_similarity(ceat1, ceat2), euclidean_similarity(ceat1, ceat2), dtw_similarity(normalize_series(ceat1),normalize_series(ceat2))"
      ],
      "metadata": {
        "colab": {
          "base_uri": "https://localhost:8080/"
        },
        "id": "xa24oNgJc6Ym",
        "outputId": "d46789fc-325b-4a0d-c487-97b5930b285c"
      },
      "execution_count": 19,
      "outputs": [
        {
          "output_type": "execute_result",
          "data": {
            "text/plain": [
              "(0.9989236838422316, 0.5037320371738979, 0.9995573521928255)"
            ]
          },
          "metadata": {},
          "execution_count": 19
        }
      ]
    },
    {
      "cell_type": "code",
      "source": [
        "# Chuck Berry's You Can't Catch Me vs. The Beatles Come Together\n",
        "org5 = torchvision.io.read_image(\"/content/drive/MyDrive/may-summer-2024-team-good-composers-borrow-great-ones-steal/Curl_Ideas_and_Mentioned_Resources/Mel_Spec_jpgs_of_song_pairs/YouCantCatchMe_full.jpg\").float()\n",
        "copy5 = torchvision.io.read_image(\"/content/drive/MyDrive/may-summer-2024-team-good-composers-borrow-great-ones-steal/Curl_Ideas_and_Mentioned_Resources/Mel_Spec_jpgs_of_song_pairs/ComeTogether_full.jpg\").float()\n",
        "org5 = org5.unsqueeze(0) # Add a batch dimension (dim=0)\n",
        "copy5 = copy5.unsqueeze(0) # Add a batch dimension (dim=0)\n",
        "deat1 = model(org5)\n",
        "deat2 = model(copy5)\n",
        "cosine_similarity(deat1, deat2), euclidean_similarity(deat1, deat2), dtw_similarity(normalize_series(deat1),normalize_series(deat2))"
      ],
      "metadata": {
        "colab": {
          "base_uri": "https://localhost:8080/"
        },
        "id": "2wxdU3lvc6eD",
        "outputId": "ee0ad0b9-0e18-4326-8297-c04060e7214d"
      },
      "execution_count": 20,
      "outputs": [
        {
          "output_type": "execute_result",
          "data": {
            "text/plain": [
              "(0.9992189607861165, 0.5436066811245873, 0.999594886623853)"
            ]
          },
          "metadata": {},
          "execution_count": 20
        }
      ]
    },
    {
      "cell_type": "code",
      "source": [
        "# Radiohead's Creep vs. Lana Del Rey's Get Free\n",
        "org6 = torchvision.io.read_image(\"/content/drive/MyDrive/may-summer-2024-team-good-composers-borrow-great-ones-steal/Curl_Ideas_and_Mentioned_Resources/Mel_Spec_jpgs_of_song_pairs/Creep_full.jpg\").float()\n",
        "copy6 = torchvision.io.read_image(\"/content/drive/MyDrive/may-summer-2024-team-good-composers-borrow-great-ones-steal/Curl_Ideas_and_Mentioned_Resources/Mel_Spec_jpgs_of_song_pairs/GetFree_full.jpg\").float()\n",
        "org6 = org6.unsqueeze(0) # Add a batch dimension (dim=0)\n",
        "copy6 = copy6.unsqueeze(0) # Add a batch dimension (dim=0)\n",
        "eeat1 = model(org6)\n",
        "eeat2 = model(copy6)\n",
        "cosine_similarity(eeat1, eeat2), euclidean_similarity(eeat1, eeat2), dtw_similarity(normalize_series(eeat1),normalize_series(eeat2))"
      ],
      "metadata": {
        "colab": {
          "base_uri": "https://localhost:8080/"
        },
        "id": "98PT_0yzc6j9",
        "outputId": "db0f7b20-d8d0-4999-f8bd-ed7490dc895f"
      },
      "execution_count": 21,
      "outputs": [
        {
          "output_type": "execute_result",
          "data": {
            "text/plain": [
              "(0.999148978305368, 0.5209924306910201, 0.9995114087184277)"
            ]
          },
          "metadata": {},
          "execution_count": 21
        }
      ]
    },
    {
      "cell_type": "code",
      "source": [
        "# Radiohead's Creep vs. The Hollies The Air That I Breathe\n",
        "org7 = torchvision.io.read_image(\"/content/drive/MyDrive/may-summer-2024-team-good-composers-borrow-great-ones-steal/Curl_Ideas_and_Mentioned_Resources/Mel_Spec_jpgs_of_song_pairs/TheAirThatIBreathe_full.jpg\").float()\n",
        "copy7 = torchvision.io.read_image(\"/content/drive/MyDrive/may-summer-2024-team-good-composers-borrow-great-ones-steal/Curl_Ideas_and_Mentioned_Resources/Mel_Spec_jpgs_of_song_pairs/Creep_full.jpg\").float()\n",
        "org7 = org7.unsqueeze(0) # Add a batch dimension (dim=0)\n",
        "copy7 = copy7.unsqueeze(0) # Add a batch dimension (dim=0)\n",
        "geat1 = model(org7)\n",
        "geat2 = model(copy7)\n",
        "cosine_similarity(geat1, geat2), euclidean_similarity(geat1, geat2), dtw_similarity(normalize_series(geat1),normalize_series(geat2))"
      ],
      "metadata": {
        "colab": {
          "base_uri": "https://localhost:8080/"
        },
        "id": "3K96aWZkc6pp",
        "outputId": "6fecc81d-91c2-47ef-9d5e-b43e2c6440d2"
      },
      "execution_count": 22,
      "outputs": [
        {
          "output_type": "execute_result",
          "data": {
            "text/plain": [
              "(0.9992872528659665, 0.5421190586288422, 0.9993995654620352)"
            ]
          },
          "metadata": {},
          "execution_count": 22
        }
      ]
    },
    {
      "cell_type": "code",
      "source": [
        "# George Harrison's My Sweet Lord vs. the Chiffons’ He’s So Fine\n",
        "org8 = torchvision.io.read_image(\"/content/drive/MyDrive/may-summer-2024-team-good-composers-borrow-great-ones-steal/Curl_Ideas_and_Mentioned_Resources/Mel_Spec_jpgs_of_song_pairs/Hessofine_full.jpg\").float()\n",
        "copy8 = torchvision.io.read_image(\"/content/drive/MyDrive/may-summer-2024-team-good-composers-borrow-great-ones-steal/Curl_Ideas_and_Mentioned_Resources/Mel_Spec_jpgs_of_song_pairs/MySweetLord_full.jpg\").float()\n",
        "org8 = org8.unsqueeze(0) # Add a batch dimension (dim=0)\n",
        "copy8 = copy8.unsqueeze(0) # Add a batch dimension (dim=0)\n",
        "heat1 = model(org8)\n",
        "heat2 = model(copy8)\n",
        "cosine_similarity(heat1, heat2), euclidean_similarity(heat1, heat2), dtw_similarity(normalize_series(heat1),normalize_series(heat2))"
      ],
      "metadata": {
        "colab": {
          "base_uri": "https://localhost:8080/"
        },
        "id": "NozCwiEUc6v2",
        "outputId": "ca0484ed-4daa-4ea1-88d5-27fe93cc0452"
      },
      "execution_count": 23,
      "outputs": [
        {
          "output_type": "execute_result",
          "data": {
            "text/plain": [
              "(0.9992424780717942, 0.5456120982340171, 0.9995988804410434)"
            ]
          },
          "metadata": {},
          "execution_count": 23
        }
      ]
    },
    {
      "cell_type": "code",
      "source": [
        "# Katy Perry featuring Juicy J.'s Dark Horse vs. Flame's Joyful Noise\n",
        "org9 = torchvision.io.read_image(\"/content/drive/MyDrive/may-summer-2024-team-good-composers-borrow-great-ones-steal/Curl_Ideas_and_Mentioned_Resources/Mel_Spec_jpgs_of_song_pairs/JoyfulNoise_full.jpg\").float()\n",
        "copy9 = torchvision.io.read_image(\"/content/drive/MyDrive/may-summer-2024-team-good-composers-borrow-great-ones-steal/Curl_Ideas_and_Mentioned_Resources/Mel_Spec_jpgs_of_song_pairs/DarkHorse_full.jpg\").float()\n",
        "org9 = org9.unsqueeze(0) # Add a batch dimension (dim=0)\n",
        "copy9 = copy9.unsqueeze(0) # Add a batch dimension (dim=0)\n",
        "jeat1 = model(org9)\n",
        "jeat2 = model(copy9)\n",
        "cosine_similarity(jeat1, jeat2), euclidean_similarity(jeat1, jeat2), dtw_similarity(normalize_series(jeat1),normalize_series(jeat2))"
      ],
      "metadata": {
        "colab": {
          "base_uri": "https://localhost:8080/"
        },
        "id": "rFcmnn3Gc61h",
        "outputId": "4f5da686-d3c5-4fd2-9f0b-b7c500a5e052"
      },
      "execution_count": 24,
      "outputs": [
        {
          "output_type": "execute_result",
          "data": {
            "text/plain": [
              "(0.9991719097394445, 0.5342249000183424, 0.9995925041568295)"
            ]
          },
          "metadata": {},
          "execution_count": 24
        }
      ]
    },
    {
      "cell_type": "code",
      "source": [
        "# Rod Stewart's Do You Think I'm Sexy vs. Jorge Ben jor's Taj Mahal\n",
        "org10 = torchvision.io.read_image(\"/content/drive/MyDrive/may-summer-2024-team-good-composers-borrow-great-ones-steal/Curl_Ideas_and_Mentioned_Resources/Mel_Spec_jpgs_of_song_pairs/TajMahal_full.jpg\").float()\n",
        "copy10 = torchvision.io.read_image(\"/content/drive/MyDrive/may-summer-2024-team-good-composers-borrow-great-ones-steal/Curl_Ideas_and_Mentioned_Resources/Mel_Spec_jpgs_of_song_pairs/DoYaThinkImSexy_full.jpg\").float()\n",
        "org10 = org10.unsqueeze(0) # Add a batch dimension (dim=0)\n",
        "copy10 = copy10.unsqueeze(0) # Add a batch dimension (dim=0)\n",
        "keat1 = model(org10)\n",
        "keat2 = model(copy10)\n",
        "cosine_similarity(keat1, keat2), euclidean_similarity(keat1, keat2), dtw_similarity(normalize_series(keat1),normalize_series(keat2))"
      ],
      "metadata": {
        "colab": {
          "base_uri": "https://localhost:8080/"
        },
        "id": "vNrpx63kc67O",
        "outputId": "216335d9-6d6e-4c92-a38e-ff86b25992ec"
      },
      "execution_count": 25,
      "outputs": [
        {
          "output_type": "execute_result",
          "data": {
            "text/plain": [
              "(0.9992683425945684, 0.5511667506336188, 0.9996191118027713)"
            ]
          },
          "metadata": {},
          "execution_count": 25
        }
      ]
    },
    {
      "cell_type": "code",
      "source": [
        "# Ray Parker Jr.'s Ghostbusters vs. Huey Lewis's I Want a New Drug\n",
        "copy11 = torchvision.io.read_image(\"/content/drive/MyDrive/may-summer-2024-team-good-composers-borrow-great-ones-steal/Curl_Ideas_and_Mentioned_Resources/Mel_Spec_jpgs_of_song_pairs/Ghostbusters_full.jpg\").float()\n",
        "org11 = torchvision.io.read_image(\"/content/drive/MyDrive/may-summer-2024-team-good-composers-borrow-great-ones-steal/Curl_Ideas_and_Mentioned_Resources/Mel_Spec_jpgs_of_song_pairs/IWantaNewDrug_full.jpg\").float()\n",
        "org11 = org11.unsqueeze(0) # Add a batch dimension (dim=0)\n",
        "copy11 = copy11.unsqueeze(0) # Add a batch dimension (dim=0)\n",
        "leat1 = model(org11)\n",
        "leat2 = model(copy11)\n",
        "cosine_similarity(leat1, leat2), euclidean_similarity(leat1, leat2), dtw_similarity(normalize_series(leat1),normalize_series(leat2))"
      ],
      "metadata": {
        "colab": {
          "base_uri": "https://localhost:8080/"
        },
        "id": "AC-z-anXc7BR",
        "outputId": "4aeb57fd-c7f6-4246-edac-d818fb23af95"
      },
      "execution_count": 26,
      "outputs": [
        {
          "output_type": "execute_result",
          "data": {
            "text/plain": [
              "(0.999308071495466, 0.5439873845572459, 0.9994553481566523)"
            ]
          },
          "metadata": {},
          "execution_count": 26
        }
      ]
    },
    {
      "cell_type": "code",
      "source": [
        "# Olivia Rodrigo's Good 4 U vs. Paramore's Misery Business\n",
        "org12 = torchvision.io.read_image(\"/content/drive/MyDrive/may-summer-2024-team-good-composers-borrow-great-ones-steal/Curl_Ideas_and_Mentioned_Resources/Mel_Spec_jpgs_of_song_pairs/MiseryBusiness_full.jpg\").float()\n",
        "copy12 = torchvision.io.read_image(\"/content/drive/MyDrive/may-summer-2024-team-good-composers-borrow-great-ones-steal/Curl_Ideas_and_Mentioned_Resources/Mel_Spec_jpgs_of_song_pairs/Good4u_full.jpg\").float()\n",
        "org12 = org12.unsqueeze(0) # Add a batch dimension (dim=0)\n",
        "copy12 = copy12.unsqueeze(0) # Add a batch dimension (dim=0)\n",
        "meat1 = model(org12)\n",
        "meat2 = model(copy12)\n",
        "cosine_similarity(meat1, meat2), euclidean_similarity(meat1, meat2), dtw_similarity(normalize_series(meat1),normalize_series(meat2))"
      ],
      "metadata": {
        "colab": {
          "base_uri": "https://localhost:8080/"
        },
        "id": "yH_iGudzc7Gc",
        "outputId": "ecf0971f-064b-49dd-ce5f-2c013bf966b1"
      },
      "execution_count": 27,
      "outputs": [
        {
          "output_type": "execute_result",
          "data": {
            "text/plain": [
              "(0.9991985332844042, 0.5039078883747106, 0.9995803098853774)"
            ]
          },
          "metadata": {},
          "execution_count": 27
        }
      ]
    },
    {
      "cell_type": "code",
      "source": [
        "# Oasis's Shakermaker vs. The New Seekers's I’d Like To Teach The World To Sing\n",
        "org13 = torchvision.io.read_image(\"/content/drive/MyDrive/may-summer-2024-team-good-composers-borrow-great-ones-steal/Curl_Ideas_and_Mentioned_Resources/Mel_Spec_jpgs_of_song_pairs/I'dLiketoTeaktheworldtosing_full.jpg\").float()\n",
        "copy13 = torchvision.io.read_image(\"/content/drive/MyDrive/may-summer-2024-team-good-composers-borrow-great-ones-steal/Curl_Ideas_and_Mentioned_Resources/Mel_Spec_jpgs_of_song_pairs/Shakermaker_full.jpg\").float()\n",
        "org13 = org13.unsqueeze(0) # Add a batch dimension (dim=0)\n",
        "copy13 = copy13.unsqueeze(0) # Add a batch dimension (dim=0)\n",
        "neat1 = model(org13)\n",
        "neat2 = model(copy13)\n",
        "cosine_similarity(neat1, neat2), euclidean_similarity(neat1, neat2), dtw_similarity(normalize_series(neat1),normalize_series(neat2))"
      ],
      "metadata": {
        "colab": {
          "base_uri": "https://localhost:8080/"
        },
        "id": "-PtYfDM-c7Lo",
        "outputId": "fcc88579-6a79-4613-9f0b-4a7a36bf7141"
      },
      "execution_count": 28,
      "outputs": [
        {
          "output_type": "execute_result",
          "data": {
            "text/plain": [
              "(0.9992752188091599, 0.5521009770661859, 0.999632129926097)"
            ]
          },
          "metadata": {},
          "execution_count": 28
        }
      ]
    },
    {
      "cell_type": "code",
      "source": [
        "# Marvin Gaye's Let's Get It On vs. Ed Sheeran's Thinking Out Loud\n",
        "org14 = torchvision.io.read_image(\"/content/drive/MyDrive/may-summer-2024-team-good-composers-borrow-great-ones-steal/Curl_Ideas_and_Mentioned_Resources/Mel_Spec_jpgs_of_song_pairs/LetsGetItOn_full.jpg\").float()\n",
        "copy14 = torchvision.io.read_image(\"/content/drive/MyDrive/may-summer-2024-team-good-composers-borrow-great-ones-steal/Curl_Ideas_and_Mentioned_Resources/Mel_Spec_jpgs_of_song_pairs/ThinkingOutLoud_full.jpg\").float()\n",
        "org14 = org14.unsqueeze(0) # Add a batch dimension (dim=0)\n",
        "copy14 = copy14.unsqueeze(0) # Add a batch dimension (dim=0)\n",
        "peat1 = model(org14)\n",
        "peat2 = model(copy14)\n",
        "cosine_similarity(peat1, peat2), euclidean_similarity(peat1, peat2), dtw_similarity(normalize_series(peat1),normalize_series(peat2))"
      ],
      "metadata": {
        "colab": {
          "base_uri": "https://localhost:8080/"
        },
        "id": "thNoy0nJc7RT",
        "outputId": "7a65150c-faea-4dde-afd0-8ed43a0062eb"
      },
      "execution_count": 29,
      "outputs": [
        {
          "output_type": "execute_result",
          "data": {
            "text/plain": [
              "(0.9992683587526392, 0.5530394861943968, 0.9994370776156126)"
            ]
          },
          "metadata": {},
          "execution_count": 29
        }
      ]
    },
    {
      "cell_type": "code",
      "source": [
        "# Led Zeppelin's Stairway to Heaven vs. Spirit's Taurus\n",
        "org15 = torchvision.io.read_image(\"/content/drive/MyDrive/may-summer-2024-team-good-composers-borrow-great-ones-steal/Curl_Ideas_and_Mentioned_Resources/Mel_Spec_jpgs_of_song_pairs/Taurus_full.jpg\").float()\n",
        "copy15 = torchvision.io.read_image(\"/content/drive/MyDrive/may-summer-2024-team-good-composers-borrow-great-ones-steal/Curl_Ideas_and_Mentioned_Resources/Mel_Spec_jpgs_of_song_pairs/StairwaytoHeaven_full.jpg\").float()\n",
        "org15 = org15.unsqueeze(0) # Add a batch dimension (dim=0)\n",
        "copy15 = copy15.unsqueeze(0) # Add a batch dimension (dim=0)\n",
        "qeat1 = model(org15)\n",
        "qeat2 = model(copy15)\n",
        "cosine_similarity(qeat1, qeat2), euclidean_similarity(qeat1, qeat2), dtw_similarity(normalize_series(qeat1),normalize_series(qeat2))"
      ],
      "metadata": {
        "colab": {
          "base_uri": "https://localhost:8080/"
        },
        "id": "287n3dfvc7XP",
        "outputId": "a22a82fe-d6a1-4f4b-a98b-6972c528891e"
      },
      "execution_count": 30,
      "outputs": [
        {
          "output_type": "execute_result",
          "data": {
            "text/plain": [
              "(0.9992666435430668, 0.5523599460189883, 0.9996157915713532)"
            ]
          },
          "metadata": {},
          "execution_count": 30
        }
      ]
    },
    {
      "cell_type": "code",
      "source": [
        "# Sam Smith's Stay with Me vs. Tom Petty's I won't Back Down\n",
        "org16 = torchvision.io.read_image(\"/content/drive/MyDrive/may-summer-2024-team-good-composers-borrow-great-ones-steal/Curl_Ideas_and_Mentioned_Resources/Mel_Spec_jpgs_of_song_pairs/IWontBackDown_full.jpg\").float()\n",
        "copy16 = torchvision.io.read_image(\"/content/drive/MyDrive/may-summer-2024-team-good-composers-borrow-great-ones-steal/Curl_Ideas_and_Mentioned_Resources/Mel_Spec_jpgs_of_song_pairs/StayWithMe_full.jpg\").float()\n",
        "org16 = org16.unsqueeze(0) # Add a batch dimension (dim=0)\n",
        "copy16 = copy16.unsqueeze(0) # Add a batch dimension (dim=0)\n",
        "reat1 = model(org16)\n",
        "reat2 = model(copy16)\n",
        "cosine_similarity(reat1, reat2), euclidean_similarity(reat1, reat2), dtw_similarity(normalize_series(reat1),normalize_series(reat2))"
      ],
      "metadata": {
        "colab": {
          "base_uri": "https://localhost:8080/"
        },
        "id": "VHahOKH9c7cq",
        "outputId": "a771bd58-1dc7-49f0-c981-ba5d2765fb4f"
      },
      "execution_count": 31,
      "outputs": [
        {
          "output_type": "execute_result",
          "data": {
            "text/plain": [
              "(0.9992018395596596, 0.5416451967310093, 0.9996101159385685)"
            ]
          },
          "metadata": {},
          "execution_count": 31
        }
      ]
    },
    {
      "cell_type": "code",
      "source": [
        "# Beach Boy's Surfin USA vs. Chuck Berry's Sweet Little Sixteen\n",
        "org17 = torchvision.io.read_image(\"/content/drive/MyDrive/may-summer-2024-team-good-composers-borrow-great-ones-steal/Curl_Ideas_and_Mentioned_Resources/Mel_Spec_jpgs_of_song_pairs/SweetLittleSixteen_full.jpg\").float()\n",
        "copy17 = torchvision.io.read_image(\"/content/drive/MyDrive/may-summer-2024-team-good-composers-borrow-great-ones-steal/Curl_Ideas_and_Mentioned_Resources/Mel_Spec_jpgs_of_song_pairs/SurfinUSA_full.jpg\").float()\n",
        "org17 = org17.unsqueeze(0) # Add a batch dimension (dim=0)\n",
        "copy17 = copy17.unsqueeze(0) # Add a batch dimension (dim=0)\n",
        "seat1 = model(org17)\n",
        "seat2 = model(copy17)\n",
        "cosine_similarity(seat1, seat2), euclidean_similarity(seat1, seat2), dtw_similarity(normalize_series(seat1),normalize_series(seat2))"
      ],
      "metadata": {
        "colab": {
          "base_uri": "https://localhost:8080/"
        },
        "id": "CzutK0Dtc7im",
        "outputId": "a2a71477-d2c5-4438-e430-9da3215a9ee0"
      },
      "execution_count": 32,
      "outputs": [
        {
          "output_type": "execute_result",
          "data": {
            "text/plain": [
              "(0.9992151229051629, 0.543197039673375, 0.9995296751022827)"
            ]
          },
          "metadata": {},
          "execution_count": 32
        }
      ]
    },
    {
      "cell_type": "code",
      "source": [
        "# De La Soul's Transmitting Live From Mars vs. The Turtles's You Showed Me\n",
        "org18 = torchvision.io.read_image(\"/content/drive/MyDrive/may-summer-2024-team-good-composers-borrow-great-ones-steal/Curl_Ideas_and_Mentioned_Resources/Mel_Spec_jpgs_of_song_pairs/YouShowedMe_full.jpg\").float()\n",
        "copy18 = torchvision.io.read_image(\"/content/drive/MyDrive/may-summer-2024-team-good-composers-borrow-great-ones-steal/Curl_Ideas_and_Mentioned_Resources/Mel_Spec_jpgs_of_song_pairs/TransmittingLivefromMars_full.jpg\").float()\n",
        "org18 = org18.unsqueeze(0) # Add a batch dimension (dim=0)\n",
        "copy18 = copy18.unsqueeze(0) # Add a batch dimension (dim=0)\n",
        "teat1 = model(org18)\n",
        "teat2 = model(copy18)\n",
        "cosine_similarity(teat1, teat2), euclidean_similarity(teat1, teat2), dtw_similarity(normalize_series(teat1),normalize_series(teat2))"
      ],
      "metadata": {
        "colab": {
          "base_uri": "https://localhost:8080/"
        },
        "id": "PJ3VgaKnc7pb",
        "outputId": "b4ec76ae-e06a-4b18-abe3-394e2dd988c5"
      },
      "execution_count": 33,
      "outputs": [
        {
          "output_type": "execute_result",
          "data": {
            "text/plain": [
              "(0.9992833229449511, 0.5560917837066448, 0.9995441260828063)"
            ]
          },
          "metadata": {},
          "execution_count": 33
        }
      ]
    },
    {
      "cell_type": "code",
      "source": [
        "# Coldplay's Viva La Vida vs. Joe Satriani's If I Could Fly\n",
        "org19 = torchvision.io.read_image(\"/content/drive/MyDrive/may-summer-2024-team-good-composers-borrow-great-ones-steal/Curl_Ideas_and_Mentioned_Resources/Mel_Spec_jpgs_of_song_pairs/IfICouldFly_full.jpg\").float()\n",
        "copy19 = torchvision.io.read_image(\"/content/drive/MyDrive/may-summer-2024-team-good-composers-borrow-great-ones-steal/Curl_Ideas_and_Mentioned_Resources/Mel_Spec_jpgs_of_song_pairs/VivaLaVida_full.jpg\").float()\n",
        "org19 = org19.unsqueeze(0) # Add a batch dimension (dim=0)\n",
        "copy19 = copy19.unsqueeze(0) # Add a batch dimension (dim=0)\n",
        "veat1 = model(org19)\n",
        "veat2 = model(copy19)\n",
        "cosine_similarity(veat1, veat2), euclidean_similarity(veat1, veat2), dtw_similarity(normalize_series(veat1),normalize_series(veat2))"
      ],
      "metadata": {
        "colab": {
          "base_uri": "https://localhost:8080/"
        },
        "id": "IWtTm_7mc7wg",
        "outputId": "12a9c487-ef1f-4796-e529-32aaf68b5699"
      },
      "execution_count": 34,
      "outputs": [
        {
          "output_type": "execute_result",
          "data": {
            "text/plain": [
              "(0.9992239857918618, 0.5362029879293141, 0.9996141330201178)"
            ]
          },
          "metadata": {},
          "execution_count": 34
        }
      ]
    },
    {
      "cell_type": "code",
      "source": [
        "# Led Zeppelin's Whole Lotta Love vs. Muddy Waters's You Need Love\n",
        "org20 = torchvision.io.read_image(\"/content/drive/MyDrive/may-summer-2024-team-good-composers-borrow-great-ones-steal/Curl_Ideas_and_Mentioned_Resources/Mel_Spec_jpgs_of_song_pairs/YouNeedLove_full.jpg\").float()\n",
        "copy20 = torchvision.io.read_image(\"/content/drive/MyDrive/may-summer-2024-team-good-composers-borrow-great-ones-steal/Curl_Ideas_and_Mentioned_Resources/Mel_Spec_jpgs_of_song_pairs/WholeLottaLove_full.jpg\").float()\n",
        "org20 = org20.unsqueeze(0) # Add a batch dimension (dim=0)\n",
        "copy20 = copy20.unsqueeze(0) # Add a batch dimension (dim=0)\n",
        "weat1 = model(org20)\n",
        "weat2 = model(copy20)\n",
        "cosine_similarity(weat1, weat2), euclidean_similarity(weat1, weat2), dtw_similarity(normalize_series(weat1),normalize_series(weat2))"
      ],
      "metadata": {
        "colab": {
          "base_uri": "https://localhost:8080/"
        },
        "id": "LyqDM9gzc73V",
        "outputId": "2db26b38-9bef-4602-9314-ff1cfff5951c"
      },
      "execution_count": 35,
      "outputs": [
        {
          "output_type": "execute_result",
          "data": {
            "text/plain": [
              "(0.9991916344792855, 0.5396657576923518, 0.9996136575572361)"
            ]
          },
          "metadata": {},
          "execution_count": 35
        }
      ]
    },
    {
      "cell_type": "code",
      "source": [
        "#We check the similarity between songs that are very dissimilar to the human ear"
      ],
      "metadata": {
        "id": "hUpFO3S_c-BX"
      },
      "execution_count": null,
      "outputs": []
    },
    {
      "cell_type": "code",
      "source": [
        "# J.S. Bach - Toccata and Fugue in D minor BWV 565 vs. Master Of Puppets - Metallica\n",
        "org21 = torchvision.io.read_image(\"/content/drive/MyDrive/may-summer-2024-team-good-composers-borrow-great-ones-steal/Curl_Ideas_and_Mentioned_Resources/Mel_Spec_jpgs_of_song_pairs/J.S. Bach - Toccata and Fugue in D minor BWV 565.jpg\").float()\n",
        "copy21 = torchvision.io.read_image(\"/content/drive/MyDrive/may-summer-2024-team-good-composers-borrow-great-ones-steal/Curl_Ideas_and_Mentioned_Resources/Mel_Spec_jpgs_of_song_pairs/Master Of Puppets - Metallica.jpg\").float()\n",
        "org21 = org21.unsqueeze(0) # Add a batch dimension (dim=0)\n",
        "copy21 = copy21.unsqueeze(0) # Add a batch dimension (dim=0)\n",
        "aaeat1 = model(org21)\n",
        "aaeat2 = model(copy21)\n",
        "cosine_similarity(aaeat1, aaeat2), euclidean_similarity(aaeat1, aaeat2), dtw_similarity(normalize_series(aaeat1),normalize_series(aaeat2))"
      ],
      "metadata": {
        "colab": {
          "base_uri": "https://localhost:8080/"
        },
        "id": "PMxew42hdDe9",
        "outputId": "e935f615-276e-447b-cfea-791cf6c82adb"
      },
      "execution_count": 36,
      "outputs": [
        {
          "output_type": "execute_result",
          "data": {
            "text/plain": [
              "(0.9991997223898185, 0.534883249332804, 0.999405337870682)"
            ]
          },
          "metadata": {},
          "execution_count": 36
        }
      ]
    },
    {
      "cell_type": "code",
      "source": [
        "# Michael Jackson - Billie Jean vs. Alice Cooper - Schools Out\n",
        "org22 = torchvision.io.read_image(\"/content/drive/MyDrive/may-summer-2024-team-good-composers-borrow-great-ones-steal/Curl_Ideas_and_Mentioned_Resources/Mel_Spec_jpgs_of_song_pairs/Michael Jackson - Billie Jean.jpg\").float()\n",
        "copy22 = torchvision.io.read_image(\"/content/drive/MyDrive/may-summer-2024-team-good-composers-borrow-great-ones-steal/Curl_Ideas_and_Mentioned_Resources/Mel_Spec_jpgs_of_song_pairs/Alice Cooper - Schools Out.jpg\").float()\n",
        "org22 = org22.unsqueeze(0) # Add a batch dimension (dim=0)\n",
        "copy22 = copy22.unsqueeze(0) # Add a batch dimension (dim=0)\n",
        "bbeat1 = model(org22)\n",
        "bbeat2 = model(copy22)\n",
        "cosine_similarity(bbeat1, bbeat2), euclidean_similarity(bbeat1, bbeat2), dtw_similarity(normalize_series(bbeat1),normalize_series(bbeat2))"
      ],
      "metadata": {
        "colab": {
          "base_uri": "https://localhost:8080/"
        },
        "id": "oSAyVNzPdDkR",
        "outputId": "8ffea25c-e828-4c75-ff1f-00b447f00c02"
      },
      "execution_count": 37,
      "outputs": [
        {
          "output_type": "execute_result",
          "data": {
            "text/plain": [
              "(0.9992646253418855, 0.548278220322588, 0.999584135680421)"
            ]
          },
          "metadata": {},
          "execution_count": 37
        }
      ]
    },
    {
      "cell_type": "code",
      "source": [
        "# Yakety Sax - Boots Randolph vs. Vanessa Carlton - A Thousand miles\n",
        "org23 = torchvision.io.read_image(\"/content/drive/MyDrive/may-summer-2024-team-good-composers-borrow-great-ones-steal/Curl_Ideas_and_Mentioned_Resources/Mel_Spec_jpgs_of_song_pairs/Yakety Sax - Boots Randolph.jpg\").float()\n",
        "copy23 = torchvision.io.read_image(\"/content/drive/MyDrive/may-summer-2024-team-good-composers-borrow-great-ones-steal/Curl_Ideas_and_Mentioned_Resources/Mel_Spec_jpgs_of_song_pairs/Vanessa Carlton - A Thousand Miles.jpg\").float()\n",
        "org23 = org23.unsqueeze(0) # Add a batch dimension (dim=0)\n",
        "copy23 = copy23.unsqueeze(0) # Add a batch dimension (dim=0)\n",
        "cceat1 = model(org23)\n",
        "cceat2 = model(copy23)\n",
        "cosine_similarity(cceat1, cceat2), euclidean_similarity(cceat1, cceat2), dtw_similarity(normalize_series(cceat1),normalize_series(cceat2))"
      ],
      "metadata": {
        "colab": {
          "base_uri": "https://localhost:8080/"
        },
        "id": "cyt59_IXdDpW",
        "outputId": "cc90b73b-9640-482e-ae95-2a5e503c79c4"
      },
      "execution_count": 38,
      "outputs": [
        {
          "output_type": "execute_result",
          "data": {
            "text/plain": [
              "(0.9992082512369475, 0.5151671425230644, 0.9994517114791706)"
            ]
          },
          "metadata": {},
          "execution_count": 38
        }
      ]
    },
    {
      "cell_type": "code",
      "source": [
        "# AC⧸DC - Back In Black vs. 4'33'' - John Cage\n",
        "org24 = torchvision.io.read_image(\"/content/drive/MyDrive/may-summer-2024-team-good-composers-borrow-great-ones-steal/Curl_Ideas_and_Mentioned_Resources/Mel_Spec_jpgs_of_song_pairs/AC⧸DC - Back In Black.jpg\").float()\n",
        "copy24 = torchvision.io.read_image(\"/content/drive/MyDrive/may-summer-2024-team-good-composers-borrow-great-ones-steal/Curl_Ideas_and_Mentioned_Resources/Mel_Spec_jpgs_of_song_pairs/4'33'' - John Cage.jpg\").float()\n",
        "org24 = org24.unsqueeze(0) # Add a batch dimension (dim=0)\n",
        "copy24 = copy24.unsqueeze(0) # Add a batch dimension (dim=0)\n",
        "ddeat1 = model(org24)\n",
        "ddeat2 = model(copy24)\n",
        "cosine_similarity(ddeat1, ddeat2), euclidean_similarity(ddeat1, ddeat2), dtw_similarity(normalize_series(ddeat1),normalize_series(ddeat2))"
      ],
      "metadata": {
        "colab": {
          "base_uri": "https://localhost:8080/"
        },
        "id": "mOdsTubgdDuh",
        "outputId": "14739479-9b1c-45a5-94d4-141a21d27ad1"
      },
      "execution_count": 39,
      "outputs": [
        {
          "output_type": "execute_result",
          "data": {
            "text/plain": [
              "(0.9989372122761079, 0.47114634251733795, 0.9995170256946829)"
            ]
          },
          "metadata": {},
          "execution_count": 39
        }
      ]
    },
    {
      "cell_type": "code",
      "source": [
        "# Tequila - The Champs  vs. Chopin - Nocturne in E Flat Major (Op. 9 No. 2)\n",
        "org25 = torchvision.io.read_image(\"/content/drive/MyDrive/may-summer-2024-team-good-composers-borrow-great-ones-steal/Curl_Ideas_and_Mentioned_Resources/Mel_Spec_jpgs_of_song_pairs/Tequila - The Champs.jpg\").float()\n",
        "copy25 = torchvision.io.read_image(\"/content/drive/MyDrive/may-summer-2024-team-good-composers-borrow-great-ones-steal/Curl_Ideas_and_Mentioned_Resources/Mel_Spec_jpgs_of_song_pairs/Chopin - Nocturne in E Flat Major (Op. 9 No. 2).jpg\").float()\n",
        "org25 = org25.unsqueeze(0) # Add a batch dimension (dim=0)\n",
        "copy25 = copy25.unsqueeze(0) # Add a batch dimension (dim=0)\n",
        "eeeat1 = model(org25)\n",
        "eeeat2 = model(copy25)\n",
        "cosine_similarity(eeeat1, eeeat2), euclidean_similarity(eeeat1, eeeat2), dtw_similarity(normalize_series(eeeat1),normalize_series(eeeat2))"
      ],
      "metadata": {
        "colab": {
          "base_uri": "https://localhost:8080/"
        },
        "id": "9kvmYSPndDzx",
        "outputId": "8ef3f2b1-03a3-4769-a976-d8b81613896b"
      },
      "execution_count": 15,
      "outputs": [
        {
          "output_type": "execute_result",
          "data": {
            "text/plain": [
              "(0.9987436288420578, 0.48456537943969397, 0.9993990321551842)"
            ]
          },
          "metadata": {},
          "execution_count": 15
        }
      ]
    },
    {
      "cell_type": "code",
      "source": [
        "# Aretha Franklin - Respect vs. Love Theme From Romeo & Juliet - Pyotr Ilyich Tchaikovsky\n",
        "org26 = torchvision.io.read_image(\"/content/drive/MyDrive/may-summer-2024-team-good-composers-borrow-great-ones-steal/Curl_Ideas_and_Mentioned_Resources/Mel_Spec_jpgs_of_song_pairs/Aretha Franklin - Respect.jpg\").float()\n",
        "copy26 = torchvision.io.read_image(\"/content/drive/MyDrive/may-summer-2024-team-good-composers-borrow-great-ones-steal/Curl_Ideas_and_Mentioned_Resources/Mel_Spec_jpgs_of_song_pairs/Love Theme From Romeo & Juliet - Pyotr Ilyich Tchaikovsky.jpg\").float()\n",
        "org26 = org26.unsqueeze(0) # Add a batch dimension (dim=0)\n",
        "copy26 = copy26.unsqueeze(0) # Add a batch dimension (dim=0)\n",
        "ffeat1 = model(org26)\n",
        "ffeat2 = model(copy26)\n",
        "cosine_similarity(ffeat1, ffeat2), euclidean_similarity(ffeat1, ffeat2), dtw_similarity(normalize_series(ffeat1),normalize_series(ffeat2))"
      ],
      "metadata": {
        "colab": {
          "base_uri": "https://localhost:8080/"
        },
        "id": "L2n-1r8xdD5V",
        "outputId": "8f98c6d9-15a0-4e19-d081-d22e76b654f6"
      },
      "execution_count": 16,
      "outputs": [
        {
          "output_type": "execute_result",
          "data": {
            "text/plain": [
              "(0.9991473184199967, 0.5024745462139644, 0.9995407976883994)"
            ]
          },
          "metadata": {},
          "execution_count": 16
        }
      ]
    },
    {
      "cell_type": "code",
      "source": [
        "# Nirvana - Smells Like Teen Spirit vs. Ave Maria - J.S. Bach and Charles Gounod\n",
        "org27 = torchvision.io.read_image(\"/content/drive/MyDrive/may-summer-2024-team-good-composers-borrow-great-ones-steal/Curl_Ideas_and_Mentioned_Resources/Mel_Spec_jpgs_of_song_pairs/Nirvana - Smells Like Teen Spirit.jpg\").float()\n",
        "copy27 = torchvision.io.read_image(\"/content/drive/MyDrive/may-summer-2024-team-good-composers-borrow-great-ones-steal/Curl_Ideas_and_Mentioned_Resources/Mel_Spec_jpgs_of_song_pairs/Ave Maria - J.S. Bach and Charles Gounod.jpg\").float()\n",
        "org27 = org27.unsqueeze(0) # Add a batch dimension (dim=0)\n",
        "copy27 = copy27.unsqueeze(0) # Add a batch dimension (dim=0)\n",
        "ggeat1 = model(org27)\n",
        "ggeat2 = model(copy27)\n",
        "cosine_similarity(ggeat1, ggeat2), euclidean_similarity(ggeat1, ggeat2), dtw_similarity(normalize_series(ggeat1),normalize_series(ggeat2))"
      ],
      "metadata": {
        "colab": {
          "base_uri": "https://localhost:8080/"
        },
        "id": "e47YGfcQdD-6",
        "outputId": "85721d4a-d1d8-44a7-8cb7-1d6d1fcfc1d1"
      },
      "execution_count": 17,
      "outputs": [
        {
          "output_type": "execute_result",
          "data": {
            "text/plain": [
              "(0.998837752506496, 0.48926761182988965, 0.99941891146586)"
            ]
          },
          "metadata": {},
          "execution_count": 17
        }
      ]
    },
    {
      "cell_type": "code",
      "source": [
        "# David Bowie - Heroes vs. OutKast - Hey Ya\n",
        "org28 = torchvision.io.read_image(\"/content/drive/MyDrive/may-summer-2024-team-good-composers-borrow-great-ones-steal/Curl_Ideas_and_Mentioned_Resources/Mel_Spec_jpgs_of_song_pairs/David Bowie - Heroes.jpg\").float()\n",
        "copy28 = torchvision.io.read_image(\"/content/drive/MyDrive/may-summer-2024-team-good-composers-borrow-great-ones-steal/Curl_Ideas_and_Mentioned_Resources/Mel_Spec_jpgs_of_song_pairs/OutKast - Hey Ya.jpg\").float()\n",
        "org28 = org28.unsqueeze(0) # Add a batch dimension (dim=0)\n",
        "copy28 = copy28.unsqueeze(0) # Add a batch dimension (dim=0)\n",
        "hheat1 = model(org28)\n",
        "hheat2 = model(copy28)\n",
        "cosine_similarity(hheat1, hheat2), euclidean_similarity(hheat1, hheat2), dtw_similarity(normalize_series(hheat1),normalize_series(hheat2))"
      ],
      "metadata": {
        "colab": {
          "base_uri": "https://localhost:8080/"
        },
        "id": "0YdeX65mdEEM",
        "outputId": "066f4d24-124c-49a1-ff78-aeda493be7ac"
      },
      "execution_count": 18,
      "outputs": [
        {
          "output_type": "execute_result",
          "data": {
            "text/plain": [
              "(0.9991007769225998, 0.5217605517205139, 0.999580955952994)"
            ]
          },
          "metadata": {},
          "execution_count": 18
        }
      ]
    },
    {
      "cell_type": "code",
      "source": [
        "# The Dave Brubeck Quartet - Take Five vs. Public Enemy - Fight the Power\n",
        "org29 = torchvision.io.read_image(\"/content/drive/MyDrive/may-summer-2024-team-good-composers-borrow-great-ones-steal/Curl_Ideas_and_Mentioned_Resources/Mel_Spec_jpgs_of_song_pairs/The Dave Brubeck Quartet - Take Five.jpg\").float()\n",
        "copy29 = torchvision.io.read_image(\"/content/drive/MyDrive/may-summer-2024-team-good-composers-borrow-great-ones-steal/Curl_Ideas_and_Mentioned_Resources/Mel_Spec_jpgs_of_song_pairs/Public Enemy - Fight the Power.jpg\").float()\n",
        "org29 = org29.unsqueeze(0) # Add a batch dimension (dim=0)\n",
        "copy29 = copy29.unsqueeze(0) # Add a batch dimension (dim=0)\n",
        "jjeat1 = model(org29)\n",
        "jjeat2 = model(copy29)\n",
        "cosine_similarity(jjeat1, jjeat2), euclidean_similarity(jjeat1, jjeat2), dtw_similarity(normalize_series(jjeat1),normalize_series(jjeat2))"
      ],
      "metadata": {
        "colab": {
          "base_uri": "https://localhost:8080/"
        },
        "id": "84pVaUMvdEJg",
        "outputId": "728f42ba-1a49-4618-cf2a-d4c4f8919ec9"
      },
      "execution_count": 19,
      "outputs": [
        {
          "output_type": "execute_result",
          "data": {
            "text/plain": [
              "(0.9989718303948997, 0.4752376321815168, 0.9995623178114611)"
            ]
          },
          "metadata": {},
          "execution_count": 19
        }
      ]
    },
    {
      "cell_type": "code",
      "source": [
        "# Grieg - Peer Gynt Suite No. 1, Op. 46 I. Morning Mood vs. Pour Some Sugar On Me - Def Leppard\n",
        "org30 = torchvision.io.read_image(\"/content/drive/MyDrive/may-summer-2024-team-good-composers-borrow-great-ones-steal/Curl_Ideas_and_Mentioned_Resources/Mel_Spec_jpgs_of_song_pairs/Grieg - Peer Gynt Suite No. 1, Op. 46 I. Morning Mood.jpg\").float()\n",
        "copy30 = torchvision.io.read_image(\"/content/drive/MyDrive/may-summer-2024-team-good-composers-borrow-great-ones-steal/Curl_Ideas_and_Mentioned_Resources/Mel_Spec_jpgs_of_song_pairs/Pour Some Sugar On Me - Def Leppard.jpg\").float()\n",
        "org30 = org30.unsqueeze(0) # Add a batch dimension (dim=0)\n",
        "copy30 = copy30.unsqueeze(0) # Add a batch dimension (dim=0)\n",
        "kkeat1 = model(org30)\n",
        "kkeat2 = model(copy30)\n",
        "cosine_similarity(kkeat1, kkeat2), euclidean_similarity(kkeat1, kkeat2), dtw_similarity(normalize_series(kkeat1),normalize_series(kkeat2))"
      ],
      "metadata": {
        "colab": {
          "base_uri": "https://localhost:8080/"
        },
        "id": "Fe-iN8eFdEOC",
        "outputId": "6f01f56c-867e-4853-9466-9ae776286730"
      },
      "execution_count": 20,
      "outputs": [
        {
          "output_type": "execute_result",
          "data": {
            "text/plain": [
              "(0.9988073524912067, 0.48956168508401476, 0.9993713087812445)"
            ]
          },
          "metadata": {},
          "execution_count": 20
        }
      ]
    },
    {
      "cell_type": "code",
      "source": [
        "#The scores are extremely high (close to 1) for all song pairs when evaluated by cosine and DTW similarity.\n",
        "#The scores are all about midway between 0 and 1 for all song pairs when evaluated by euclidean similarity.\n",
        "#This model as-is is not a terribly good representation of similarity between songs."
      ],
      "metadata": {
        "id": "z686avEeoO4g"
      },
      "execution_count": null,
      "outputs": []
    }
  ]
}