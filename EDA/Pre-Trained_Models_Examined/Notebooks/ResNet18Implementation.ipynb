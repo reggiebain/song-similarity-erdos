{
  "nbformat": 4,
  "nbformat_minor": 0,
  "metadata": {
    "colab": {
      "provenance": [],
      "machine_shape": "hm"
    },
    "kernelspec": {
      "name": "python3",
      "display_name": "Python 3"
    },
    "language_info": {
      "name": "python"
    }
  },
  "cells": [
    {
      "cell_type": "code",
      "execution_count": 1,
      "metadata": {
        "colab": {
          "base_uri": "https://localhost:8080/"
        },
        "id": "eOEmg4lVYP11",
        "outputId": "77a4e44c-8912-4b35-b250-39f3a2fbec22"
      },
      "outputs": [
        {
          "output_type": "stream",
          "name": "stdout",
          "text": [
            "Collecting spatial\n",
            "  Downloading spatial-0.2.0.tar.gz (7.9 kB)\n",
            "  Preparing metadata (setup.py) ... \u001b[?25l\u001b[?25hdone\n",
            "Building wheels for collected packages: spatial\n",
            "  Building wheel for spatial (setup.py) ... \u001b[?25l\u001b[?25hdone\n",
            "  Created wheel for spatial: filename=spatial-0.2.0-py3-none-any.whl size=8484 sha256=cc1f7757e99335df87d07e9e77aaa99a95673be3f7db26f1c42aa4e25d36854b\n",
            "  Stored in directory: /root/.cache/pip/wheels/b3/a9/45/5776d9357e179ab80f60dfbf7d002d095f1a7c5d8f86104bd3\n",
            "Successfully built spatial\n",
            "Installing collected packages: spatial\n",
            "Successfully installed spatial-0.2.0\n"
          ]
        }
      ],
      "source": [
        "!pip install spatial"
      ]
    },
    {
      "cell_type": "code",
      "source": [
        "!pip install scipy"
      ],
      "metadata": {
        "colab": {
          "base_uri": "https://localhost:8080/"
        },
        "id": "ys9px9PJYWfe",
        "outputId": "42802b9f-68f1-4242-c3ae-67217ff32eff"
      },
      "execution_count": 2,
      "outputs": [
        {
          "output_type": "stream",
          "name": "stdout",
          "text": [
            "Requirement already satisfied: scipy in /usr/local/lib/python3.10/dist-packages (1.13.1)\n",
            "Requirement already satisfied: numpy<2.3,>=1.22.4 in /usr/local/lib/python3.10/dist-packages (from scipy) (1.26.4)\n"
          ]
        }
      ]
    },
    {
      "cell_type": "code",
      "source": [
        "!pip install sktime"
      ],
      "metadata": {
        "colab": {
          "base_uri": "https://localhost:8080/"
        },
        "id": "uwVFdcc2dpav",
        "outputId": "a7070723-408f-418c-e1a9-9d324bd9a8a0"
      },
      "execution_count": 3,
      "outputs": [
        {
          "output_type": "stream",
          "name": "stdout",
          "text": [
            "Collecting sktime\n",
            "  Downloading sktime-0.32.1-py3-none-any.whl.metadata (31 kB)\n",
            "Requirement already satisfied: joblib<1.5,>=1.2.0 in /usr/local/lib/python3.10/dist-packages (from sktime) (1.4.2)\n",
            "Requirement already satisfied: numpy<2.1,>=1.21 in /usr/local/lib/python3.10/dist-packages (from sktime) (1.26.4)\n",
            "Requirement already satisfied: packaging in /usr/local/lib/python3.10/dist-packages (from sktime) (24.1)\n",
            "Requirement already satisfied: pandas<2.3.0,>=1.1 in /usr/local/lib/python3.10/dist-packages (from sktime) (2.1.4)\n",
            "Collecting scikit-base<0.9.0,>=0.6.1 (from sktime)\n",
            "  Downloading scikit_base-0.8.3-py3-none-any.whl.metadata (8.5 kB)\n",
            "Requirement already satisfied: scikit-learn<1.6.0,>=0.24 in /usr/local/lib/python3.10/dist-packages (from sktime) (1.3.2)\n",
            "Requirement already satisfied: scipy<2.0.0,>=1.2 in /usr/local/lib/python3.10/dist-packages (from sktime) (1.13.1)\n",
            "Requirement already satisfied: python-dateutil>=2.8.2 in /usr/local/lib/python3.10/dist-packages (from pandas<2.3.0,>=1.1->sktime) (2.8.2)\n",
            "Requirement already satisfied: pytz>=2020.1 in /usr/local/lib/python3.10/dist-packages (from pandas<2.3.0,>=1.1->sktime) (2024.1)\n",
            "Requirement already satisfied: tzdata>=2022.1 in /usr/local/lib/python3.10/dist-packages (from pandas<2.3.0,>=1.1->sktime) (2024.1)\n",
            "Requirement already satisfied: threadpoolctl>=2.0.0 in /usr/local/lib/python3.10/dist-packages (from scikit-learn<1.6.0,>=0.24->sktime) (3.5.0)\n",
            "Requirement already satisfied: six>=1.5 in /usr/local/lib/python3.10/dist-packages (from python-dateutil>=2.8.2->pandas<2.3.0,>=1.1->sktime) (1.16.0)\n",
            "Downloading sktime-0.32.1-py3-none-any.whl (28.9 MB)\n",
            "\u001b[2K   \u001b[90m━━━━━━━━━━━━━━━━━━━━━━━━━━━━━━━━━━━━━━━━\u001b[0m \u001b[32m28.9/28.9 MB\u001b[0m \u001b[31m69.7 MB/s\u001b[0m eta \u001b[36m0:00:00\u001b[0m\n",
            "\u001b[?25hDownloading scikit_base-0.8.3-py3-none-any.whl (136 kB)\n",
            "\u001b[2K   \u001b[90m━━━━━━━━━━━━━━━━━━━━━━━━━━━━━━━━━━━━━━━━\u001b[0m \u001b[32m136.2/136.2 kB\u001b[0m \u001b[31m12.1 MB/s\u001b[0m eta \u001b[36m0:00:00\u001b[0m\n",
            "\u001b[?25hInstalling collected packages: scikit-base, sktime\n",
            "Successfully installed scikit-base-0.8.3 sktime-0.32.1\n"
          ]
        }
      ]
    },
    {
      "cell_type": "code",
      "source": [
        "!pip install dtaidistance"
      ],
      "metadata": {
        "colab": {
          "base_uri": "https://localhost:8080/"
        },
        "id": "GdD3QJY1dyH1",
        "outputId": "3b888c75-073b-4cbe-8759-cd533efaecad"
      },
      "execution_count": 4,
      "outputs": [
        {
          "output_type": "stream",
          "name": "stdout",
          "text": [
            "Collecting dtaidistance\n",
            "  Downloading dtaidistance-2.3.12-cp310-cp310-manylinux_2_17_x86_64.manylinux2014_x86_64.whl.metadata (13 kB)\n",
            "Requirement already satisfied: numpy in /usr/local/lib/python3.10/dist-packages (from dtaidistance) (1.26.4)\n",
            "Downloading dtaidistance-2.3.12-cp310-cp310-manylinux_2_17_x86_64.manylinux2014_x86_64.whl (2.9 MB)\n",
            "\u001b[2K   \u001b[90m━━━━━━━━━━━━━━━━━━━━━━━━━━━━━━━━━━━━━━━━\u001b[0m \u001b[32m2.9/2.9 MB\u001b[0m \u001b[31m9.5 MB/s\u001b[0m eta \u001b[36m0:00:00\u001b[0m\n",
            "\u001b[?25hInstalling collected packages: dtaidistance\n",
            "Successfully installed dtaidistance-2.3.12\n"
          ]
        }
      ]
    },
    {
      "cell_type": "code",
      "source": [
        "# The idea of this notebook is to use the pretrained model ResNet18 and to measure similarity"
      ],
      "metadata": {
        "id": "qh-ZfcPoYeII"
      },
      "execution_count": null,
      "outputs": []
    },
    {
      "cell_type": "code",
      "source": [
        "# Import the necessary packages, modules, functions, and methods\n",
        "import torch\n",
        "import torchvision\n",
        "from torchvision import models\n",
        "import spatial\n",
        "import scipy.spatial.distance\n",
        "from torchsummary import summary\n",
        "from keras.models import Model\n",
        "import sktime\n",
        "from sktime.distances import euclidean_distance\n",
        "from dtaidistance import dtw\n",
        "import dtaidistance\n",
        "from sklearn import preprocessing"
      ],
      "metadata": {
        "id": "-zM9948zYfem"
      },
      "execution_count": 5,
      "outputs": []
    },
    {
      "cell_type": "code",
      "source": [
        "# mount my google drive so I can import files from there\n",
        "from google.colab import drive\n",
        "drive.mount('/content/drive')"
      ],
      "metadata": {
        "colab": {
          "base_uri": "https://localhost:8080/"
        },
        "id": "5UaESqI_Yj05",
        "outputId": "9d6b80da-d67a-45f8-90a8-6c50c7e6285a"
      },
      "execution_count": 6,
      "outputs": [
        {
          "output_type": "stream",
          "name": "stdout",
          "text": [
            "Mounted at /content/drive\n"
          ]
        }
      ]
    },
    {
      "cell_type": "code",
      "source": [
        "# Load the pre-trained ResNet18 model\n",
        "resnet = models.resnet18(pretrained=True)"
      ],
      "metadata": {
        "colab": {
          "base_uri": "https://localhost:8080/"
        },
        "id": "nel7Eff8Yl13",
        "outputId": "0e14cec1-8d2b-45bc-ad35-d90ae19a0750"
      },
      "execution_count": 7,
      "outputs": [
        {
          "output_type": "stream",
          "name": "stderr",
          "text": [
            "/usr/local/lib/python3.10/dist-packages/torchvision/models/_utils.py:208: UserWarning: The parameter 'pretrained' is deprecated since 0.13 and may be removed in the future, please use 'weights' instead.\n",
            "  warnings.warn(\n",
            "/usr/local/lib/python3.10/dist-packages/torchvision/models/_utils.py:223: UserWarning: Arguments other than a weight enum or `None` for 'weights' are deprecated since 0.13 and may be removed in the future. The current behavior is equivalent to passing `weights=ResNet18_Weights.IMAGENET1K_V1`. You can also use `weights=ResNet18_Weights.DEFAULT` to get the most up-to-date weights.\n",
            "  warnings.warn(msg)\n",
            "Downloading: \"https://download.pytorch.org/models/resnet18-f37072fd.pth\" to /root/.cache/torch/hub/checkpoints/resnet18-f37072fd.pth\n",
            "100%|██████████| 44.7M/44.7M [00:00<00:00, 56.9MB/s]\n"
          ]
        }
      ]
    },
    {
      "cell_type": "code",
      "source": [
        "#show the layers of ResNet18\n",
        "summary(resnet, (3, 224, 224))"
      ],
      "metadata": {
        "colab": {
          "base_uri": "https://localhost:8080/"
        },
        "id": "iInZoIaAY0nJ",
        "outputId": "5e5288d3-9af0-4e11-c3ad-32a05e8152c0"
      },
      "execution_count": 8,
      "outputs": [
        {
          "output_type": "stream",
          "name": "stdout",
          "text": [
            "----------------------------------------------------------------\n",
            "        Layer (type)               Output Shape         Param #\n",
            "================================================================\n",
            "            Conv2d-1         [-1, 64, 112, 112]           9,408\n",
            "       BatchNorm2d-2         [-1, 64, 112, 112]             128\n",
            "              ReLU-3         [-1, 64, 112, 112]               0\n",
            "         MaxPool2d-4           [-1, 64, 56, 56]               0\n",
            "            Conv2d-5           [-1, 64, 56, 56]          36,864\n",
            "       BatchNorm2d-6           [-1, 64, 56, 56]             128\n",
            "              ReLU-7           [-1, 64, 56, 56]               0\n",
            "            Conv2d-8           [-1, 64, 56, 56]          36,864\n",
            "       BatchNorm2d-9           [-1, 64, 56, 56]             128\n",
            "             ReLU-10           [-1, 64, 56, 56]               0\n",
            "       BasicBlock-11           [-1, 64, 56, 56]               0\n",
            "           Conv2d-12           [-1, 64, 56, 56]          36,864\n",
            "      BatchNorm2d-13           [-1, 64, 56, 56]             128\n",
            "             ReLU-14           [-1, 64, 56, 56]               0\n",
            "           Conv2d-15           [-1, 64, 56, 56]          36,864\n",
            "      BatchNorm2d-16           [-1, 64, 56, 56]             128\n",
            "             ReLU-17           [-1, 64, 56, 56]               0\n",
            "       BasicBlock-18           [-1, 64, 56, 56]               0\n",
            "           Conv2d-19          [-1, 128, 28, 28]          73,728\n",
            "      BatchNorm2d-20          [-1, 128, 28, 28]             256\n",
            "             ReLU-21          [-1, 128, 28, 28]               0\n",
            "           Conv2d-22          [-1, 128, 28, 28]         147,456\n",
            "      BatchNorm2d-23          [-1, 128, 28, 28]             256\n",
            "           Conv2d-24          [-1, 128, 28, 28]           8,192\n",
            "      BatchNorm2d-25          [-1, 128, 28, 28]             256\n",
            "             ReLU-26          [-1, 128, 28, 28]               0\n",
            "       BasicBlock-27          [-1, 128, 28, 28]               0\n",
            "           Conv2d-28          [-1, 128, 28, 28]         147,456\n",
            "      BatchNorm2d-29          [-1, 128, 28, 28]             256\n",
            "             ReLU-30          [-1, 128, 28, 28]               0\n",
            "           Conv2d-31          [-1, 128, 28, 28]         147,456\n",
            "      BatchNorm2d-32          [-1, 128, 28, 28]             256\n",
            "             ReLU-33          [-1, 128, 28, 28]               0\n",
            "       BasicBlock-34          [-1, 128, 28, 28]               0\n",
            "           Conv2d-35          [-1, 256, 14, 14]         294,912\n",
            "      BatchNorm2d-36          [-1, 256, 14, 14]             512\n",
            "             ReLU-37          [-1, 256, 14, 14]               0\n",
            "           Conv2d-38          [-1, 256, 14, 14]         589,824\n",
            "      BatchNorm2d-39          [-1, 256, 14, 14]             512\n",
            "           Conv2d-40          [-1, 256, 14, 14]          32,768\n",
            "      BatchNorm2d-41          [-1, 256, 14, 14]             512\n",
            "             ReLU-42          [-1, 256, 14, 14]               0\n",
            "       BasicBlock-43          [-1, 256, 14, 14]               0\n",
            "           Conv2d-44          [-1, 256, 14, 14]         589,824\n",
            "      BatchNorm2d-45          [-1, 256, 14, 14]             512\n",
            "             ReLU-46          [-1, 256, 14, 14]               0\n",
            "           Conv2d-47          [-1, 256, 14, 14]         589,824\n",
            "      BatchNorm2d-48          [-1, 256, 14, 14]             512\n",
            "             ReLU-49          [-1, 256, 14, 14]               0\n",
            "       BasicBlock-50          [-1, 256, 14, 14]               0\n",
            "           Conv2d-51            [-1, 512, 7, 7]       1,179,648\n",
            "      BatchNorm2d-52            [-1, 512, 7, 7]           1,024\n",
            "             ReLU-53            [-1, 512, 7, 7]               0\n",
            "           Conv2d-54            [-1, 512, 7, 7]       2,359,296\n",
            "      BatchNorm2d-55            [-1, 512, 7, 7]           1,024\n",
            "           Conv2d-56            [-1, 512, 7, 7]         131,072\n",
            "      BatchNorm2d-57            [-1, 512, 7, 7]           1,024\n",
            "             ReLU-58            [-1, 512, 7, 7]               0\n",
            "       BasicBlock-59            [-1, 512, 7, 7]               0\n",
            "           Conv2d-60            [-1, 512, 7, 7]       2,359,296\n",
            "      BatchNorm2d-61            [-1, 512, 7, 7]           1,024\n",
            "             ReLU-62            [-1, 512, 7, 7]               0\n",
            "           Conv2d-63            [-1, 512, 7, 7]       2,359,296\n",
            "      BatchNorm2d-64            [-1, 512, 7, 7]           1,024\n",
            "             ReLU-65            [-1, 512, 7, 7]               0\n",
            "       BasicBlock-66            [-1, 512, 7, 7]               0\n",
            "AdaptiveAvgPool2d-67            [-1, 512, 1, 1]               0\n",
            "           Linear-68                 [-1, 1000]         513,000\n",
            "================================================================\n",
            "Total params: 11,689,512\n",
            "Trainable params: 11,689,512\n",
            "Non-trainable params: 0\n",
            "----------------------------------------------------------------\n",
            "Input size (MB): 0.57\n",
            "Forward/backward pass size (MB): 62.79\n",
            "Params size (MB): 44.59\n",
            "Estimated Total Size (MB): 107.96\n",
            "----------------------------------------------------------------\n"
          ]
        }
      ]
    },
    {
      "cell_type": "code",
      "source": [
        "# Access the desired layer (\"avgpool\") in PyTorch\n",
        "avg_pool_layer = resnet.avgpool  # Access the \"avgpool\" layer directly"
      ],
      "metadata": {
        "id": "4S8Jo-1xY6mN"
      },
      "execution_count": 9,
      "outputs": []
    },
    {
      "cell_type": "code",
      "source": [
        "# Define a new model that outputs the features from the desired layer\n",
        "class FeatureExtractor(torch.nn.Module):  # Create a new class for the feature extractor\n",
        "    def __init__(self, base_model, layer):  # Initialize the class with the base model and layer\n",
        "        super(FeatureExtractor, self).__init__()  # Call the parent class constructor\n",
        "        self.base_model = base_model  # Store the base model\n",
        "        self.layer = layer  # Store the desired layer\n",
        "\n",
        "    def forward(self, x):  # Forward pass\n",
        "        for name, module in self.base_model._modules.items():  # Iterate through the layers of the base model\n",
        "            x = module(x)  # Apply the layer\n",
        "            if name == self.layer:  # Check if the desired layer is reached\n",
        "                break  # Exit the loop\n",
        "        return x  # Return the output of the desired layer"
      ],
      "metadata": {
        "id": "O5DpkSZxY9Bq"
      },
      "execution_count": 10,
      "outputs": []
    },
    {
      "cell_type": "code",
      "source": [
        "# not all layers of the model are used. We extract the vector from layer \"AdaptiveAvgPool2d” as an extracted feature of an image\n",
        "model = FeatureExtractor(resnet, 'avgpool')  # Create the feature extractor"
      ],
      "metadata": {
        "id": "p6HEoRo1ZQwc"
      },
      "execution_count": 11,
      "outputs": []
    },
    {
      "cell_type": "code",
      "source": [
        "#below we define three functions that we use to calcualte similarity"
      ],
      "metadata": {
        "id": "jBwGGiJ3fTYe"
      },
      "execution_count": null,
      "outputs": []
    },
    {
      "cell_type": "code",
      "source": [
        "# function for calculating cosine similarity\n",
        "def cosine_similarity(vector1, vector2):\n",
        "  vector1 = vector1.flatten() # Flatten the tensor to 1D\n",
        "  vector2 = vector2.flatten() # Flatten the tensor to 1D\n",
        "  return 1 - scipy.spatial.distance.cosine(vector1.detach().numpy(), vector2.detach().numpy()) # Detach the tensors from the computation graph and convert them to NumPy arrays"
      ],
      "metadata": {
        "id": "7LnxanWlY_0T"
      },
      "execution_count": 12,
      "outputs": []
    },
    {
      "cell_type": "code",
      "source": [
        "# function for calculating euclidean similarity\n",
        "def euclidean_similarity(x, y):\n",
        "    x = x.flatten() # Flatten the tensor to 1D\n",
        "    y = y.flatten() # Flatten the tensor to 1D\n",
        "    return 1 / (1 + euclidean_distance(x.detach().numpy(), y.detach().numpy())) # Convert tensors to NumPy arrays before calculating the distance"
      ],
      "metadata": {
        "id": "r9PYE_UPfXuJ"
      },
      "execution_count": 13,
      "outputs": []
    },
    {
      "cell_type": "code",
      "source": [
        "# function for calculating dynamic time warping similarity of vectors\n",
        "def dtw_similarity(time_series_a,time_series_b):\n",
        "  # dtw.warping_paths returns the DTW distance and the DTW cost matrix\n",
        "  distance, paths = dtw.warping_paths(time_series_a.flatten(), time_series_b.flatten(), use_c=False)\n",
        "  # Compute the optimal path from the DTW cost matrix\n",
        "  best_path = dtw.best_path(paths)\n",
        "  return 1 - (distance / len(best_path)) # Use dtaidistance to caluate the dynamic time warping similarity of the vectors\n",
        "\n",
        "# function for scaling data in an array\n",
        "def normalize_series(data):\n",
        "  # collapse the array into one dimension\n",
        "  data_array = data.flatten()\n",
        "  # Detach the tensor from the computation graph and convert it to a NumPy array\n",
        "  data_array = data_array.detach().numpy()\n",
        "  # Normalize the data using MinMaxScaler\n",
        "  scaler = preprocessing.MinMaxScaler(feature_range=(0, 1))\n",
        "  # Fit the scaler on the data and transform it\n",
        "  normalized_array = scaler.fit_transform(data_array.reshape(-1, 1))\n",
        "  return normalized_array # return the normalized array"
      ],
      "metadata": {
        "id": "36uCqvntfX4B"
      },
      "execution_count": 14,
      "outputs": []
    },
    {
      "cell_type": "code",
      "source": [
        "#We check the similarity between similar songs involved in famous court cases using cosine similarity, euclidean similarity, and dynamic time warping similarity\n",
        "#In each case the closer the score is to 0 the more dissimilar the songs are while the closer the score is to 1 the more similiar the songs are"
      ],
      "metadata": {
        "id": "7EGS-cF5bPFN"
      },
      "execution_count": null,
      "outputs": []
    },
    {
      "cell_type": "code",
      "source": [
        "# Vanilla Ice's Ice Ice Baby vs. Under Pressure by Queen and David Bowie\n",
        "copy1 = torchvision.io.read_image(\"/content/drive/MyDrive/may-summer-2024-team-good-composers-borrow-great-ones-steal/Curl_Ideas_and_Mentioned_Resources/Mel_Spec_jpgs_of_song_pairs/IceIceBaby_full.jpg\").float() # Convert image to float\n",
        "org1 = torchvision.io.read_image(\"/content/drive/MyDrive/may-summer-2024-team-good-composers-borrow-great-ones-steal/Curl_Ideas_and_Mentioned_Resources/Mel_Spec_jpgs_of_song_pairs/UnderPressure_full.jpg\").float() # Convert image to float\n",
        "# Add a batch dimension to the images\n",
        "org1 = org1.unsqueeze(0) # Add a batch dimension (dim=0)\n",
        "copy1 = copy1.unsqueeze(0) # Add a batch dimension (dim=0)\n",
        "feat1 = model(org1)\n",
        "feat2 = model(copy1)\n",
        "cosine_similarity(feat1, feat2), euclidean_similarity(feat1, feat2), dtw_similarity(normalize_series(feat1),normalize_series(feat2))"
      ],
      "metadata": {
        "colab": {
          "base_uri": "https://localhost:8080/"
        },
        "id": "rxGPv15nZTwg",
        "outputId": "66a37243-489a-40ad-94aa-a2c0a951f107"
      },
      "execution_count": 25,
      "outputs": [
        {
          "output_type": "execute_result",
          "data": {
            "text/plain": [
              "(0.9992821540258834, 0.5419283239776682, 0.9981487904831516)"
            ]
          },
          "metadata": {},
          "execution_count": 25
        }
      ]
    },
    {
      "cell_type": "code",
      "source": [
        "# the Verve's Bitter Sweet Symphony vs. the Rolling Stone's The Last Time\n",
        "org2 = torchvision.io.read_image(\"/content/drive/MyDrive/may-summer-2024-team-good-composers-borrow-great-ones-steal/Curl_Ideas_and_Mentioned_Resources/Mel_Spec_jpgs_of_song_pairs/BittersweetSymphony_full.jpg\").float()\n",
        "copy2 = torchvision.io.read_image(\"/content/drive/MyDrive/may-summer-2024-team-good-composers-borrow-great-ones-steal/Curl_Ideas_and_Mentioned_Resources/Mel_Spec_jpgs_of_song_pairs/TheLastTime_full.jpg\").float()\n",
        "# Add a batch dimension to the images\n",
        "org2 = org2.unsqueeze(0) # Add a batch dimension (dim=0)\n",
        "copy2 = copy2.unsqueeze(0) # Add a batch dimension (dim=0)\n",
        "aeat1 = model(org2)\n",
        "aeat2 = model(copy2)\n",
        "cosine_similarity(aeat1, aeat2), euclidean_similarity(aeat1, aeat2), dtw_similarity(normalize_series(aeat1),normalize_series(aeat2))"
      ],
      "metadata": {
        "colab": {
          "base_uri": "https://localhost:8080/"
        },
        "id": "_icU1otrc3eE",
        "outputId": "fd849ce0-9c00-4436-80ba-6c89144e62f3"
      },
      "execution_count": 26,
      "outputs": [
        {
          "output_type": "execute_result",
          "data": {
            "text/plain": [
              "(0.9990979880138519, 0.5240111639617179, 0.9978767695798398)"
            ]
          },
          "metadata": {},
          "execution_count": 26
        }
      ]
    },
    {
      "cell_type": "code",
      "source": [
        "# Robin Thicke featuring rapper T.I. and singer Pharrell Williams's Blurred Lines vs. Marvin Gaye's Gotta Give It Up\n",
        "org3 = torchvision.io.read_image(\"/content/drive/MyDrive/may-summer-2024-team-good-composers-borrow-great-ones-steal/Curl_Ideas_and_Mentioned_Resources/Mel_Spec_jpgs_of_song_pairs/GottaGiveItUp_full.jpg\").float()\n",
        "copy3 = torchvision.io.read_image(\"/content/drive/MyDrive/may-summer-2024-team-good-composers-borrow-great-ones-steal/Curl_Ideas_and_Mentioned_Resources/Mel_Spec_jpgs_of_song_pairs/blurredlines_full.jpg\").float()\n",
        "# Add a batch dimension to the images\n",
        "org3 = org3.unsqueeze(0) # Add a batch dimension (dim=0)\n",
        "copy3 = copy3.unsqueeze(0) # Add a batch dimension (dim=0)\n",
        "beat1 = model(org3)\n",
        "beat2 = model(copy3)\n",
        "cosine_similarity(beat1, beat2), euclidean_similarity(beat1, beat2), dtw_similarity(normalize_series(beat1),normalize_series(beat2))"
      ],
      "metadata": {
        "colab": {
          "base_uri": "https://localhost:8080/"
        },
        "id": "1KprfCtec3mZ",
        "outputId": "584c721c-078a-4297-9353-5352806a1eb3"
      },
      "execution_count": 27,
      "outputs": [
        {
          "output_type": "execute_result",
          "data": {
            "text/plain": [
              "(0.9993273314838035, 0.5716701051661558, 0.9975071974286073)"
            ]
          },
          "metadata": {},
          "execution_count": 27
        }
      ]
    },
    {
      "cell_type": "code",
      "source": [
        "# Killing Joke‘s Eighties vs. Nirvana's Come as You are\n",
        "copy4 = torchvision.io.read_image(\"/content/drive/MyDrive/may-summer-2024-team-good-composers-borrow-great-ones-steal/Curl_Ideas_and_Mentioned_Resources/Mel_Spec_jpgs_of_song_pairs/ComeAsYouAre_full.jpg\").float()\n",
        "org4 = torchvision.io.read_image(\"/content/drive/MyDrive/may-summer-2024-team-good-composers-borrow-great-ones-steal/Curl_Ideas_and_Mentioned_Resources/Mel_Spec_jpgs_of_song_pairs/TheKillingJoke_full.jpg\").float()\n",
        "# Add a batch dimension to the images\n",
        "org4 = org4.unsqueeze(0) # Add a batch dimension (dim=0)\n",
        "copy4 = copy4.unsqueeze(0) # Add a batch dimension (dim=0)\n",
        "ceat1 = model(org4)\n",
        "ceat2 = model(copy4)\n",
        "cosine_similarity(ceat1, ceat2), euclidean_similarity(ceat1, ceat2), dtw_similarity(normalize_series(ceat1),normalize_series(ceat2))"
      ],
      "metadata": {
        "colab": {
          "base_uri": "https://localhost:8080/"
        },
        "id": "JvXc8u42c3t5",
        "outputId": "d3984da1-98c2-4f10-ab3a-c7fb49f3471b"
      },
      "execution_count": 28,
      "outputs": [
        {
          "output_type": "execute_result",
          "data": {
            "text/plain": [
              "(0.9991937772162273, 0.5464573885940459, 0.9976911216663776)"
            ]
          },
          "metadata": {},
          "execution_count": 28
        }
      ]
    },
    {
      "cell_type": "code",
      "source": [
        "# Chuck Berry's You Can't Catch Me vs. The Beatles Come Together\n",
        "org5 = torchvision.io.read_image(\"/content/drive/MyDrive/may-summer-2024-team-good-composers-borrow-great-ones-steal/Curl_Ideas_and_Mentioned_Resources/Mel_Spec_jpgs_of_song_pairs/YouCantCatchMe_full.jpg\").float()\n",
        "copy5 = torchvision.io.read_image(\"/content/drive/MyDrive/may-summer-2024-team-good-composers-borrow-great-ones-steal/Curl_Ideas_and_Mentioned_Resources/Mel_Spec_jpgs_of_song_pairs/ComeTogether_full.jpg\").float()\n",
        "# Add a batch dimension to the images\n",
        "org5 = org5.unsqueeze(0) # Add a batch dimension (dim=0)\n",
        "copy5 = copy5.unsqueeze(0) # Add a batch dimension (dim=0)\n",
        "deat1 = model(org5)\n",
        "deat2 = model(copy5)\n",
        "cosine_similarity(deat1, deat2), euclidean_similarity(deat1, deat2), dtw_similarity(normalize_series(deat1),normalize_series(deat2))"
      ],
      "metadata": {
        "colab": {
          "base_uri": "https://localhost:8080/"
        },
        "id": "Hh0L2Vo3c30F",
        "outputId": "561b91f2-fd20-47a3-a386-fa97f5160219"
      },
      "execution_count": 29,
      "outputs": [
        {
          "output_type": "execute_result",
          "data": {
            "text/plain": [
              "(0.999188850071174, 0.5334815611486301, 0.9980070342131827)"
            ]
          },
          "metadata": {},
          "execution_count": 29
        }
      ]
    },
    {
      "cell_type": "code",
      "source": [
        "# Radiohead's Creep vs. Lana Del Rey's Get Free\n",
        "org6 = torchvision.io.read_image(\"/content/drive/MyDrive/may-summer-2024-team-good-composers-borrow-great-ones-steal/Curl_Ideas_and_Mentioned_Resources/Mel_Spec_jpgs_of_song_pairs/Creep_full.jpg\").float()\n",
        "copy6 = torchvision.io.read_image(\"/content/drive/MyDrive/may-summer-2024-team-good-composers-borrow-great-ones-steal/Curl_Ideas_and_Mentioned_Resources/Mel_Spec_jpgs_of_song_pairs/GetFree_full.jpg\").float()\\\n",
        "# Add a batch dimension to the images\n",
        "org6 = org6.unsqueeze(0) # Add a batch dimension (dim=0)\n",
        "copy6 = copy6.unsqueeze(0) # Add a batch dimension (dim=0)\n",
        "eeat1 = model(org6)\n",
        "eeat2 = model(copy6)\n",
        "cosine_similarity(eeat1, eeat2), euclidean_similarity(eeat1, eeat2), dtw_similarity(normalize_series(eeat1),normalize_series(eeat2))"
      ],
      "metadata": {
        "colab": {
          "base_uri": "https://localhost:8080/"
        },
        "id": "AnbEDgA_c36J",
        "outputId": "8cc42ddf-adf6-4ebb-b1f4-1fbc536a6da6"
      },
      "execution_count": 30,
      "outputs": [
        {
          "output_type": "execute_result",
          "data": {
            "text/plain": [
              "(0.9990838983298976, 0.44889875057657913, 0.9978866979742061)"
            ]
          },
          "metadata": {},
          "execution_count": 30
        }
      ]
    },
    {
      "cell_type": "code",
      "source": [
        "# Radiohead's Creep vs. The Hollies The Air That I Breathe\n",
        "org7 = torchvision.io.read_image(\"/content/drive/MyDrive/may-summer-2024-team-good-composers-borrow-great-ones-steal/Curl_Ideas_and_Mentioned_Resources/Mel_Spec_jpgs_of_song_pairs/TheAirThatIBreathe_full.jpg\").float()\n",
        "copy7 = torchvision.io.read_image(\"/content/drive/MyDrive/may-summer-2024-team-good-composers-borrow-great-ones-steal/Curl_Ideas_and_Mentioned_Resources/Mel_Spec_jpgs_of_song_pairs/Creep_full.jpg\").float()\n",
        "# Add a batch dimension to the images\n",
        "org7 = org7.unsqueeze(0) # Add a batch dimension (dim=0)\n",
        "copy7 = copy7.unsqueeze(0) # Add a batch dimension (dim=0)\n",
        "geat1 = model(org7)\n",
        "geat2 = model(copy7)\n",
        "cosine_similarity(geat1, geat2), euclidean_similarity(geat1, geat2), dtw_similarity(normalize_series(geat1),normalize_series(geat2))"
      ],
      "metadata": {
        "colab": {
          "base_uri": "https://localhost:8080/"
        },
        "id": "NfLLI4OZc4AE",
        "outputId": "01847cfa-4cbf-4fdd-abac-05e25d447d76"
      },
      "execution_count": 31,
      "outputs": [
        {
          "output_type": "execute_result",
          "data": {
            "text/plain": [
              "(0.9992452623122817, 0.5315498470419161, 0.997770859233575)"
            ]
          },
          "metadata": {},
          "execution_count": 31
        }
      ]
    },
    {
      "cell_type": "code",
      "source": [
        "# George Harrison's My Sweet Lord vs. the Chiffons’ He’s So Fine\n",
        "org8 = torchvision.io.read_image(\"/content/drive/MyDrive/may-summer-2024-team-good-composers-borrow-great-ones-steal/Curl_Ideas_and_Mentioned_Resources/Mel_Spec_jpgs_of_song_pairs/Hessofine_full.jpg\").float()\n",
        "copy8 = torchvision.io.read_image(\"/content/drive/MyDrive/may-summer-2024-team-good-composers-borrow-great-ones-steal/Curl_Ideas_and_Mentioned_Resources/Mel_Spec_jpgs_of_song_pairs/MySweetLord_full.jpg\").float()\n",
        "# Add a batch dimension to the images\n",
        "org8 = org8.unsqueeze(0) # Add a batch dimension (dim=0)\n",
        "copy8 = copy8.unsqueeze(0) # Add a batch dimension (dim=0)\n",
        "heat1 = model(org8)\n",
        "heat2 = model(copy8)\n",
        "cosine_similarity(heat1, heat2), euclidean_similarity(heat1, heat2), dtw_similarity(normalize_series(heat1),normalize_series(heat2))"
      ],
      "metadata": {
        "colab": {
          "base_uri": "https://localhost:8080/"
        },
        "id": "aqcRH7ykc4Fu",
        "outputId": "5a471e47-161a-422a-940b-8c094255f2c9"
      },
      "execution_count": 32,
      "outputs": [
        {
          "output_type": "execute_result",
          "data": {
            "text/plain": [
              "(0.999371634081829, 0.5747763634745483, 0.9981076595072349)"
            ]
          },
          "metadata": {},
          "execution_count": 32
        }
      ]
    },
    {
      "cell_type": "code",
      "source": [
        "# Katy Perry featuring Juicy J.'s Dark Horse vs. Flame's Joyful Noise\n",
        "org9 = torchvision.io.read_image(\"/content/drive/MyDrive/may-summer-2024-team-good-composers-borrow-great-ones-steal/Curl_Ideas_and_Mentioned_Resources/Mel_Spec_jpgs_of_song_pairs/JoyfulNoise_full.jpg\").float()\n",
        "copy9 = torchvision.io.read_image(\"/content/drive/MyDrive/may-summer-2024-team-good-composers-borrow-great-ones-steal/Curl_Ideas_and_Mentioned_Resources/Mel_Spec_jpgs_of_song_pairs/DarkHorse_full.jpg\").float()\n",
        "# Add a batch dimension to the images\n",
        "org9 = org9.unsqueeze(0) # Add a batch dimension (dim=0)\n",
        "copy9 = copy9.unsqueeze(0) # Add a batch dimension (dim=0)\n",
        "jeat1 = model(org9)\n",
        "jeat2 = model(copy9)\n",
        "cosine_similarity(jeat1, jeat2), euclidean_similarity(jeat1, jeat2), dtw_similarity(normalize_series(jeat1),normalize_series(jeat2))"
      ],
      "metadata": {
        "colab": {
          "base_uri": "https://localhost:8080/"
        },
        "id": "NBxn4QDzc4Ls",
        "outputId": "ca3f8c51-9087-42a2-d7d1-eeaae33afdfe"
      },
      "execution_count": 33,
      "outputs": [
        {
          "output_type": "execute_result",
          "data": {
            "text/plain": [
              "(0.9990798896625854, 0.5278104732133297, 0.9978215751382793)"
            ]
          },
          "metadata": {},
          "execution_count": 33
        }
      ]
    },
    {
      "cell_type": "code",
      "source": [
        "# Rod Stewart's Do You Think I'm Sexy vs. Jorge Ben jor's Taj Mahal\n",
        "org10 = torchvision.io.read_image(\"/content/drive/MyDrive/may-summer-2024-team-good-composers-borrow-great-ones-steal/Curl_Ideas_and_Mentioned_Resources/Mel_Spec_jpgs_of_song_pairs/TajMahal_full.jpg\").float()\n",
        "copy10 = torchvision.io.read_image(\"/content/drive/MyDrive/may-summer-2024-team-good-composers-borrow-great-ones-steal/Curl_Ideas_and_Mentioned_Resources/Mel_Spec_jpgs_of_song_pairs/DoYaThinkImSexy_full.jpg\").float()\n",
        "# Add a batch dimension to the images\n",
        "org10 = org10.unsqueeze(0) # Add a batch dimension (dim=0)\n",
        "copy10 = copy10.unsqueeze(0) # Add a batch dimension (dim=0)\n",
        "keat1 = model(org10)\n",
        "keat2 = model(copy10)\n",
        "cosine_similarity(keat1, keat2), euclidean_similarity(keat1, keat2), dtw_similarity(normalize_series(keat1),normalize_series(keat2))"
      ],
      "metadata": {
        "colab": {
          "base_uri": "https://localhost:8080/"
        },
        "id": "hr7BiBXJc4R4",
        "outputId": "31a92dac-90ce-4398-9984-259a11171782"
      },
      "execution_count": 34,
      "outputs": [
        {
          "output_type": "execute_result",
          "data": {
            "text/plain": [
              "(0.9990406151430725, 0.5240343748060811, 0.9968844204270496)"
            ]
          },
          "metadata": {},
          "execution_count": 34
        }
      ]
    },
    {
      "cell_type": "code",
      "source": [
        "# Ray Parker Jr.'s Ghostbusters vs. Huey Lewis's I Want a New Drug\n",
        "copy11 = torchvision.io.read_image(\"/content/drive/MyDrive/may-summer-2024-team-good-composers-borrow-great-ones-steal/Curl_Ideas_and_Mentioned_Resources/Mel_Spec_jpgs_of_song_pairs/Ghostbusters_full.jpg\").float()\n",
        "org11 = torchvision.io.read_image(\"/content/drive/MyDrive/may-summer-2024-team-good-composers-borrow-great-ones-steal/Curl_Ideas_and_Mentioned_Resources/Mel_Spec_jpgs_of_song_pairs/IWantaNewDrug_full.jpg\").float()\n",
        "# Add a batch dimension to the images\n",
        "org11 = org11.unsqueeze(0) # Add a batch dimension (dim=0)\n",
        "copy11 = copy11.unsqueeze(0) # Add a batch dimension (dim=0)\n",
        "leat1 = model(org11)\n",
        "leat2 = model(copy11)\n",
        "cosine_similarity(leat1, leat2), euclidean_similarity(leat1, leat2), dtw_similarity(normalize_series(leat1),normalize_series(leat2))"
      ],
      "metadata": {
        "colab": {
          "base_uri": "https://localhost:8080/"
        },
        "id": "GaSfjPvGc4Xt",
        "outputId": "755bc78d-45b6-4b13-ffd6-dd7b267be84a"
      },
      "execution_count": 35,
      "outputs": [
        {
          "output_type": "execute_result",
          "data": {
            "text/plain": [
              "(0.9991662877509471, 0.5321089895895997, 0.9977565731951543)"
            ]
          },
          "metadata": {},
          "execution_count": 35
        }
      ]
    },
    {
      "cell_type": "code",
      "source": [
        "# Olivia Rodrigo's Good 4 U vs. Paramore's Misery Business\n",
        "org12 = torchvision.io.read_image(\"/content/drive/MyDrive/may-summer-2024-team-good-composers-borrow-great-ones-steal/Curl_Ideas_and_Mentioned_Resources/Mel_Spec_jpgs_of_song_pairs/MiseryBusiness_full.jpg\").float()\n",
        "copy12 = torchvision.io.read_image(\"/content/drive/MyDrive/may-summer-2024-team-good-composers-borrow-great-ones-steal/Curl_Ideas_and_Mentioned_Resources/Mel_Spec_jpgs_of_song_pairs/Good4u_full.jpg\").float()\n",
        "# Add a batch dimension to the images\n",
        "org12 = org12.unsqueeze(0) # Add a batch dimension (dim=0)\n",
        "copy12 = copy12.unsqueeze(0) # Add a batch dimension (dim=0)\n",
        "meat1 = model(org12)\n",
        "meat2 = model(copy12)\n",
        "cosine_similarity(meat1, meat2), euclidean_similarity(meat1, meat2), dtw_similarity(normalize_series(meat1),normalize_series(meat2))"
      ],
      "metadata": {
        "colab": {
          "base_uri": "https://localhost:8080/"
        },
        "id": "xpKd9OgKc4d1",
        "outputId": "6c417618-2868-4f19-cf2e-1e610d6bf1dd"
      },
      "execution_count": 36,
      "outputs": [
        {
          "output_type": "execute_result",
          "data": {
            "text/plain": [
              "(0.9993031814965958, 0.5586367857317895, 0.9982238979881509)"
            ]
          },
          "metadata": {},
          "execution_count": 36
        }
      ]
    },
    {
      "cell_type": "code",
      "source": [
        "#Oasis's Shakermaker vs. The New Seekers's I’d Like To Teach The World To Sing\n",
        "org13 = torchvision.io.read_image(\"/content/drive/MyDrive/may-summer-2024-team-good-composers-borrow-great-ones-steal/Curl_Ideas_and_Mentioned_Resources/Mel_Spec_jpgs_of_song_pairs/I'dLiketoTeaktheworldtosing_full.jpg\").float()\n",
        "copy13 = torchvision.io.read_image(\"/content/drive/MyDrive/may-summer-2024-team-good-composers-borrow-great-ones-steal/Curl_Ideas_and_Mentioned_Resources/Mel_Spec_jpgs_of_song_pairs/Shakermaker_full.jpg\").float()\n",
        "# Add a batch dimension to the images\n",
        "org13 = org13.unsqueeze(0) # Add a batch dimension (dim=0)\n",
        "copy13 = copy13.unsqueeze(0) # Add a batch dimension (dim=0)\n",
        "neat1 = model(org13)\n",
        "neat2 = model(copy13)\n",
        "cosine_similarity(neat1, neat2), euclidean_similarity(neat1, neat2), dtw_similarity(normalize_series(neat1),normalize_series(neat2))"
      ],
      "metadata": {
        "colab": {
          "base_uri": "https://localhost:8080/"
        },
        "id": "GTOShyZ8c4jy",
        "outputId": "88a679b3-b866-4d96-a1f7-0e652af93716"
      },
      "execution_count": 37,
      "outputs": [
        {
          "output_type": "execute_result",
          "data": {
            "text/plain": [
              "(0.9991825707921904, 0.5458719048320047, 0.9982912680342112)"
            ]
          },
          "metadata": {},
          "execution_count": 37
        }
      ]
    },
    {
      "cell_type": "code",
      "source": [
        "# Marvin Gaye's Let's Get It On vs. Ed Sheeran's Thinking Out Loud\n",
        "org14 = torchvision.io.read_image(\"/content/drive/MyDrive/may-summer-2024-team-good-composers-borrow-great-ones-steal/Curl_Ideas_and_Mentioned_Resources/Mel_Spec_jpgs_of_song_pairs/LetsGetItOn_full.jpg\").float()\n",
        "copy14 = torchvision.io.read_image(\"/content/drive/MyDrive/may-summer-2024-team-good-composers-borrow-great-ones-steal/Curl_Ideas_and_Mentioned_Resources/Mel_Spec_jpgs_of_song_pairs/ThinkingOutLoud_full.jpg\").float()\n",
        "# Add a batch dimension to the images\n",
        "org14 = org14.unsqueeze(0) # Add a batch dimension (dim=0)\n",
        "copy14 = copy14.unsqueeze(0) # Add a batch dimension (dim=0)\n",
        "peat1 = model(org14)\n",
        "peat2 = model(copy14)\n",
        "cosine_similarity(peat1, peat2), euclidean_similarity(peat1, peat2), dtw_similarity(normalize_series(peat1),normalize_series(peat2))"
      ],
      "metadata": {
        "colab": {
          "base_uri": "https://localhost:8080/"
        },
        "id": "7hYhqt83c4p-",
        "outputId": "1920f3eb-dde6-4fff-87a2-b962a920cdb3"
      },
      "execution_count": 38,
      "outputs": [
        {
          "output_type": "execute_result",
          "data": {
            "text/plain": [
              "(0.9993253219287899, 0.5577236039584025, 0.9978212632491323)"
            ]
          },
          "metadata": {},
          "execution_count": 38
        }
      ]
    },
    {
      "cell_type": "code",
      "source": [
        "# Led Zeppelin's Stairway to Heaven vs. Spirit's Taurus\n",
        "org15 = torchvision.io.read_image(\"/content/drive/MyDrive/may-summer-2024-team-good-composers-borrow-great-ones-steal/Curl_Ideas_and_Mentioned_Resources/Mel_Spec_jpgs_of_song_pairs/Taurus_full.jpg\").float()\n",
        "copy15 = torchvision.io.read_image(\"/content/drive/MyDrive/may-summer-2024-team-good-composers-borrow-great-ones-steal/Curl_Ideas_and_Mentioned_Resources/Mel_Spec_jpgs_of_song_pairs/StairwaytoHeaven_full.jpg\").float()\n",
        "# Add a batch dimension to the images\n",
        "org15 = org15.unsqueeze(0) # Add a batch dimension (dim=0)\n",
        "copy15 = copy15.unsqueeze(0) # Add a batch dimension (dim=0)\n",
        "qeat1 = model(org15)\n",
        "qeat2 = model(copy15)\n",
        "cosine_similarity(qeat1, qeat2), euclidean_similarity(qeat1, qeat2), dtw_similarity(normalize_series(qeat1),normalize_series(qeat2))"
      ],
      "metadata": {
        "colab": {
          "base_uri": "https://localhost:8080/"
        },
        "id": "da6Pkv1Jc4vx",
        "outputId": "45195c4f-2b58-4a07-fa7b-d3e23abdb9fa"
      },
      "execution_count": 39,
      "outputs": [
        {
          "output_type": "execute_result",
          "data": {
            "text/plain": [
              "(0.9992473359444322, 0.5595595055316047, 0.9978632826669471)"
            ]
          },
          "metadata": {},
          "execution_count": 39
        }
      ]
    },
    {
      "cell_type": "code",
      "source": [
        "# Sam Smith's Stay with Me vs. Tom Petty's I won't Back Down\n",
        "org16 = torchvision.io.read_image(\"/content/drive/MyDrive/may-summer-2024-team-good-composers-borrow-great-ones-steal/Curl_Ideas_and_Mentioned_Resources/Mel_Spec_jpgs_of_song_pairs/IWontBackDown_full.jpg\").float()\n",
        "copy16 = torchvision.io.read_image(\"/content/drive/MyDrive/may-summer-2024-team-good-composers-borrow-great-ones-steal/Curl_Ideas_and_Mentioned_Resources/Mel_Spec_jpgs_of_song_pairs/StayWithMe_full.jpg\").float()\n",
        "# Add a batch dimension to the images\n",
        "org16 = org16.unsqueeze(0) # Add a batch dimension (dim=0)\n",
        "copy16 = copy16.unsqueeze(0) # Add a batch dimension (dim=0)\n",
        "reat1 = model(org16)\n",
        "reat2 = model(copy16)\n",
        "cosine_similarity(reat1, reat2), euclidean_similarity(reat1, reat2), dtw_similarity(normalize_series(reat1),normalize_series(reat2))"
      ],
      "metadata": {
        "colab": {
          "base_uri": "https://localhost:8080/"
        },
        "id": "fPqM6diGc413",
        "outputId": "cf63c328-2ea4-4473-fabb-6584519a2b62"
      },
      "execution_count": 40,
      "outputs": [
        {
          "output_type": "execute_result",
          "data": {
            "text/plain": [
              "(0.9989713569254658, 0.5197388376830828, 0.9971416063899966)"
            ]
          },
          "metadata": {},
          "execution_count": 40
        }
      ]
    },
    {
      "cell_type": "code",
      "source": [
        "# Beach Boy's Surfin USA vs. Chuck Berry's Sweet Little Sixteen\n",
        "org17 = torchvision.io.read_image(\"/content/drive/MyDrive/may-summer-2024-team-good-composers-borrow-great-ones-steal/Curl_Ideas_and_Mentioned_Resources/Mel_Spec_jpgs_of_song_pairs/SweetLittleSixteen_full.jpg\").float()\n",
        "copy17 = torchvision.io.read_image(\"/content/drive/MyDrive/may-summer-2024-team-good-composers-borrow-great-ones-steal/Curl_Ideas_and_Mentioned_Resources/Mel_Spec_jpgs_of_song_pairs/SurfinUSA_full.jpg\").float()\n",
        "# Add a batch dimension to the images\n",
        "org17 = org17.unsqueeze(0) # Add a batch dimension (dim=0)\n",
        "copy17 = copy17.unsqueeze(0) # Add a batch dimension (dim=0)\n",
        "seat1 = model(org17)\n",
        "seat2 = model(copy17)\n",
        "cosine_similarity(seat1, seat2), euclidean_similarity(seat1, seat2), dtw_similarity(normalize_series(seat1),normalize_series(seat2))"
      ],
      "metadata": {
        "colab": {
          "base_uri": "https://localhost:8080/"
        },
        "id": "GthkPRXCc48b",
        "outputId": "ab073127-a81d-4617-c9bf-e3bb2a77d292"
      },
      "execution_count": 41,
      "outputs": [
        {
          "output_type": "execute_result",
          "data": {
            "text/plain": [
              "(0.9988502648547276, 0.5036628665686765, 0.9977504618510985)"
            ]
          },
          "metadata": {},
          "execution_count": 41
        }
      ]
    },
    {
      "cell_type": "code",
      "source": [
        "# De La Soul's Transmitting Live From Mars vs. The Turtles's You Showed Me\n",
        "org18 = torchvision.io.read_image(\"/content/drive/MyDrive/may-summer-2024-team-good-composers-borrow-great-ones-steal/Curl_Ideas_and_Mentioned_Resources/Mel_Spec_jpgs_of_song_pairs/YouShowedMe_full.jpg\").float()\n",
        "copy18 = torchvision.io.read_image(\"/content/drive/MyDrive/may-summer-2024-team-good-composers-borrow-great-ones-steal/Curl_Ideas_and_Mentioned_Resources/Mel_Spec_jpgs_of_song_pairs/TransmittingLivefromMars_full.jpg\").float()\n",
        "# Add a batch dimension to the images\n",
        "org18 = org18.unsqueeze(0) # Add a batch dimension (dim=0)\n",
        "copy18 = copy18.unsqueeze(0) # Add a batch dimension (dim=0)\n",
        "teat1 = model(org18)\n",
        "teat2 = model(copy18)\n",
        "cosine_similarity(teat1, teat2), euclidean_similarity(teat1, teat2), dtw_similarity(normalize_series(teat1),normalize_series(teat2))"
      ],
      "metadata": {
        "colab": {
          "base_uri": "https://localhost:8080/"
        },
        "id": "FLAapudac5Cm",
        "outputId": "90b9845a-446d-4b56-bdba-b41430360622"
      },
      "execution_count": 42,
      "outputs": [
        {
          "output_type": "execute_result",
          "data": {
            "text/plain": [
              "(0.9992765945592654, 0.5518787031394029, 0.9976377874731227)"
            ]
          },
          "metadata": {},
          "execution_count": 42
        }
      ]
    },
    {
      "cell_type": "code",
      "source": [
        "# Coldplay's Viva La Vida vs. Joe Satriani's If I Could Fly\n",
        "org19 = torchvision.io.read_image(\"/content/drive/MyDrive/may-summer-2024-team-good-composers-borrow-great-ones-steal/Curl_Ideas_and_Mentioned_Resources/Mel_Spec_jpgs_of_song_pairs/IfICouldFly_full.jpg\").float()\n",
        "copy19 = torchvision.io.read_image(\"/content/drive/MyDrive/may-summer-2024-team-good-composers-borrow-great-ones-steal/Curl_Ideas_and_Mentioned_Resources/Mel_Spec_jpgs_of_song_pairs/VivaLaVida_full.jpg\").float()\n",
        "# Add a batch dimension to the images\n",
        "org19 = org19.unsqueeze(0) # Add a batch dimension (dim=0)\n",
        "copy19 = copy19.unsqueeze(0) # Add a batch dimension (dim=0)\n",
        "veat1 = model(org19)\n",
        "veat2 = model(copy19)\n",
        "cosine_similarity(veat1, veat2), euclidean_similarity(veat1, veat2), dtw_similarity(normalize_series(veat1),normalize_series(veat2))"
      ],
      "metadata": {
        "colab": {
          "base_uri": "https://localhost:8080/"
        },
        "id": "IYmXezyNc5JD",
        "outputId": "1b763c44-88e6-4e0c-e3fe-e9f7391e9ce1"
      },
      "execution_count": 15,
      "outputs": [
        {
          "output_type": "execute_result",
          "data": {
            "text/plain": [
              "(0.9990314195652162, 0.5192915077397642, 0.997351265633777)"
            ]
          },
          "metadata": {},
          "execution_count": 15
        }
      ]
    },
    {
      "cell_type": "code",
      "source": [
        "# Led Zeppelin's Whole Lotta Love vs. Muddy Waters's You Need Love\n",
        "org20 = torchvision.io.read_image(\"/content/drive/MyDrive/may-summer-2024-team-good-composers-borrow-great-ones-steal/Curl_Ideas_and_Mentioned_Resources/Mel_Spec_jpgs_of_song_pairs/YouNeedLove_full.jpg\").float()\n",
        "copy20 = torchvision.io.read_image(\"/content/drive/MyDrive/may-summer-2024-team-good-composers-borrow-great-ones-steal/Curl_Ideas_and_Mentioned_Resources/Mel_Spec_jpgs_of_song_pairs/WholeLottaLove_full.jpg\").float()\n",
        "# Add a batch dimension to the images\n",
        "org20 = org20.unsqueeze(0) # Add a batch dimension (dim=0)\n",
        "copy20 = copy20.unsqueeze(0) # Add a batch dimension (dim=0)\n",
        "weat1 = model(org20)\n",
        "weat2 = model(copy20)\n",
        "cosine_similarity(weat1, weat2), euclidean_similarity(weat1, weat2), dtw_similarity(normalize_series(weat1),normalize_series(weat2))"
      ],
      "metadata": {
        "colab": {
          "base_uri": "https://localhost:8080/"
        },
        "id": "VEmrA_jJc5PQ",
        "outputId": "1c56b413-a40c-4230-e99c-6af1bcb94adb"
      },
      "execution_count": 16,
      "outputs": [
        {
          "output_type": "execute_result",
          "data": {
            "text/plain": [
              "(0.9990824276615689, 0.518089109690695, 0.9981876487728747)"
            ]
          },
          "metadata": {},
          "execution_count": 16
        }
      ]
    },
    {
      "cell_type": "code",
      "source": [
        "#We check the similarity between songs that are very dissimilar to the human ear"
      ],
      "metadata": {
        "id": "sXBzVaW3ZbD5"
      },
      "execution_count": null,
      "outputs": []
    },
    {
      "cell_type": "code",
      "source": [
        "#J.S. Bach - Toccata and Fugue in D minor BWV 565 vs. Master Of Puppets - Metallica\n",
        "org21 = torchvision.io.read_image(\"/content/drive/MyDrive/may-summer-2024-team-good-composers-borrow-great-ones-steal/Curl_Ideas_and_Mentioned_Resources/Mel_Spec_jpgs_of_song_pairs/J.S. Bach - Toccata and Fugue in D minor BWV 565.jpg\").float()\n",
        "copy21 = torchvision.io.read_image(\"/content/drive/MyDrive/may-summer-2024-team-good-composers-borrow-great-ones-steal/Curl_Ideas_and_Mentioned_Resources/Mel_Spec_jpgs_of_song_pairs/Master Of Puppets - Metallica.jpg\").float()\n",
        "org21 = org21.unsqueeze(0) # Add a batch dimension (dim=0)\n",
        "copy21 = copy21.unsqueeze(0) # Add a batch dimension (dim=0)\n",
        "aaeat1 = model(org21)\n",
        "aaeat2 = model(copy21)\n",
        "cosine_similarity(aaeat1, aaeat2), euclidean_similarity(aaeat1, aaeat2), dtw_similarity(normalize_series(aaeat1),normalize_series(aaeat2))"
      ],
      "metadata": {
        "colab": {
          "base_uri": "https://localhost:8080/"
        },
        "id": "EaTMHE6XdFXD",
        "outputId": "d36b6dc3-0f4e-4055-a4c5-0d0192f259e1"
      },
      "execution_count": 17,
      "outputs": [
        {
          "output_type": "execute_result",
          "data": {
            "text/plain": [
              "(0.9990676566042378, 0.5321980597140543, 0.9979426307230087)"
            ]
          },
          "metadata": {},
          "execution_count": 17
        }
      ]
    },
    {
      "cell_type": "code",
      "source": [
        "# Michael Jackson - Billie Jean vs. Alice Cooper - Schools Out\n",
        "org22 = torchvision.io.read_image(\"/content/drive/MyDrive/may-summer-2024-team-good-composers-borrow-great-ones-steal/Curl_Ideas_and_Mentioned_Resources/Mel_Spec_jpgs_of_song_pairs/Michael Jackson - Billie Jean.jpg\").float()\n",
        "copy22 = torchvision.io.read_image(\"/content/drive/MyDrive/may-summer-2024-team-good-composers-borrow-great-ones-steal/Curl_Ideas_and_Mentioned_Resources/Mel_Spec_jpgs_of_song_pairs/Alice Cooper - Schools Out.jpg\").float()\n",
        "org22 = org22.unsqueeze(0) # Add a batch dimension (dim=0)\n",
        "copy22 = copy22.unsqueeze(0) # Add a batch dimension (dim=0)\n",
        "bbeat1 = model(org22)\n",
        "bbeat2 = model(copy22)\n",
        "cosine_similarity(bbeat1, bbeat2), euclidean_similarity(bbeat1, bbeat2), dtw_similarity(normalize_series(bbeat1),normalize_series(bbeat2))"
      ],
      "metadata": {
        "colab": {
          "base_uri": "https://localhost:8080/"
        },
        "id": "wEMf55UndFdI",
        "outputId": "767d0cf8-274f-4d4d-f8d6-f3e93472cf99"
      },
      "execution_count": 18,
      "outputs": [
        {
          "output_type": "execute_result",
          "data": {
            "text/plain": [
              "(0.9992277435852752, 0.5283894583865238, 0.9978746552923841)"
            ]
          },
          "metadata": {},
          "execution_count": 18
        }
      ]
    },
    {
      "cell_type": "code",
      "source": [
        "# Yakety Sax - Boots Randolph vs. Vanessa Carlton - A Thousand miles\n",
        "org23 = torchvision.io.read_image(\"/content/drive/MyDrive/may-summer-2024-team-good-composers-borrow-great-ones-steal/Curl_Ideas_and_Mentioned_Resources/Mel_Spec_jpgs_of_song_pairs/Yakety Sax - Boots Randolph.jpg\").float()\n",
        "copy23 = torchvision.io.read_image(\"/content/drive/MyDrive/may-summer-2024-team-good-composers-borrow-great-ones-steal/Curl_Ideas_and_Mentioned_Resources/Mel_Spec_jpgs_of_song_pairs/Vanessa Carlton - A Thousand Miles.jpg\").float()\n",
        "org23 = org23.unsqueeze(0) # Add a batch dimension (dim=0)\n",
        "copy23 = copy23.unsqueeze(0) # Add a batch dimension (dim=0)\n",
        "cceat1 = model(org23)\n",
        "cceat2 = model(copy23)\n",
        "cosine_similarity(cceat1, cceat2), euclidean_similarity(cceat1, cceat2), dtw_similarity(normalize_series(cceat1),normalize_series(cceat2))"
      ],
      "metadata": {
        "colab": {
          "base_uri": "https://localhost:8080/"
        },
        "id": "zVXlUcdDdFiR",
        "outputId": "73861fc6-ed26-456b-ddfd-c9ac91f8138d"
      },
      "execution_count": 19,
      "outputs": [
        {
          "output_type": "execute_result",
          "data": {
            "text/plain": [
              "(0.9992825192391533, 0.5541912589330013, 0.9980206792452436)"
            ]
          },
          "metadata": {},
          "execution_count": 19
        }
      ]
    },
    {
      "cell_type": "code",
      "source": [
        "# AC⧸DC - Back In Black vs. 4'33'' - John Cage\n",
        "org24 = torchvision.io.read_image(\"/content/drive/MyDrive/may-summer-2024-team-good-composers-borrow-great-ones-steal/Curl_Ideas_and_Mentioned_Resources/Mel_Spec_jpgs_of_song_pairs/AC⧸DC - Back In Black.jpg\").float()\n",
        "copy24 = torchvision.io.read_image(\"/content/drive/MyDrive/may-summer-2024-team-good-composers-borrow-great-ones-steal/Curl_Ideas_and_Mentioned_Resources/Mel_Spec_jpgs_of_song_pairs/4'33'' - John Cage.jpg\").float()\n",
        "org24 = org24.unsqueeze(0) # Add a batch dimension (dim=0)\n",
        "copy24 = copy24.unsqueeze(0) # Add a batch dimension (dim=0)\n",
        "ddeat1 = model(org24)\n",
        "ddeat2 = model(copy24)\n",
        "cosine_similarity(ddeat1, ddeat2), euclidean_similarity(ddeat1, ddeat2), dtw_similarity(normalize_series(ddeat1),normalize_series(ddeat2))"
      ],
      "metadata": {
        "colab": {
          "base_uri": "https://localhost:8080/"
        },
        "id": "t7xfYOA8dFnq",
        "outputId": "e9813493-7164-48f0-e444-5ab2af509082"
      },
      "execution_count": 20,
      "outputs": [
        {
          "output_type": "execute_result",
          "data": {
            "text/plain": [
              "(0.9991314775018219, 0.5120526517096, 0.9979148729035836)"
            ]
          },
          "metadata": {},
          "execution_count": 20
        }
      ]
    },
    {
      "cell_type": "code",
      "source": [
        "# Tequila - The Champs  vs. Chopin - Nocturne in E Flat Major (Op. 9 No. 2)\n",
        "org25 = torchvision.io.read_image(\"/content/drive/MyDrive/may-summer-2024-team-good-composers-borrow-great-ones-steal/Curl_Ideas_and_Mentioned_Resources/Mel_Spec_jpgs_of_song_pairs/Tequila - The Champs.jpg\").float()\n",
        "copy25 = torchvision.io.read_image(\"/content/drive/MyDrive/may-summer-2024-team-good-composers-borrow-great-ones-steal/Curl_Ideas_and_Mentioned_Resources/Mel_Spec_jpgs_of_song_pairs/Chopin - Nocturne in E Flat Major (Op. 9 No. 2).jpg\").float()\n",
        "org25 = org25.unsqueeze(0) # Add a batch dimension (dim=0)\n",
        "copy25 = copy25.unsqueeze(0) # Add a batch dimension (dim=0)\n",
        "eeeat1 = model(org25)\n",
        "eeeat2 = model(copy25)\n",
        "cosine_similarity(eeeat1, eeeat2), euclidean_similarity(eeeat1, eeeat2), dtw_similarity(normalize_series(eeeat1),normalize_series(eeeat2))"
      ],
      "metadata": {
        "colab": {
          "base_uri": "https://localhost:8080/"
        },
        "id": "Z3mQhb3TdFsZ",
        "outputId": "37b4953a-82cb-4803-80da-3144444f90ea"
      },
      "execution_count": 21,
      "outputs": [
        {
          "output_type": "execute_result",
          "data": {
            "text/plain": [
              "(0.9989729324208803, 0.5198437389524883, 0.9973985296314184)"
            ]
          },
          "metadata": {},
          "execution_count": 21
        }
      ]
    },
    {
      "cell_type": "code",
      "source": [
        "# Aretha Franklin - Respect vs. Love Theme From Romeo & Juliet - Pyotr Ilyich Tchaikovsky\n",
        "org26 = torchvision.io.read_image(\"/content/drive/MyDrive/may-summer-2024-team-good-composers-borrow-great-ones-steal/Curl_Ideas_and_Mentioned_Resources/Mel_Spec_jpgs_of_song_pairs/Aretha Franklin - Respect.jpg\").float()\n",
        "copy26 = torchvision.io.read_image(\"/content/drive/MyDrive/may-summer-2024-team-good-composers-borrow-great-ones-steal/Curl_Ideas_and_Mentioned_Resources/Mel_Spec_jpgs_of_song_pairs/Love Theme From Romeo & Juliet - Pyotr Ilyich Tchaikovsky.jpg\").float()\n",
        "org26 = org26.unsqueeze(0) # Add a batch dimension (dim=0)\n",
        "copy26 = copy26.unsqueeze(0) # Add a batch dimension (dim=0)\n",
        "ffeat1 = model(org26)\n",
        "ffeat2 = model(copy26)\n",
        "cosine_similarity(ffeat1, ffeat2), euclidean_similarity(ffeat1, ffeat2), dtw_similarity(normalize_series(ffeat1),normalize_series(ffeat2))"
      ],
      "metadata": {
        "colab": {
          "base_uri": "https://localhost:8080/"
        },
        "id": "Sb5LE43RdFyE",
        "outputId": "894e1eda-622d-4846-a784-0bd55cac1c36"
      },
      "execution_count": 22,
      "outputs": [
        {
          "output_type": "execute_result",
          "data": {
            "text/plain": [
              "(0.9993310921390113, 0.5506802535952106, 0.9978887523238066)"
            ]
          },
          "metadata": {},
          "execution_count": 22
        }
      ]
    },
    {
      "cell_type": "code",
      "source": [
        "# Nirvana - Smells Like Teen Spirit vs. Ave Maria - J.S. Bach and Charles Gounod\n",
        "org27 = torchvision.io.read_image(\"/content/drive/MyDrive/may-summer-2024-team-good-composers-borrow-great-ones-steal/Curl_Ideas_and_Mentioned_Resources/Mel_Spec_jpgs_of_song_pairs/Nirvana - Smells Like Teen Spirit.jpg\").float()\n",
        "copy27 = torchvision.io.read_image(\"/content/drive/MyDrive/may-summer-2024-team-good-composers-borrow-great-ones-steal/Curl_Ideas_and_Mentioned_Resources/Mel_Spec_jpgs_of_song_pairs/Ave Maria - J.S. Bach and Charles Gounod.jpg\").float()\n",
        "org27 = org27.unsqueeze(0) # Add a batch dimension (dim=0)\n",
        "copy27 = copy27.unsqueeze(0) # Add a batch dimension (dim=0)\n",
        "ggeat1 = model(org27)\n",
        "ggeat2 = model(copy27)\n",
        "cosine_similarity(ggeat1, ggeat2), euclidean_similarity(ggeat1, ggeat2), dtw_similarity(normalize_series(ggeat1),normalize_series(ggeat2))"
      ],
      "metadata": {
        "colab": {
          "base_uri": "https://localhost:8080/"
        },
        "id": "HKdEuXZEdF23",
        "outputId": "21fa5bda-a81c-405e-d5f1-edc02f421204"
      },
      "execution_count": 23,
      "outputs": [
        {
          "output_type": "execute_result",
          "data": {
            "text/plain": [
              "(0.9991490202406585, 0.5007718287635903, 0.997813955625132)"
            ]
          },
          "metadata": {},
          "execution_count": 23
        }
      ]
    },
    {
      "cell_type": "code",
      "source": [
        "# David Bowie - Heroes vs. OutKast - Hey Ya\n",
        "org28 = torchvision.io.read_image(\"/content/drive/MyDrive/may-summer-2024-team-good-composers-borrow-great-ones-steal/Curl_Ideas_and_Mentioned_Resources/Mel_Spec_jpgs_of_song_pairs/David Bowie - Heroes.jpg\").float()\n",
        "copy28 = torchvision.io.read_image(\"/content/drive/MyDrive/may-summer-2024-team-good-composers-borrow-great-ones-steal/Curl_Ideas_and_Mentioned_Resources/Mel_Spec_jpgs_of_song_pairs/OutKast - Hey Ya.jpg\").float()\n",
        "org28 = org28.unsqueeze(0) # Add a batch dimension (dim=0)\n",
        "copy28 = copy28.unsqueeze(0) # Add a batch dimension (dim=0)\n",
        "hheat1 = model(org28)\n",
        "hheat2 = model(copy28)\n",
        "cosine_similarity(hheat1, hheat2), euclidean_similarity(hheat1, hheat2), dtw_similarity(normalize_series(hheat1),normalize_series(hheat2))"
      ],
      "metadata": {
        "colab": {
          "base_uri": "https://localhost:8080/"
        },
        "id": "iwAL9e8UdF8b",
        "outputId": "9cb3ab4d-65d9-4f30-98de-3908559af716"
      },
      "execution_count": 24,
      "outputs": [
        {
          "output_type": "execute_result",
          "data": {
            "text/plain": [
              "(0.9990322711632141, 0.5284367980462462, 0.9978800901118343)"
            ]
          },
          "metadata": {},
          "execution_count": 24
        }
      ]
    },
    {
      "cell_type": "code",
      "source": [
        "# The Dave Brubeck Quartet - Take Five vs. Public Enemy - Fight the Power\n",
        "org29 = torchvision.io.read_image(\"/content/drive/MyDrive/may-summer-2024-team-good-composers-borrow-great-ones-steal/Curl_Ideas_and_Mentioned_Resources/Mel_Spec_jpgs_of_song_pairs/The Dave Brubeck Quartet - Take Five.jpg\").float()\n",
        "copy29 = torchvision.io.read_image(\"/content/drive/MyDrive/may-summer-2024-team-good-composers-borrow-great-ones-steal/Curl_Ideas_and_Mentioned_Resources/Mel_Spec_jpgs_of_song_pairs/Public Enemy - Fight the Power.jpg\").float()\n",
        "org29 = org29.unsqueeze(0) # Add a batch dimension (dim=0)\n",
        "copy29 = copy29.unsqueeze(0) # Add a batch dimension (dim=0)\n",
        "jjeat1 = model(org29)\n",
        "jjeat2 = model(copy29)\n",
        "cosine_similarity(jjeat1, jjeat2), euclidean_similarity(jjeat1, jjeat2), dtw_similarity(normalize_series(jjeat1),normalize_series(jjeat2))"
      ],
      "metadata": {
        "colab": {
          "base_uri": "https://localhost:8080/"
        },
        "id": "wr3V_LgKdGBo",
        "outputId": "063e2c42-80b4-46e0-abf7-2056e410df67"
      },
      "execution_count": 25,
      "outputs": [
        {
          "output_type": "execute_result",
          "data": {
            "text/plain": [
              "(0.9991394953851029, 0.5379145418076379, 0.9974208606335849)"
            ]
          },
          "metadata": {},
          "execution_count": 25
        }
      ]
    },
    {
      "cell_type": "code",
      "source": [
        "#Grieg - Peer Gynt Suite No. 1, Op. 46 I. Morning Mood vs. Pour Some Sugar On Me - Def Leppard\n",
        "org30 = torchvision.io.read_image(\"/content/drive/MyDrive/may-summer-2024-team-good-composers-borrow-great-ones-steal/Curl_Ideas_and_Mentioned_Resources/Mel_Spec_jpgs_of_song_pairs/Grieg - Peer Gynt Suite No. 1, Op. 46 I. Morning Mood.jpg\").float()\n",
        "copy30 = torchvision.io.read_image(\"/content/drive/MyDrive/may-summer-2024-team-good-composers-borrow-great-ones-steal/Curl_Ideas_and_Mentioned_Resources/Mel_Spec_jpgs_of_song_pairs/Pour Some Sugar On Me - Def Leppard.jpg\").float()\n",
        "org30 = org30.unsqueeze(0) # Add a batch dimension (dim=0)\n",
        "copy30 = copy30.unsqueeze(0) # Add a batch dimension (dim=0)\n",
        "kkeat1 = model(org30)\n",
        "kkeat2 = model(copy30)\n",
        "cosine_similarity(kkeat1, kkeat2), euclidean_similarity(kkeat1, kkeat2), dtw_similarity(normalize_series(kkeat1),normalize_series(kkeat2))"
      ],
      "metadata": {
        "colab": {
          "base_uri": "https://localhost:8080/"
        },
        "id": "w13ieeihdGHL",
        "outputId": "1db14ad2-4a44-4ec5-d204-5e6dde8b1c8e"
      },
      "execution_count": 26,
      "outputs": [
        {
          "output_type": "execute_result",
          "data": {
            "text/plain": [
              "(0.9990664059616721, 0.5298493489543532, 0.9978850177993422)"
            ]
          },
          "metadata": {},
          "execution_count": 26
        }
      ]
    },
    {
      "cell_type": "code",
      "source": [
        "#The scores are extremely high (close to 1) for all song pairs when evaluated by cosine and DTW similarity.\n",
        "#The scores are all about midway between 0 and 1 for all song pairs when evaluated by euclidean similarity.\n",
        "#This model as-is is not a terribly good representation of similarity between songs."
      ],
      "metadata": {
        "id": "OUKnw76J3p45"
      },
      "execution_count": null,
      "outputs": []
    }
  ]
}