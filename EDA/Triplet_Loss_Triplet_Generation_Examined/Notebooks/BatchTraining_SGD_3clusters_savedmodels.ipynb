{
 "cells": [
  {
   "cell_type": "code",
   "execution_count": 1,
   "id": "a2d67543-573a-47d8-a63e-c8c4205757f8",
   "metadata": {},
   "outputs": [],
   "source": [
    "#The csv file containing the music_info.csv and created cluster labels imported as a data frame through Pandas\n",
    "import pandas as pd"
   ]
  },
  {
   "cell_type": "code",
   "execution_count": 2,
   "id": "a4578fae-a34a-45d5-91ae-f5cfcdaf8418",
   "metadata": {},
   "outputs": [
    {
     "data": {
      "text/html": [
       "<div>\n",
       "<style scoped>\n",
       "    .dataframe tbody tr th:only-of-type {\n",
       "        vertical-align: middle;\n",
       "    }\n",
       "\n",
       "    .dataframe tbody tr th {\n",
       "        vertical-align: top;\n",
       "    }\n",
       "\n",
       "    .dataframe thead th {\n",
       "        text-align: right;\n",
       "    }\n",
       "</style>\n",
       "<table border=\"1\" class=\"dataframe\">\n",
       "  <thead>\n",
       "    <tr style=\"text-align: right;\">\n",
       "      <th></th>\n",
       "      <th>Unnamed: 0</th>\n",
       "      <th>name</th>\n",
       "      <th>artist</th>\n",
       "      <th>danceability</th>\n",
       "      <th>energy</th>\n",
       "      <th>key</th>\n",
       "      <th>mode</th>\n",
       "      <th>valence</th>\n",
       "      <th>tempo</th>\n",
       "      <th>Cluster</th>\n",
       "    </tr>\n",
       "  </thead>\n",
       "  <tbody>\n",
       "    <tr>\n",
       "      <th>0</th>\n",
       "      <td>0</td>\n",
       "      <td>Mr. Brightside</td>\n",
       "      <td>The Killers</td>\n",
       "      <td>0.355</td>\n",
       "      <td>0.918</td>\n",
       "      <td>1</td>\n",
       "      <td>1</td>\n",
       "      <td>0.240</td>\n",
       "      <td>0.619996</td>\n",
       "      <td>1</td>\n",
       "    </tr>\n",
       "    <tr>\n",
       "      <th>1</th>\n",
       "      <td>1</td>\n",
       "      <td>Wonderwall</td>\n",
       "      <td>Oasis</td>\n",
       "      <td>0.409</td>\n",
       "      <td>0.892</td>\n",
       "      <td>2</td>\n",
       "      <td>1</td>\n",
       "      <td>0.651</td>\n",
       "      <td>0.730137</td>\n",
       "      <td>1</td>\n",
       "    </tr>\n",
       "    <tr>\n",
       "      <th>2</th>\n",
       "      <td>2</td>\n",
       "      <td>Come as You Are</td>\n",
       "      <td>Nirvana</td>\n",
       "      <td>0.508</td>\n",
       "      <td>0.826</td>\n",
       "      <td>4</td>\n",
       "      <td>0</td>\n",
       "      <td>0.543</td>\n",
       "      <td>0.502363</td>\n",
       "      <td>1</td>\n",
       "    </tr>\n",
       "    <tr>\n",
       "      <th>3</th>\n",
       "      <td>3</td>\n",
       "      <td>Take Me Out</td>\n",
       "      <td>Franz Ferdinand</td>\n",
       "      <td>0.279</td>\n",
       "      <td>0.664</td>\n",
       "      <td>9</td>\n",
       "      <td>1</td>\n",
       "      <td>0.490</td>\n",
       "      <td>0.437682</td>\n",
       "      <td>2</td>\n",
       "    </tr>\n",
       "    <tr>\n",
       "      <th>4</th>\n",
       "      <td>4</td>\n",
       "      <td>Creep</td>\n",
       "      <td>Radiohead</td>\n",
       "      <td>0.515</td>\n",
       "      <td>0.430</td>\n",
       "      <td>7</td>\n",
       "      <td>1</td>\n",
       "      <td>0.104</td>\n",
       "      <td>0.384441</td>\n",
       "      <td>0</td>\n",
       "    </tr>\n",
       "  </tbody>\n",
       "</table>\n",
       "</div>"
      ],
      "text/plain": [
       "   Unnamed: 0             name           artist  danceability  energy  key  \\\n",
       "0           0   Mr. Brightside      The Killers         0.355   0.918    1   \n",
       "1           1       Wonderwall            Oasis         0.409   0.892    2   \n",
       "2           2  Come as You Are          Nirvana         0.508   0.826    4   \n",
       "3           3      Take Me Out  Franz Ferdinand         0.279   0.664    9   \n",
       "4           4            Creep        Radiohead         0.515   0.430    7   \n",
       "\n",
       "   mode  valence     tempo  Cluster  \n",
       "0     1    0.240  0.619996        1  \n",
       "1     1    0.651  0.730137        1  \n",
       "2     0    0.543  0.502363        1  \n",
       "3     1    0.490  0.437682        2  \n",
       "4     1    0.104  0.384441        0  "
      ]
     },
     "execution_count": 2,
     "metadata": {},
     "output_type": "execute_result"
    }
   ],
   "source": [
    "threeclusters_df = pd.read_csv(\"3clusters_musicinfo.csv\")\n",
    "threeclusters_df.head(5)"
   ]
  },
  {
   "cell_type": "code",
   "execution_count": 3,
   "id": "3c0ae207-79c1-435c-8326-c6a8204d4e02",
   "metadata": {},
   "outputs": [
    {
     "data": {
      "text/html": [
       "<div>\n",
       "<style scoped>\n",
       "    .dataframe tbody tr th:only-of-type {\n",
       "        vertical-align: middle;\n",
       "    }\n",
       "\n",
       "    .dataframe tbody tr th {\n",
       "        vertical-align: top;\n",
       "    }\n",
       "\n",
       "    .dataframe thead th {\n",
       "        text-align: right;\n",
       "    }\n",
       "</style>\n",
       "<table border=\"1\" class=\"dataframe\">\n",
       "  <thead>\n",
       "    <tr style=\"text-align: right;\">\n",
       "      <th></th>\n",
       "      <th>Unnamed: 0</th>\n",
       "      <th>name</th>\n",
       "      <th>artist</th>\n",
       "      <th>danceability</th>\n",
       "      <th>energy</th>\n",
       "      <th>key</th>\n",
       "      <th>mode</th>\n",
       "      <th>valence</th>\n",
       "      <th>tempo</th>\n",
       "      <th>Cluster</th>\n",
       "      <th>X_vector</th>\n",
       "    </tr>\n",
       "  </thead>\n",
       "  <tbody>\n",
       "    <tr>\n",
       "      <th>0</th>\n",
       "      <td>0</td>\n",
       "      <td>Mr. Brightside</td>\n",
       "      <td>The Killers</td>\n",
       "      <td>0.355</td>\n",
       "      <td>0.918</td>\n",
       "      <td>1</td>\n",
       "      <td>1</td>\n",
       "      <td>0.240</td>\n",
       "      <td>0.619996</td>\n",
       "      <td>1</td>\n",
       "      <td>[0.355, 0.918, 1, 1, 0.24, 0.6199962326545135]</td>\n",
       "    </tr>\n",
       "    <tr>\n",
       "      <th>1</th>\n",
       "      <td>1</td>\n",
       "      <td>Wonderwall</td>\n",
       "      <td>Oasis</td>\n",
       "      <td>0.409</td>\n",
       "      <td>0.892</td>\n",
       "      <td>2</td>\n",
       "      <td>1</td>\n",
       "      <td>0.651</td>\n",
       "      <td>0.730137</td>\n",
       "      <td>1</td>\n",
       "      <td>[0.409, 0.892, 2, 1, 0.651, 0.7301366709223718]</td>\n",
       "    </tr>\n",
       "    <tr>\n",
       "      <th>2</th>\n",
       "      <td>2</td>\n",
       "      <td>Come as You Are</td>\n",
       "      <td>Nirvana</td>\n",
       "      <td>0.508</td>\n",
       "      <td>0.826</td>\n",
       "      <td>4</td>\n",
       "      <td>0</td>\n",
       "      <td>0.543</td>\n",
       "      <td>0.502363</td>\n",
       "      <td>1</td>\n",
       "      <td>[0.508, 0.826, 4, 0, 0.543, 0.5023629628079282]</td>\n",
       "    </tr>\n",
       "    <tr>\n",
       "      <th>3</th>\n",
       "      <td>3</td>\n",
       "      <td>Take Me Out</td>\n",
       "      <td>Franz Ferdinand</td>\n",
       "      <td>0.279</td>\n",
       "      <td>0.664</td>\n",
       "      <td>9</td>\n",
       "      <td>1</td>\n",
       "      <td>0.490</td>\n",
       "      <td>0.437682</td>\n",
       "      <td>2</td>\n",
       "      <td>[0.279, 0.664, 9, 1, 0.49, 0.4376818267439671]</td>\n",
       "    </tr>\n",
       "    <tr>\n",
       "      <th>4</th>\n",
       "      <td>4</td>\n",
       "      <td>Creep</td>\n",
       "      <td>Radiohead</td>\n",
       "      <td>0.515</td>\n",
       "      <td>0.430</td>\n",
       "      <td>7</td>\n",
       "      <td>1</td>\n",
       "      <td>0.104</td>\n",
       "      <td>0.384441</td>\n",
       "      <td>0</td>\n",
       "      <td>[0.515, 0.43, 7, 1, 0.104, 0.3844408631407104]</td>\n",
       "    </tr>\n",
       "  </tbody>\n",
       "</table>\n",
       "</div>"
      ],
      "text/plain": [
       "   Unnamed: 0             name           artist  danceability  energy  key  \\\n",
       "0           0   Mr. Brightside      The Killers         0.355   0.918    1   \n",
       "1           1       Wonderwall            Oasis         0.409   0.892    2   \n",
       "2           2  Come as You Are          Nirvana         0.508   0.826    4   \n",
       "3           3      Take Me Out  Franz Ferdinand         0.279   0.664    9   \n",
       "4           4            Creep        Radiohead         0.515   0.430    7   \n",
       "\n",
       "   mode  valence     tempo  Cluster  \\\n",
       "0     1    0.240  0.619996        1   \n",
       "1     1    0.651  0.730137        1   \n",
       "2     0    0.543  0.502363        1   \n",
       "3     1    0.490  0.437682        2   \n",
       "4     1    0.104  0.384441        0   \n",
       "\n",
       "                                          X_vector  \n",
       "0   [0.355, 0.918, 1, 1, 0.24, 0.6199962326545135]  \n",
       "1  [0.409, 0.892, 2, 1, 0.651, 0.7301366709223718]  \n",
       "2  [0.508, 0.826, 4, 0, 0.543, 0.5023629628079282]  \n",
       "3   [0.279, 0.664, 9, 1, 0.49, 0.4376818267439671]  \n",
       "4   [0.515, 0.43, 7, 1, 0.104, 0.3844408631407104]  "
      ]
     },
     "execution_count": 3,
     "metadata": {},
     "output_type": "execute_result"
    }
   ],
   "source": [
    "threeclusters_df['X_vector'] = [[threeclusters_df.danceability.iloc[i],threeclusters_df.energy.iloc[i],threeclusters_df.key.iloc[i],threeclusters_df['mode'].iloc[i],threeclusters_df.valence.iloc[i],threeclusters_df.tempo.iloc[i]] for i in range(0, len(threeclusters_df))]\n",
    "threeclusters_df.head(5)"
   ]
  },
  {
   "cell_type": "code",
   "execution_count": 4,
   "id": "b41abd0a-d7cb-4d1b-937f-b91eb67b4415",
   "metadata": {},
   "outputs": [],
   "source": [
    "#The below comes from following along with the Kaggle notebook found here: https://www.kaggle.com/code/prashantdandriyal/online-svm-classifier-sgdclassifier"
   ]
  },
  {
   "cell_type": "code",
   "execution_count": 4,
   "id": "00e1fed2-403f-4de8-9dd3-e45f3f50aa35",
   "metadata": {},
   "outputs": [],
   "source": [
    "#import the necessary library, modules, functions, settings \n",
    "import numpy as np \n",
    "import random\n",
    "from sklearn.linear_model import SGDClassifier\n",
    "from sklearn.model_selection import train_test_split\n",
    "from sklearn.preprocessing import StandardScaler"
   ]
  },
  {
   "cell_type": "code",
   "execution_count": 5,
   "id": "e8b5fb93-999b-4126-86a6-0255de70a5d5",
   "metadata": {},
   "outputs": [],
   "source": [
    "#Define the input and target variable\n",
    "X = threeclusters_df['X_vector']\n",
    "y = threeclusters_df['Cluster']"
   ]
  },
  {
   "cell_type": "code",
   "execution_count": 6,
   "id": "a369703b-fdcc-4c60-a841-353ec054b363",
   "metadata": {},
   "outputs": [
    {
     "name": "stderr",
     "output_type": "stream",
     "text": [
      "/opt/anaconda3/envs/erdos_may_2024_v2/lib/python3.11/site-packages/numpy/core/fromnumeric.py:59: FutureWarning: 'Series.swapaxes' is deprecated and will be removed in a future version. Please use 'Series.transpose' instead.\n",
      "  return bound(*args, **kwds)\n"
     ]
    }
   ],
   "source": [
    "# Break the data up into 4 arrays\n",
    "X_split = np.array_split(X, 4)\n",
    "y_split = np.array_split(y, 4)"
   ]
  },
  {
   "cell_type": "code",
   "execution_count": 7,
   "id": "dcb904a9-3897-4f44-862c-3eb68c8730b7",
   "metadata": {},
   "outputs": [],
   "source": [
    "# Convert to lists of values\n",
    "X_split0 = X_split[0].tolist()\n",
    "X_split1 = X_split[1].tolist()\n",
    "X_split2 = X_split[2].tolist()\n",
    "X_split3 = X_split[3].tolist()\n",
    "y_split0 = y_split[0].tolist()\n",
    "y_split1 = y_split[1].tolist()\n",
    "y_split2 = y_split[2].tolist()\n",
    "y_split3 = y_split[3].tolist()"
   ]
  },
  {
   "cell_type": "code",
   "execution_count": 8,
   "id": "8b9307d2-c088-4132-a5fa-0d37ee0eb732",
   "metadata": {},
   "outputs": [],
   "source": [
    "# Define the scaler\n",
    "scaler = StandardScaler()"
   ]
  },
  {
   "cell_type": "code",
   "execution_count": 9,
   "id": "a8a5174b-4b3f-4716-9a1a-452aa4bf38db",
   "metadata": {},
   "outputs": [],
   "source": [
    "#define functions that create batches and then shuffle those batches\n",
    "def create_batches(iterable_X, iterable_y, batch_number, batch_size):\n",
    "    X_batches = []\n",
    "    y_batches = []\n",
    "    for i in range(batch_number):\n",
    "        X_batches.append(iterable_X[i*batch_size:(i+1)*batch_size])\n",
    "        y_batches.append(iterable_y[i*batch_size:(i+1)*batch_size])\n",
    "    return X_batches, y_batches\n",
    "    \n",
    "\n",
    "def shuffle_batch(iterable_X, iterable_y,shuffle_number):\n",
    "    indices = [i for i in shuffle_number]\n",
    "    random.shuffle(indices)\n",
    "    shuffledX = [iterable_X[i] for i in indices]\n",
    "    shuffledy = [iterable_y[i] for i in indices]\n",
    "    return shuffledX, shuffledy"
   ]
  },
  {
   "cell_type": "code",
   "execution_count": 10,
   "id": "716da462-2b7e-43df-8c4a-067e876a716b",
   "metadata": {},
   "outputs": [],
   "source": [
    "# Define the model that accepts the scaled features (training data), \n",
    "# a 'firstRun' flag to distinguish between the first run-through and online training, and trains an SGD classifier \n",
    "# the function returns a loaded model\n",
    "\n",
    "def SGD_MODClassifier(scaledData_X, scaledData_Y, firstRun=0, model=None):\n",
    "    \n",
    "    try:\n",
    "        # for a reproducible result\n",
    "        np.random.seed(123)\n",
    "        #HyperParameter and model element assigning\n",
    "        xTrain = scaledData_X\n",
    "        yTrain = scaledData_Y\n",
    "\n",
    "\n",
    "        # Make sure model is only created once and trained numerously\n",
    "        if(firstRun==1):\n",
    "            model =  SGDClassifier(loss=\"hinge\", penalty=\"l2\", alpha=0.0001, max_iter=3000, tol=None, shuffle=True, verbose=0, learning_rate='adaptive', eta0=0.01, early_stopping=False)\n",
    "            # Suggested number of passes for convergence\n",
    "            model.n_iter = np.ceil(10**6 / len(yTrain))\n",
    "            # Train model using fit\n",
    "            model.fit(xTrain, yTrain)\n",
    "        else:\n",
    "            batch_size = 500\n",
    "            batch_number = int(np.ceil(len(xTrain) / float(batch_size)))\n",
    "            X_train_batches, y_train_batches = create_batches(xTrain,yTrain, batch_number, batch_size)\n",
    "            # Use the model passed to the function\n",
    "            # we repeat partial fit for all shuffled batches.\n",
    "            for _ in range(3):\n",
    "                for chunk_X, chunk_y in zip(X_train_batches, y_train_batches):\n",
    "                    shuffle_number = range(len(chunk_X))\n",
    "                    chunk_X, chunk_y = shuffle_batch(chunk_X, chunk_y, shuffle_number)\n",
    "                    model.partial_fit(chunk_X, chunk_y)\n",
    "            \n",
    "        \n",
    "        print('Done Training')\n",
    "        message = \"Successfully trained SGD_MODClassifier\"\n",
    "\n",
    "    except Exception as e:\n",
    "        message = e\n",
    "        model = None\n",
    "\n",
    "    return message, model"
   ]
  },
  {
   "cell_type": "code",
   "execution_count": 11,
   "id": "d1ffeaee-bbbe-47db-8f50-a7fb078e6b2d",
   "metadata": {},
   "outputs": [
    {
     "name": "stdout",
     "output_type": "stream",
     "text": [
      "Done Training\n",
      "Successfully trained SGD_MODClassifier\n"
     ]
    },
    {
     "data": {
      "text/plain": [
       "0.9460227272727273"
      ]
     },
     "execution_count": 11,
     "metadata": {},
     "output_type": "execute_result"
    }
   ],
   "source": [
    "# Part 1: fit for first time\n",
    "X_train, X_test, y_train, y_test = train_test_split(X_split0,y_split0,random_state=123)\n",
    "\n",
    "# Scale the data to be between -1 and 1\n",
    "scaler.fit(X_train)\n",
    "X_train = scaler.transform(X_train)\n",
    "X_test = scaler.transform(X_test)\n",
    "\n",
    "# run the model and evaluate\n",
    "message, model = SGD_MODClassifier(X_train, y_train, 1); print(message)\n",
    "model.score(X_test, y_test)"
   ]
  },
  {
   "cell_type": "code",
   "execution_count": 12,
   "id": "1d42a855-9435-436c-add0-3923a928ac62",
   "metadata": {},
   "outputs": [],
   "source": [
    "#Save model\n",
    "import pickle\n",
    "modelSaveFile = 'model_data_id.sav'\n",
    "pickle.dump(model, open(modelSaveFile, 'wb'))"
   ]
  },
  {
   "cell_type": "code",
   "execution_count": 13,
   "id": "162d0d54-165c-4d35-85ca-7a4dbb3c8c31",
   "metadata": {},
   "outputs": [
    {
     "name": "stdout",
     "output_type": "stream",
     "text": [
      "Done Training\n",
      "Successfully trained SGD_MODClassifier\n",
      "0.9731691919191919\n"
     ]
    }
   ],
   "source": [
    "# Part 2: partial_fit\n",
    "X_train1, X_test1, y_train1, y_test1 = train_test_split(X_split1,y_split1,random_state=123)\n",
    "\n",
    "# Load the model\n",
    "model = pickle.load(open(modelSaveFile, 'rb'))\n",
    "\n",
    "# Scale the data to be between -1 and 1\n",
    "scaler.fit(X_train1)\n",
    "X_train1 = scaler.transform(X_train1)\n",
    "X_test1 = scaler.transform(X_test1)\n",
    "\n",
    "message, model = SGD_MODClassifier(X_train1, y_train1, 0, model); print(message)\n",
    "print(model.score(X_test1, y_test1))\n",
    "\n",
    "# Save model\n",
    "modelSaveFile = 'model_data_id2.sav'\n",
    "pickle.dump(model, open(modelSaveFile, 'wb'))"
   ]
  },
  {
   "cell_type": "code",
   "execution_count": 14,
   "id": "454f54e8-8c6d-44ab-9491-c365f9d3ef2a",
   "metadata": {},
   "outputs": [
    {
     "name": "stdout",
     "output_type": "stream",
     "text": [
      "Done Training\n",
      "Successfully trained SGD_MODClassifier\n",
      "0.9390782828282829\n"
     ]
    }
   ],
   "source": [
    "# Part 3: partial_fit\n",
    "X_train2, X_test2, y_train2, y_test2 = train_test_split(X_split2,y_split2,random_state=123)\n",
    "\n",
    "# Load the model\n",
    "model = pickle.load(open(modelSaveFile, 'rb'))\n",
    "# Scale the data to be between -1 and 1\n",
    "scaler.fit(X_train2)\n",
    "X_train2 = scaler.transform(X_train2)\n",
    "X_test2 = scaler.transform(X_test2)\n",
    "\n",
    "message, model = SGD_MODClassifier(X_train2, y_train2, 0, model); print(message)\n",
    "print(model.score(X_test2, y_test2))\n",
    "\n",
    "# Save model\n",
    "modelSaveFile = 'model_data_id3.sav'\n",
    "pickle.dump(model, open(modelSaveFile, 'wb'))"
   ]
  },
  {
   "cell_type": "code",
   "execution_count": 15,
   "id": "dc2e2995-7689-4a8a-8e99-8ef17ffa38fa",
   "metadata": {},
   "outputs": [
    {
     "name": "stdout",
     "output_type": "stream",
     "text": [
      "Done Training\n",
      "Successfully trained SGD_MODClassifier\n",
      "0.9384469696969697\n"
     ]
    }
   ],
   "source": [
    "# Part 4: partial_fit\n",
    "X_train3, X_test3, y_train3, y_test3 = train_test_split(X_split3,y_split3,random_state=123)\n",
    "\n",
    "# Load the model\n",
    "model = pickle.load(open(modelSaveFile, 'rb'))\n",
    "# Scale the data to be between -1 and 1\n",
    "scaler.fit(X_train3)\n",
    "X_train3 = scaler.transform(X_train3)\n",
    "X_test3 = scaler.transform(X_test3)\n",
    "\n",
    "message, model = SGD_MODClassifier(X_train3, y_train3, 0, model); print(message)\n",
    "print(model.score(X_test3, y_test3))\n",
    "\n",
    "# Save model\n",
    "modelSaveFile = 'model_data_id4.sav'\n",
    "pickle.dump(model, open(modelSaveFile, 'wb'))"
   ]
  },
  {
   "cell_type": "code",
   "execution_count": null,
   "id": "66de05a1-099d-421a-a16b-fb0624c354bb",
   "metadata": {},
   "outputs": [],
   "source": [
    "#evaluation of the previous model iterations "
   ]
  },
  {
   "cell_type": "code",
   "execution_count": 16,
   "id": "477daf3a-692e-432c-922b-df8fbd275db3",
   "metadata": {},
   "outputs": [],
   "source": [
    "from sklearn.metrics import accuracy_score\n",
    "from sklearn.metrics import precision_score\n",
    "from sklearn.metrics import recall_score\n",
    "from sklearn.metrics import f1_score\n",
    "\n",
    "def metrics(yActual, yPredicted):\n",
    "    print(f'accuracy_score: {accuracy_score(yActual, yPredicted)}')\n",
    "    print(f\"f1 score: {f1_score(yActual, yPredicted, average='weighted')}\")\n",
    "    print(f\"precision score: {precision_score(yActual, yPredicted, average='weighted')}\")\n",
    "    print(f\"recall score: {recall_score(yActual, yPredicted, average='weighted')}\")"
   ]
  },
  {
   "cell_type": "code",
   "execution_count": 17,
   "id": "9e15c308-58c7-4445-8446-b4c54e15723c",
   "metadata": {},
   "outputs": [
    {
     "name": "stdout",
     "output_type": "stream",
     "text": [
      "accuracy_score: 0.9179292929292929\n",
      "f1 score: 0.9159685748659036\n",
      "precision score: 0.9325569287208335\n",
      "recall score: 0.9179292929292929\n"
     ]
    }
   ],
   "source": [
    "metrics(y_test, model.predict(X_test))"
   ]
  },
  {
   "cell_type": "code",
   "execution_count": 18,
   "id": "fb3f79ba-af55-4199-ae31-bbb2d490c5c5",
   "metadata": {},
   "outputs": [
    {
     "name": "stdout",
     "output_type": "stream",
     "text": [
      "accuracy_score: 0.9176136363636364\n",
      "f1 score: 0.9138808315305065\n",
      "precision score: 0.9271395691693096\n",
      "recall score: 0.9176136363636364\n"
     ]
    }
   ],
   "source": [
    "metrics(y_test1, model.predict(X_test1))"
   ]
  },
  {
   "cell_type": "code",
   "execution_count": 19,
   "id": "3947df4f-bf58-4bd7-b211-79eb79e08907",
   "metadata": {},
   "outputs": [
    {
     "name": "stdout",
     "output_type": "stream",
     "text": [
      "accuracy_score: 0.9232954545454546\n",
      "f1 score: 0.9209866792681215\n",
      "precision score: 0.9345759897658288\n",
      "recall score: 0.9232954545454546\n"
     ]
    }
   ],
   "source": [
    "metrics(y_test2, model.predict(X_test2))"
   ]
  },
  {
   "cell_type": "code",
   "execution_count": 20,
   "id": "d9046afa-7369-45db-bae6-d545f82ac1d8",
   "metadata": {},
   "outputs": [
    {
     "name": "stdout",
     "output_type": "stream",
     "text": [
      "accuracy_score: 0.9384469696969697\n",
      "f1 score: 0.9363272705233328\n",
      "precision score: 0.9435476027909792\n",
      "recall score: 0.9384469696969697\n"
     ]
    }
   ],
   "source": [
    "metrics(y_test3, model.predict(X_test3))"
   ]
  },
  {
   "cell_type": "code",
   "execution_count": null,
   "id": "a8c8a6e8-ac53-466e-b7c9-4d28e7a4f243",
   "metadata": {},
   "outputs": [],
   "source": [
    "#The results were very similar to the other notebook and the danger of overfitting still looms. "
   ]
  }
 ],
 "metadata": {
  "kernelspec": {
   "display_name": "Python 3 (ipykernel)",
   "language": "python",
   "name": "python3"
  },
  "language_info": {
   "codemirror_mode": {
    "name": "ipython",
    "version": 3
   },
   "file_extension": ".py",
   "mimetype": "text/x-python",
   "name": "python",
   "nbconvert_exporter": "python",
   "pygments_lexer": "ipython3",
   "version": "3.11.9"
  }
 },
 "nbformat": 4,
 "nbformat_minor": 5
}
